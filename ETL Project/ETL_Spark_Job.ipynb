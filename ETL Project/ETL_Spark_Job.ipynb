{
  "cells": [
    {
      "cell_type": "markdown",
      "metadata": {
        "id": "view-in-github",
        "colab_type": "text"
      },
      "source": [
        "<a href=\"https://colab.research.google.com/github/desininja/DE1_practice/blob/4-project-etl/ETL_Spark_Job.ipynb\" target=\"_parent\"><img src=\"https://colab.research.google.com/assets/colab-badge.svg\" alt=\"Open In Colab\"/></a>"
      ]
    },
    {
      "cell_type": "code",
      "execution_count": 123,
      "metadata": {
        "id": "U3hilBieVouW"
      },
      "outputs": [],
      "source": [
        "#!pip install pyspark"
      ]
    },
    {
      "cell_type": "code",
      "execution_count": 20,
      "metadata": {
        "id": "8iir919vV7pa"
      },
      "outputs": [],
      "source": [
        "from pyspark.sql import SparkSession\n",
        "\n",
        "spark = SparkSession.builder.appName(\"ETL Project\").master('local').getOrCreate()\n",
        "\n",
        "sc = spark.sparkContext"
      ]
    },
    {
      "cell_type": "code",
      "execution_count": 21,
      "metadata": {
        "id": "_R73lGuaYLzb"
      },
      "outputs": [],
      "source": [
        "from pyspark.sql.types import StructType, StructField, IntegerType, StringType,BooleanType, DoubleType,LongType,FloatType\n"
      ]
    },
    {
      "cell_type": "code",
      "execution_count": 22,
      "metadata": {
        "id": "5o8pSsHCYyCx"
      },
      "outputs": [],
      "source": [
        "fileSchema = StructType([StructField('year',IntegerType(),True),\n",
        "                        StructField('month',StringType(),True),\n",
        "                         StructField('day',IntegerType(),True),\n",
        "                         StructField('weekday',StringType(),True),\n",
        "                         StructField('hour',IntegerType(),True),\n",
        "                         StructField('atm_status',StringType(),True),\n",
        "                         StructField('atm_id',StringType(),True),\n",
        "                         StructField('atm_manufacturer',StringType(),True),\n",
        "                         StructField('atm_location',StringType(),True),\n",
        "                         StructField('atm_streetname',StringType(),True),\n",
        "                         StructField('atm_street_number',IntegerType(),True),\n",
        "                         StructField('atm_zipcode',IntegerType(),True),\n",
        "                         StructField('atm_lat',DoubleType(),True),\n",
        "                         StructField('atm_lon',DoubleType(),True),\n",
        "                         StructField('currency',StringType(),True),\n",
        "                         StructField('card_type',StringType(),True),\n",
        "                         StructField('transaction_amount',IntegerType(),True),\n",
        "                         StructField('service',StringType(),True),\n",
        "                         StructField('message_code',StringType(),True),\n",
        "                         StructField('message_text',StringType(),True),\n",
        "                         StructField('weather_lat',DoubleType(),True),\n",
        "                         StructField('weather_lon',DoubleType(),True),\n",
        "                         StructField('weather_city_id',IntegerType(),True),\n",
        "                         StructField('weather_city_name',StringType(),True),\n",
        "                         StructField('temp',DoubleType(),True),\n",
        "                         StructField('pressure',IntegerType(),True),\n",
        "                         StructField('humidity',IntegerType(),True),\n",
        "                         StructField('wind_speed',IntegerType(),True),\n",
        "                         StructField('wind_deg',IntegerType(),True),\n",
        "                         StructField('rain_3h',DoubleType(),True),\n",
        "                         StructField('clouds_all',IntegerType(),True),\n",
        "                         StructField('weather_id',IntegerType(),True),\n",
        "                         StructField('weather_main',StringType(),True),\n",
        "                         StructField('weather_description',StringType(),True)])\n"
      ]
    },
    {
      "cell_type": "code",
      "execution_count": 135,
      "metadata": {
        "id": "ItoC62BAWpQU"
      },
      "outputs": [],
      "source": [
        "#df1 = spark.read.csv('/content/atm_data_part1.csv',header=True,schema=fileSchema,sep=',')\n",
        "#df2 = spark.read.csv('/content/atm_data_part2.csv',header=True,schema=fileSchema,sep=',')\n",
        "\n",
        "df = spark.read.csv('/content/atm_transaction.csv',schema = fileSchema, sep=',')"
      ]
    },
    {
      "cell_type": "code",
      "execution_count": 129,
      "metadata": {
        "colab": {
          "base_uri": "https://localhost:8080/"
        },
        "id": "sj6SmEQyXeIL",
        "outputId": "8b9c3ac4-e876-4621-b684-7a664576e4e4"
      },
      "outputs": [
        {
          "output_type": "stream",
          "name": "stdout",
          "text": [
            "+----+-------+---+-------+----+----------+------+----------------+------------------+--------------------+-----------------+-----------+-------+-------+--------+--------------------+------------------+----------+------------+------------+-----------+-----------+---------------+-----------------+------+--------+--------+----------+--------+-------+----------+----------+------------+--------------------+\n",
            "|year|  month|day|weekday|hour|atm_status|atm_id|atm_manufacturer|      atm_location|      atm_streetname|atm_street_number|atm_zipcode|atm_lat|atm_lon|currency|           card_type|transaction_amount|   service|message_code|message_text|weather_lat|weather_lon|weather_city_id|weather_city_name|  temp|pressure|humidity|wind_speed|wind_deg|rain_3h|clouds_all|weather_id|weather_main| weather_description|\n",
            "+----+-------+---+-------+----+----------+------+----------------+------------------+--------------------+-----------------+-----------+-------+-------+--------+--------------------+------------------+----------+------------+------------+-----------+-----------+---------------+-----------------+------+--------+--------+----------+--------+-------+----------+----------+------------+--------------------+\n",
            "|2017|January|  1| Sunday|   0|    Active|     1|             NCR|        NÃƒÂ¦stved|         Farimagsvej|                8|       4700| 55.233| 11.763|     DKK|          MasterCard|              5643|Withdrawal|        NULL|        NULL|      55.23|     11.761|        2616038|         Naestved|281.15|    1014|      87|         7|     260|  0.215|        92|       500|        Rain|          light rain|\n",
            "|2017|January|  1| Sunday|   0|  Inactive|     2|             NCR|          Vejgaard|          Hadsundvej|               20|       9000| 57.043|   9.95|     DKK|          MasterCard|              1764|Withdrawal|        NULL|        NULL|     57.048|      9.935|        2616235|   NÃƒÂ¸rresundby|280.64|    1020|      93|         9|     250|   0.59|        92|       500|        Rain|          light rain|\n",
            "|2017|January|  1| Sunday|   0|  Inactive|     2|             NCR|          Vejgaard|          Hadsundvej|               20|       9000| 57.043|   9.95|     DKK|                VISA|              1891|Withdrawal|        NULL|        NULL|     57.048|      9.935|        2616235|   NÃƒÂ¸rresundby|280.64|    1020|      93|         9|     250|   0.59|        92|       500|        Rain|          light rain|\n",
            "|2017|January|  1| Sunday|   0|  Inactive|     3|             NCR|             Ikast| RÃƒÂ¥dhusstrÃƒÂ¦det|               12|       7430| 56.139|  9.154|     DKK|                VISA|              4166|Withdrawal|        NULL|        NULL|     56.139|      9.158|        2619426|            Ikast|281.15|    1011|     100|         6|     240|    0.0|        75|       300|     Drizzle|light intensity d...|\n",
            "|2017|January|  1| Sunday|   0|    Active|     4|             NCR|        Svogerslev|        BrÃƒÂ¸nsager|                1|       4000| 55.634| 12.018|     DKK|          MasterCard|              5153|Withdrawal|        NULL|        NULL|     55.642|      12.08|        2614481|         Roskilde|280.61|    1014|      87|         7|     260|    0.0|        88|       701|        Mist|                mist|\n",
            "|2017|January|  1| Sunday|   0|    Active|     5|             NCR|              Nibe|              Torvet|                1|       9240| 56.983|  9.639|     DKK|          MasterCard|              3269|Withdrawal|        NULL|        NULL|     56.981|      9.639|        2616483|             Nibe|280.64|    1020|      93|         9|     250|   0.59|        92|       500|        Rain|          light rain|\n",
            "|2017|January|  1| Sunday|   0|    Active|     6|             NCR|        Fredericia|    SjÃƒÂ¦llandsgade|               33|       7000| 55.564|  9.757|     DKK|          MasterCard|               887|Withdrawal|        NULL|        NULL|     55.566|      9.753|        2621951|       Fredericia|281.15|    1014|      93|         7|     230|   0.29|        92|       500|        Rain|          light rain|\n",
            "|2017|January|  1| Sunday|   0|    Active|     7| Diebold Nixdorf|         Hjallerup|   Hjallerup Centret|               18|       9320| 57.168| 10.148|     DKK|  Mastercard - on-us|              4626|Withdrawal|        NULL|        NULL|     57.165|     10.146|        2620275|        Hjallerup|280.64|    1020|      93|         9|     250|   0.59|        92|       500|        Rain|          light rain|\n",
            "|2017|January|  1| Sunday|   0|    Active|     8|             NCR|       GlyngÃƒÂ¸re|         FÃƒÂ¦rgevej|                1|       7870| 56.762|  8.867|     DKK|          MasterCard|               470|Withdrawal|        NULL|        NULL|     56.793|      8.853|        2615964|    Nykobing Mors|281.15|    1011|     100|         6|     240|    0.0|        75|       300|     Drizzle|light intensity d...|\n",
            "|2017|January|  1| Sunday|   0|    Active|     9| Diebold Nixdorf|           Hadsund|           Storegade|               12|       9560| 56.716| 10.114|     DKK|                VISA|              8473|Withdrawal|        NULL|        NULL|     56.715|     10.117|        2620952|          Hadsund|280.64|    1020|      93|         9|     250|   0.59|        92|       500|        Rain|          light rain|\n",
            "|2017|January|  1| Sunday|   0|    Active|    10|             NCR|    NÃƒÂ¸rresundby|              Torvet|                6|       9400| 57.059|  9.922|     DKK|             Dankort|               953|Withdrawal|        NULL|        NULL|     57.048|      9.919|        2624886|          Aalborg|280.64|    1020|      93|         9|     250|   0.59|        92|       500|        Rain|          light rain|\n",
            "|2017|January|  1| Sunday|   0|    Active|    11|             NCR|         Sauersvej|Fridtjof Nansens Vej|                2|       9210| 57.023|   9.94|     DKK|        Visa Dankort|              9346|Withdrawal|        NULL|        NULL|     57.048|      9.935|        2616235|   NÃƒÂ¸rresundby|280.64|    1020|      93|         9|     250|   0.59|        92|       500|        Rain|          light rain|\n",
            "|2017|January|  1| Sunday|   0|  Inactive|     2|             NCR|          Vejgaard|          Hadsundvej|               20|       9000| 57.043|   9.95|     DKK|  Mastercard - on-us|              3874|Withdrawal|        NULL|        NULL|     57.048|      9.935|        2616235|   NÃƒÂ¸rresundby|280.64|    1020|      93|         9|     250|   0.59|        92|       500|        Rain|          light rain|\n",
            "|2017|January|  1| Sunday|   0|  Inactive|    12|             NCR|ÃƒËœsterÃƒÂ¥  Duus|        ÃƒËœsterÃƒÂ¥|               12|       9000| 57.049|  9.922|     DKK|  Mastercard - on-us|              1329|Withdrawal|        NULL|        NULL|     57.048|      9.919|        2624886|          Aalborg|280.64|    1020|      93|         9|     250|   0.59|        92|       500|        Rain|          light rain|\n",
            "|2017|January|  1| Sunday|   0|    Active|    13|             NCR|           SÃƒÂ¦by|          Vestergade|                3|       9300| 57.334| 10.515|     DKK|  Mastercard - on-us|              5024|Withdrawal|        NULL|        NULL|     57.441|     10.537|        2621927|    Frederikshavn|281.14|    1019|      94|        12|     251|  1.275|        92|       500|        Rain|          light rain|\n",
            "|2017|January|  1| Sunday|   0|  Inactive|    14|             NCR|        HÃƒÂ¸rning|        NÃƒÂ¸rrealle|               12|       8362| 56.086| 10.037|     DKK|Visa Dankort - on-us|              1133|Withdrawal|        NULL|        NULL|     56.157|     10.211|        2624652|            Arhus|281.15|    1012|      87|         5|     250|    0.0|        92|       300|     Drizzle|light intensity d...|\n",
            "|2017|January|  1| Sunday|   0|    Active|    15|             NCR|            Vestre|           Kastetvej|               36|       9000| 57.053|  9.905|     DKK|          MasterCard|               594|Withdrawal|        NULL|        NULL|     57.048|      9.919|        2624886|          Aalborg|280.64|    1020|      93|         9|     250|   0.59|        92|       500|        Rain|          light rain|\n",
            "|2017|January|  1| Sunday|   0|  Inactive|    12|             NCR|ÃƒËœsterÃƒÂ¥  Duus|        ÃƒËœsterÃƒÂ¥|               12|       9000| 57.049|  9.922|     DKK|  Mastercard - on-us|              9570|Withdrawal|        NULL|        NULL|     57.048|      9.919|        2624886|          Aalborg|280.64|    1020|      93|         9|     250|   0.59|        92|       500|        Rain|          light rain|\n",
            "|2017|January|  1| Sunday|   0|  Inactive|    16|             NCR|             Skive|            Adelgade|                8|       7800| 56.567|  9.027|     DKK|        Visa Dankort|              6068|Withdrawal|        NULL|        NULL|     56.567|      9.033|        2613731|            Skive|281.15|    1012|     100|         7|     240|    0.0|        75|       300|     Drizzle|light intensity d...|\n",
            "|2017|January|  1| Sunday|   0|    Active|    17|             NCR|           Randers|        ÃƒËœstervold|               16|       8900| 56.462| 10.038|     DKK|                VISA|              1630|Withdrawal|        NULL|        NULL|     56.715|     10.117|        2620952|          Hadsund|280.64|    1020|      93|         9|     250|   0.59|        92|       500|        Rain|          light rain|\n",
            "+----+-------+---+-------+----+----------+------+----------------+------------------+--------------------+-----------------+-----------+-------+-------+--------+--------------------+------------------+----------+------------+------------+-----------+-----------+---------------+-----------------+------+--------+--------+----------+--------+-------+----------+----------+------------+--------------------+\n",
            "only showing top 20 rows\n",
            "\n"
          ]
        }
      ],
      "source": [
        "df.show()"
      ]
    },
    {
      "cell_type": "code",
      "execution_count": 130,
      "metadata": {
        "colab": {
          "base_uri": "https://localhost:8080/"
        },
        "id": "wGoYv9DuXh1H",
        "outputId": "2c248bf7-4d36-4ddb-ef30-9f92bdeffa7d"
      },
      "outputs": [
        {
          "output_type": "stream",
          "name": "stdout",
          "text": [
            "root\n",
            " |-- year: integer (nullable = true)\n",
            " |-- month: string (nullable = true)\n",
            " |-- day: integer (nullable = true)\n",
            " |-- weekday: string (nullable = true)\n",
            " |-- hour: integer (nullable = true)\n",
            " |-- atm_status: string (nullable = true)\n",
            " |-- atm_id: string (nullable = true)\n",
            " |-- atm_manufacturer: string (nullable = true)\n",
            " |-- atm_location: string (nullable = true)\n",
            " |-- atm_streetname: string (nullable = true)\n",
            " |-- atm_street_number: integer (nullable = true)\n",
            " |-- atm_zipcode: integer (nullable = true)\n",
            " |-- atm_lat: double (nullable = true)\n",
            " |-- atm_lon: double (nullable = true)\n",
            " |-- currency: string (nullable = true)\n",
            " |-- card_type: string (nullable = true)\n",
            " |-- transaction_amount: integer (nullable = true)\n",
            " |-- service: string (nullable = true)\n",
            " |-- message_code: string (nullable = true)\n",
            " |-- message_text: string (nullable = true)\n",
            " |-- weather_lat: double (nullable = true)\n",
            " |-- weather_lon: double (nullable = true)\n",
            " |-- weather_city_id: integer (nullable = true)\n",
            " |-- weather_city_name: string (nullable = true)\n",
            " |-- temp: double (nullable = true)\n",
            " |-- pressure: integer (nullable = true)\n",
            " |-- humidity: integer (nullable = true)\n",
            " |-- wind_speed: integer (nullable = true)\n",
            " |-- wind_deg: integer (nullable = true)\n",
            " |-- rain_3h: double (nullable = true)\n",
            " |-- clouds_all: integer (nullable = true)\n",
            " |-- weather_id: integer (nullable = true)\n",
            " |-- weather_main: string (nullable = true)\n",
            " |-- weather_description: string (nullable = true)\n",
            "\n"
          ]
        }
      ],
      "source": [
        "df.printSchema()"
      ]
    },
    {
      "cell_type": "code",
      "execution_count": 136,
      "metadata": {
        "colab": {
          "base_uri": "https://localhost:8080/"
        },
        "id": "7-0llwD3XpRW",
        "outputId": "409abe1a-ac78-4e5b-ae00-f050e2feffa8"
      },
      "outputs": [
        {
          "output_type": "execute_result",
          "data": {
            "text/plain": [
              "2468572"
            ]
          },
          "metadata": {},
          "execution_count": 136
        }
      ],
      "source": [
        "df.count()"
      ]
    },
    {
      "cell_type": "code",
      "execution_count": 133,
      "metadata": {
        "id": "cMTCGufqae5n",
        "colab": {
          "base_uri": "https://localhost:8080/"
        },
        "outputId": "ed024faf-4ad7-45b0-c4a9-4a980d7d0fb2"
      },
      "outputs": [
        {
          "output_type": "execute_result",
          "data": {
            "text/plain": [
              "2455866"
            ]
          },
          "metadata": {},
          "execution_count": 133
        }
      ],
      "source": [
        "df.count()"
      ]
    },
    {
      "cell_type": "markdown",
      "metadata": {
        "id": "6dzynp7fgNWr"
      },
      "source": []
    },
    {
      "cell_type": "code",
      "execution_count": 137,
      "metadata": {
        "colab": {
          "base_uri": "https://localhost:8080/"
        },
        "id": "yTJexpqyhSo6",
        "outputId": "6f750691-327e-4474-b69e-fefa5daf1c8c"
      },
      "outputs": [
        {
          "output_type": "execute_result",
          "data": {
            "text/plain": [
              "['year',\n",
              " 'month',\n",
              " 'day',\n",
              " 'weekday',\n",
              " 'hour',\n",
              " 'atm_status',\n",
              " 'atm_id',\n",
              " 'atm_manufacturer',\n",
              " 'atm_location',\n",
              " 'atm_streetname',\n",
              " 'atm_street_number',\n",
              " 'atm_zipcode',\n",
              " 'atm_lat',\n",
              " 'atm_lon',\n",
              " 'currency',\n",
              " 'card_type',\n",
              " 'transaction_amount',\n",
              " 'service',\n",
              " 'message_code',\n",
              " 'message_text',\n",
              " 'weather_lat',\n",
              " 'weather_lon',\n",
              " 'weather_city_id',\n",
              " 'weather_city_name',\n",
              " 'temp',\n",
              " 'pressure',\n",
              " 'humidity',\n",
              " 'wind_speed',\n",
              " 'wind_deg',\n",
              " 'rain_3h',\n",
              " 'clouds_all',\n",
              " 'weather_id',\n",
              " 'weather_main',\n",
              " 'weather_description']"
            ]
          },
          "metadata": {},
          "execution_count": 137
        }
      ],
      "source": [
        "df.columns"
      ]
    },
    {
      "cell_type": "code",
      "execution_count": 138,
      "metadata": {
        "id": "aHczSbkCmPLM"
      },
      "outputs": [],
      "source": [
        "from pyspark.sql.types import *\n",
        "from pyspark.sql.window import Window\n",
        "import pyspark.sql.functions as F\n",
        "from pyspark.sql.functions import row_number\n",
        "from pyspark.sql.functions import col, concat_ws\n"
      ]
    },
    {
      "cell_type": "code",
      "execution_count": 139,
      "metadata": {
        "id": "qZMO_1lorIvZ"
      },
      "outputs": [],
      "source": [
        "#Location dimension - This is a very important dimension containing all the location data including\n",
        "#location name, street name, street number, zip code and even the latitude and longitude. This\n",
        "#information will be very important for solving problems related to the particular location at which\n",
        "#a transaction took place and can help banks in things like pinpointing locations where ATMs where\n",
        "#demand is higher as compared to other locations. Combined with weather data in the transaction table,\n",
        "# this can be used to further do analysis such as how weather affects the demand at ATMs\n",
        "#at a particular location.\n",
        "\n",
        "\n",
        "dim_location = df.select(col('atm_location').alias('location'),col('atm_streetname').alias('street_name'),col('atm_street_number').alias('street_number'),col('atm_zipcode').alias('zipcode'),col('atm_lat').alias('lat'),col('atm_lon').alias('lon')).distinct()\n"
      ]
    },
    {
      "cell_type": "code",
      "execution_count": 140,
      "metadata": {
        "colab": {
          "base_uri": "https://localhost:8080/"
        },
        "id": "HHrmRez7trRx",
        "outputId": "e3e625ae-3696-4be2-ae34-7c2e7b0a3b21"
      },
      "outputs": [
        {
          "output_type": "stream",
          "name": "stdout",
          "text": [
            "+--------------------+-------------------+-------------+-------+------+-----+-----------+\n",
            "|            location|        street_name|street_number|zipcode|   lat|  lon|location_id|\n",
            "+--------------------+-------------------+-------------+-------+------+-----+-----------+\n",
            "|          SÃƒÂ¦dding|        Tarphagevej|           59|   6710|55.498|8.408|          1|\n",
            "|             Esbjerg|       Strandbygade|           20|   6700|55.468| 8.44|          2|\n",
            "|           Holstebro|        Hostrupsvej|            6|   7500|56.373|8.625|          3|\n",
            "|            Vinderup|      SÃƒÂ¸ndergade|            5|   7830|56.481|8.779|          4|\n",
            "|NykÃƒÂ¸bing Mors ...|        Kirketorvet|            1|   7900|56.795| 8.86|          5|\n",
            "|    NykÃƒÂ¸bing Mors|        Kirketorvet|            1|   7900|56.795| 8.86|          6|\n",
            "|         GlyngÃƒÂ¸re|        FÃƒÂ¦rgevej|            1|   7870|56.762|8.867|          7|\n",
            "|               Durup|             Torvet|            4|   7870|56.745|8.949|          8|\n",
            "|             Herning|         Dalgasgade|           30|   7400|56.135|8.971|          9|\n",
            "|             Jebjerg|          Kirkegade|            4|   7870|56.671|9.013|         10|\n",
            "|                 Fur|         StenÃƒÂ¸re|           19|   7884|56.805| 9.02|         11|\n",
            "|         Skive Lobby|           Adelgade|            8|   7800|56.567|9.027|         12|\n",
            "|               Skive|           Adelgade|            8|   7800|56.567|9.027|         13|\n",
            "|       Intern  Skive|           Adelgade|            8|   7800|56.567|9.027|         14|\n",
            "|     Brugsen i Breum|      AakjÃƒÂ¦rsvej|            1|   7870|56.688|9.069|         15|\n",
            "|          HÃƒÂ¸jslev|     ÃƒËœsterrisvej|            2|   7840|56.551| 9.11|         16|\n",
            "|               Ikast|RÃƒÂ¥dhusstrÃƒÂ¦det|           12|   7430|56.139|9.154|         17|\n",
            "|    DAYZ Feriecenter|         LivÃƒÂ¸vej|           80|   9681|56.893|9.171|         18|\n",
            "|       LÃƒÂ¸gstÃƒÂ¸r|    ÃƒËœsterbrogade|            8|   9670|56.967|9.253|         19|\n",
            "|            FarsÃƒÂ¸|             Torvet|            8|   9640|56.771| 9.34|         20|\n",
            "+--------------------+-------------------+-------------+-------+------+-----+-----------+\n",
            "only showing top 20 rows\n",
            "\n"
          ]
        }
      ],
      "source": [
        "dim_location = dim_location.select('location','street_name','street_number','zipcode','lat','lon',F.row_number().over(Window.partitionBy().orderBy(dim_location['lon'])).alias('location_id'))\n",
        "dim_location.show()\n"
      ]
    },
    {
      "cell_type": "code",
      "execution_count": 141,
      "metadata": {
        "id": "XrZG0ZTAt5aJ",
        "colab": {
          "base_uri": "https://localhost:8080/"
        },
        "outputId": "c67d3799-9183-4e69-ef4c-77e2afe77a9f"
      },
      "outputs": [
        {
          "output_type": "execute_result",
          "data": {
            "text/plain": [
              "109"
            ]
          },
          "metadata": {},
          "execution_count": 141
        }
      ],
      "source": [
        "dim_location.count()"
      ]
    },
    {
      "cell_type": "code",
      "execution_count": 142,
      "metadata": {
        "colab": {
          "base_uri": "https://localhost:8080/"
        },
        "id": "8zXSl8TWgR0b",
        "outputId": "3d7d2ff6-a592-4227-8ea5-ed63cb2ea9c1"
      },
      "outputs": [
        {
          "output_type": "stream",
          "name": "stdout",
          "text": [
            "+----------+---------------+-----------+\n",
            "|atm_number|   manufacturer|location_id|\n",
            "+----------+---------------+-----------+\n",
            "|        45|            NCR|         84|\n",
            "|       105|Diebold Nixdorf|         50|\n",
            "|        46|Diebold Nixdorf|        109|\n",
            "|        69|            NCR|         72|\n",
            "|        67|            NCR|         16|\n",
            "|        97|            NCR|         73|\n",
            "|        48|Diebold Nixdorf|         56|\n",
            "|        77|            NCR|         91|\n",
            "|        30|            NCR|          6|\n",
            "|       106|            NCR|        100|\n",
            "|       101|            NCR|         24|\n",
            "|        75|            NCR|         53|\n",
            "|        80|            NCR|         68|\n",
            "|        78|Diebold Nixdorf|         92|\n",
            "|        51|            NCR|         61|\n",
            "|         6|            NCR|         32|\n",
            "|        85|Diebold Nixdorf|        106|\n",
            "|        23|Diebold Nixdorf|         64|\n",
            "|        65|            NCR|         70|\n",
            "|        86|            NCR|        102|\n",
            "+----------+---------------+-----------+\n",
            "only showing top 20 rows\n",
            "\n"
          ]
        }
      ],
      "source": [
        "#ATM dimension - This dimension will have the data related to the various ATMs\n",
        "#present in the dataset along with the ATM number(ATM ID in the original dataset),\n",
        "#ATM manufacturer and a reference to the ATM location and is very important for\n",
        "#solving analytical queries related where ATM data will be used.\n",
        "\n",
        "\n",
        "\n",
        "dim_atm = df.select(col('atm_location').alias('location'),\n",
        "                         col('atm_streetname').alias('street_name'),\n",
        "                         col('atm_street_number').alias('street_number'),\n",
        "                         col('atm_zipcode').alias('zipcode'),\n",
        "                         col('atm_lat').alias('lat'),\n",
        "                         col('atm_lon').alias('lon'),\n",
        "                         col(\"atm_id\").alias(\"atm_number\"),\n",
        "                         col(\"atm_manufacturer\").alias(\"manufacturer\")).distinct()\n",
        "\n",
        "\n",
        "dim_atm = dim_atm.join(dim_location, on=['location','street_name','street_number','zipcode','lat','lon'],how='left').select('atm_number','manufacturer','location_id')\n",
        "\n",
        "dim_atm.show()"
      ]
    },
    {
      "cell_type": "code",
      "source": [],
      "metadata": {
        "id": "kaTXtSXZQUtm"
      },
      "execution_count": 142,
      "outputs": []
    },
    {
      "cell_type": "code",
      "execution_count": 143,
      "metadata": {
        "colab": {
          "base_uri": "https://localhost:8080/"
        },
        "id": "Bbu0s5RUhFHp",
        "outputId": "1cf66b8d-e0fa-42c9-bdc8-fdc1627a7fe0"
      },
      "outputs": [
        {
          "output_type": "stream",
          "name": "stdout",
          "text": [
            "+----------+---------------+-----------+------+\n",
            "|atm_number|   manufacturer|location_id|atm_id|\n",
            "+----------+---------------+-----------+------+\n",
            "|         1|            NCR|         97|     1|\n",
            "|        10|            NCR|         50|     2|\n",
            "|       100|            NCR|         14|     3|\n",
            "|       101|            NCR|         24|     4|\n",
            "|       102|            NCR|         41|     5|\n",
            "|       103|Diebold Nixdorf|         57|     6|\n",
            "|       104|            NCR|         49|     7|\n",
            "|       105|Diebold Nixdorf|         50|     8|\n",
            "|       106|            NCR|        100|     9|\n",
            "|       107|Diebold Nixdorf|         22|    10|\n",
            "|       108|            NCR|         65|    11|\n",
            "|       109|Diebold Nixdorf|         43|    12|\n",
            "|        11|            NCR|         54|    13|\n",
            "|       110|Diebold Nixdorf|         95|    14|\n",
            "|       111|Diebold Nixdorf|         76|    15|\n",
            "|       112|Diebold Nixdorf|        108|    16|\n",
            "|       113|Diebold Nixdorf|         94|    17|\n",
            "|        12|            NCR|         52|    18|\n",
            "|        13|            NCR|         85|    19|\n",
            "|        14|            NCR|         66|    20|\n",
            "+----------+---------------+-----------+------+\n",
            "only showing top 20 rows\n",
            "\n"
          ]
        },
        {
          "output_type": "execute_result",
          "data": {
            "text/plain": [
              "113"
            ]
          },
          "metadata": {},
          "execution_count": 143
        }
      ],
      "source": [
        "dim_atm = dim_atm.select('atm_number','manufacturer','location_id',F.row_number().over(Window.partitionBy().orderBy(dim_atm['atm_number'])).alias(\"atm_id\"))\n",
        "dim_atm.show()\n",
        "dim_atm.count()\n"
      ]
    },
    {
      "cell_type": "code",
      "execution_count": 144,
      "metadata": {
        "id": "_wN23IFa4JGi"
      },
      "outputs": [],
      "source": [
        "\n",
        "from pyspark.sql.functions import *"
      ]
    },
    {
      "cell_type": "code",
      "execution_count": 145,
      "metadata": {
        "colab": {
          "base_uri": "https://localhost:8080/",
          "height": 35
        },
        "id": "lI6meNxrnX4F",
        "outputId": "cd207c00-731d-4305-84d1-0fcf63bade9e"
      },
      "outputs": [
        {
          "output_type": "execute_result",
          "data": {
            "text/plain": [
              "'01'"
            ],
            "application/vnd.google.colaboratory.intrinsic+json": {
              "type": "string"
            }
          },
          "metadata": {},
          "execution_count": 145
        }
      ],
      "source": [
        "#Date dimension - This is another very important dimension which is almost always present where data\n",
        "#such as transactional data is being dealt with. This dimension includes fields such as the full date\n",
        "#and time timestamp, year, month, day, hour as well as the weekday for a transaction. This all can help\n",
        "#in analysing the transaction behaviour with respect to the time at which the transaction took place\n",
        "#and also how the transaction activity varies between weekdays and weekends.\n",
        "\n",
        "\n",
        "\n",
        "def month_to_numeric(month_name):\n",
        "    # Extract the month name string from the Column object\n",
        "    month_name_str = str(month_name)\n",
        "    months = {\n",
        "        \"January\": \"01\",\n",
        "        \"February\": \"02\",\n",
        "        \"March\": \"03\",\n",
        "        \"April\": \"04\",\n",
        "        \"May\": \"05\",\n",
        "        \"June\": \"06\",\n",
        "        \"July\": \"07\",\n",
        "        \"August\": \"08\",\n",
        "        \"September\": \"09\",\n",
        "        \"October\": \"10\",\n",
        "        \"November\": \"11\",\n",
        "        \"December\": \"12\"\n",
        "    }\n",
        "    return months.get(month_name_str, \"00\")  # Return \"00\" for unknown months\n",
        "\n",
        "\n",
        "month_to_numeric(\"January\")\n",
        "\n"
      ]
    },
    {
      "cell_type": "code",
      "execution_count": 146,
      "metadata": {
        "id": "Qdnaw4iO2O8x"
      },
      "outputs": [],
      "source": [
        "dim_date = df.select('year','month','day','hour','weekday').distinct()"
      ]
    },
    {
      "cell_type": "code",
      "execution_count": 147,
      "metadata": {
        "id": "ehltH9Zq7_un",
        "colab": {
          "base_uri": "https://localhost:8080/"
        },
        "outputId": "b90dc6e6-c74a-4f50-bc34-31896cd9fd32"
      },
      "outputs": [
        {
          "output_type": "stream",
          "name": "stdout",
          "text": [
            "+----+--------+---+----+--------+-------------------+\n",
            "|year|   month|day|hour| weekday|          full_date|\n",
            "+----+--------+---+----+--------+-------------------+\n",
            "|2017| January|  1|   9|  Sunday|2017-01-01 09:00:00|\n",
            "|2017| January|  3|   5| Tuesday|2017-01-03 05:00:00|\n",
            "|2017| January|  8|  19|  Sunday|2017-01-08 19:00:00|\n",
            "|2017| January| 21|   3|Saturday|2017-01-21 03:00:00|\n",
            "|2017| January| 23|  21|  Monday|2017-01-23 21:00:00|\n",
            "|2017|February|  2|  19|Thursday|2017-02-02 19:00:00|\n",
            "|2017|February|  5|  16|  Sunday|2017-02-05 16:00:00|\n",
            "|2017|February| 21|  15| Tuesday|2017-02-21 15:00:00|\n",
            "|2017|   March|  2|   8|Thursday|2017-03-02 08:00:00|\n",
            "|2017|   April|  2|   2|  Sunday|2017-04-02 02:00:00|\n",
            "|2017|   April|  6|   8|Thursday|2017-04-06 08:00:00|\n",
            "|2017| January|  5|  21|Thursday|2017-01-05 21:00:00|\n",
            "|2017| January| 17|  17| Tuesday|2017-01-17 17:00:00|\n",
            "|2017| January| 22|  15|  Sunday|2017-01-22 15:00:00|\n",
            "|2017| January| 27|  22|  Friday|2017-01-27 22:00:00|\n",
            "|2017|February| 11|   7|Saturday|2017-02-11 07:00:00|\n",
            "|2017|February| 11|  13|Saturday|2017-02-11 13:00:00|\n",
            "|2017|February| 13|   3|  Monday|2017-02-13 03:00:00|\n",
            "|2017|February| 13|  12|  Monday|2017-02-13 12:00:00|\n",
            "|2017|February| 27|   5|  Monday|2017-02-27 05:00:00|\n",
            "+----+--------+---+----+--------+-------------------+\n",
            "only showing top 20 rows\n",
            "\n"
          ]
        }
      ],
      "source": [
        "res_date_df = dim_date.withColumn(\"full_date\",from_unixtime(unix_timestamp(concat(dim_date.year.cast(StringType()),dim_date.month.cast(StringType()),lpad(dim_date.day.cast(StringType()),2,'0'),lpad(dim_date.hour.cast(StringType()),2,'0')),'yyyyMMMMddHH'),'yyyy-MM-dd HH:mm:ss'))\n",
        "\n",
        "res_date_df.show()"
      ]
    },
    {
      "cell_type": "code",
      "execution_count": 148,
      "metadata": {
        "id": "0QRvq6gC2eQA",
        "colab": {
          "base_uri": "https://localhost:8080/"
        },
        "outputId": "e33a7f67-d2e5-4f1c-dcc0-edb768225403"
      },
      "outputs": [
        {
          "output_type": "stream",
          "name": "stdout",
          "text": [
            "+-------------------+----+-------+---+----+-------+-------+\n",
            "|          full_date|year|  month|day|hour|weekday|date_id|\n",
            "+-------------------+----+-------+---+----+-------+-------+\n",
            "|2017-01-01 00:00:00|2017|January|  1|   0| Sunday|      1|\n",
            "|2017-01-01 01:00:00|2017|January|  1|   1| Sunday|      2|\n",
            "|2017-01-01 02:00:00|2017|January|  1|   2| Sunday|      3|\n",
            "|2017-01-01 03:00:00|2017|January|  1|   3| Sunday|      4|\n",
            "|2017-01-01 04:00:00|2017|January|  1|   4| Sunday|      5|\n",
            "|2017-01-01 05:00:00|2017|January|  1|   5| Sunday|      6|\n",
            "|2017-01-01 06:00:00|2017|January|  1|   6| Sunday|      7|\n",
            "|2017-01-01 07:00:00|2017|January|  1|   7| Sunday|      8|\n",
            "|2017-01-01 08:00:00|2017|January|  1|   8| Sunday|      9|\n",
            "|2017-01-01 09:00:00|2017|January|  1|   9| Sunday|     10|\n",
            "|2017-01-01 10:00:00|2017|January|  1|  10| Sunday|     11|\n",
            "|2017-01-01 11:00:00|2017|January|  1|  11| Sunday|     12|\n",
            "|2017-01-01 12:00:00|2017|January|  1|  12| Sunday|     13|\n",
            "|2017-01-01 13:00:00|2017|January|  1|  13| Sunday|     14|\n",
            "|2017-01-01 14:00:00|2017|January|  1|  14| Sunday|     15|\n",
            "|2017-01-01 15:00:00|2017|January|  1|  15| Sunday|     16|\n",
            "|2017-01-01 16:00:00|2017|January|  1|  16| Sunday|     17|\n",
            "|2017-01-01 17:00:00|2017|January|  1|  17| Sunday|     18|\n",
            "|2017-01-01 18:00:00|2017|January|  1|  18| Sunday|     19|\n",
            "|2017-01-01 19:00:00|2017|January|  1|  19| Sunday|     20|\n",
            "+-------------------+----+-------+---+----+-------+-------+\n",
            "only showing top 20 rows\n",
            "\n"
          ]
        }
      ],
      "source": [
        "dim_date = res_date_df.select(\"full_date\",\"year\",\"month\",\"day\",\"hour\",\n",
        "                                    \"weekday\",\n",
        "                                    F.row_number().over(Window.partitionBy().orderBy(res_date_df['full_date'])).alias(\"date_id\"))\n",
        "#F.row_number().over(Window.partitionBy().orderBy(dim_atm['atm_number'])).alias(\"atm_id\"))\n",
        "dim_date.show()"
      ]
    },
    {
      "cell_type": "code",
      "source": [
        "dim_date.count()"
      ],
      "metadata": {
        "colab": {
          "base_uri": "https://localhost:8080/"
        },
        "id": "hHqtxCH9Q0kD",
        "outputId": "42de0751-ea66-43b1-e5ad-418efc0f2425"
      },
      "execution_count": 149,
      "outputs": [
        {
          "output_type": "execute_result",
          "data": {
            "text/plain": [
              "8685"
            ]
          },
          "metadata": {},
          "execution_count": 149
        }
      ]
    },
    {
      "cell_type": "code",
      "execution_count": 150,
      "metadata": {
        "id": "NBvsFum25-5h",
        "colab": {
          "base_uri": "https://localhost:8080/"
        },
        "outputId": "8e1e6691-1795-4c3e-a975-f395de910e7b"
      },
      "outputs": [
        {
          "output_type": "stream",
          "name": "stdout",
          "text": [
            "+--------------------+-------+\n",
            "|           card_type|card_id|\n",
            "+--------------------+-------+\n",
            "|              CIRRUS|      1|\n",
            "|             Dankort|      2|\n",
            "|     Dankort - on-us|      3|\n",
            "|         HÃƒÂ¦vekort|      4|\n",
            "| HÃƒÂ¦vekort - on-us|      5|\n",
            "|             Maestro|      6|\n",
            "|          MasterCard|      7|\n",
            "|  Mastercard - on-us|      8|\n",
            "|                VISA|      9|\n",
            "|        Visa Dankort|     10|\n",
            "|Visa Dankort - on-us|     11|\n",
            "|            VisaPlus|     12|\n",
            "+--------------------+-------+\n",
            "\n"
          ]
        },
        {
          "output_type": "execute_result",
          "data": {
            "text/plain": [
              "12"
            ]
          },
          "metadata": {},
          "execution_count": 150
        }
      ],
      "source": [
        "#Card type dimension - This dimension has the information about the particular card type with which\n",
        "#a particular transaction took place. This can help in performing analysis on how the number of\n",
        "#transactions varies with respect to each different card type.\n",
        "\n",
        "dim_card_type = df.select('card_type').distinct()\n",
        "\n",
        "dim_card_type = dim_card_type.select('card_type',F.row_number().over(Window.partitionBy().orderBy(dim_card_type['card_type'])).alias(\"card_id\"))\n",
        "dim_card_type.show()\n",
        "dim_card_type.count()"
      ]
    },
    {
      "cell_type": "code",
      "execution_count": 151,
      "metadata": {
        "id": "HPx2y96b_0-d",
        "colab": {
          "base_uri": "https://localhost:8080/"
        },
        "outputId": "1e2a4108-41f4-42bd-cc14-dcdb12573612"
      },
      "outputs": [
        {
          "output_type": "stream",
          "name": "stdout",
          "text": [
            "+----------+------------+-----------+------+\n",
            "|atm_number|manufacturer|location_id|atm_id|\n",
            "+----------+------------+-----------+------+\n",
            "|         1|         NCR|         97|     1|\n",
            "|        10|         NCR|         50|     2|\n",
            "|       100|         NCR|         14|     3|\n",
            "+----------+------------+-----------+------+\n",
            "only showing top 3 rows\n",
            "\n"
          ]
        }
      ],
      "source": [
        "#Transaction fact - This is the actual fact table for the data set which contains all of the\n",
        "#numerical data such as the currency of the transaction, service, transaction amount, message\n",
        "#code and text as well as weather info such as description, weather id etc.\n",
        "\n",
        "\n",
        "dim_atm.show(3)"
      ]
    },
    {
      "cell_type": "code",
      "execution_count": 152,
      "metadata": {
        "id": "0Lzapk7EDqJ2",
        "colab": {
          "base_uri": "https://localhost:8080/"
        },
        "outputId": "cdf3c476-fb9c-4d19-c7ee-7be3aedbc6ed"
      },
      "outputs": [
        {
          "output_type": "stream",
          "name": "stdout",
          "text": [
            "+----------+------------+-------------+-------+------+-----+-----------+\n",
            "|  location| street_name|street_number|zipcode|   lat|  lon|location_id|\n",
            "+----------+------------+-------------+-------+------+-----+-----------+\n",
            "|SÃƒÂ¦dding| Tarphagevej|           59|   6710|55.498|8.408|          1|\n",
            "|   Esbjerg|Strandbygade|           20|   6700|55.468| 8.44|          2|\n",
            "| Holstebro| Hostrupsvej|            6|   7500|56.373|8.625|          3|\n",
            "+----------+------------+-------------+-------+------+-----+-----------+\n",
            "only showing top 3 rows\n",
            "\n"
          ]
        }
      ],
      "source": [
        "dim_location.show(3)"
      ]
    },
    {
      "cell_type": "code",
      "execution_count": 153,
      "metadata": {
        "id": "NYyXLexhDu_3",
        "colab": {
          "base_uri": "https://localhost:8080/"
        },
        "outputId": "df54d1f5-6348-46bb-b5bb-263eb2efc319"
      },
      "outputs": [
        {
          "output_type": "stream",
          "name": "stdout",
          "text": [
            "+-------------------+----+-------+---+----+-------+-------+\n",
            "|          full_date|year|  month|day|hour|weekday|date_id|\n",
            "+-------------------+----+-------+---+----+-------+-------+\n",
            "|2017-01-01 00:00:00|2017|January|  1|   0| Sunday|      1|\n",
            "|2017-01-01 01:00:00|2017|January|  1|   1| Sunday|      2|\n",
            "|2017-01-01 02:00:00|2017|January|  1|   2| Sunday|      3|\n",
            "+-------------------+----+-------+---+----+-------+-------+\n",
            "only showing top 3 rows\n",
            "\n"
          ]
        }
      ],
      "source": [
        "dim_date.show(3)"
      ]
    },
    {
      "cell_type": "code",
      "execution_count": 154,
      "metadata": {
        "id": "G9alXlfyDzVk",
        "colab": {
          "base_uri": "https://localhost:8080/"
        },
        "outputId": "83b9c363-86f1-4991-b186-f393b38f9cbd"
      },
      "outputs": [
        {
          "output_type": "stream",
          "name": "stdout",
          "text": [
            "+---------------+-------+\n",
            "|      card_type|card_id|\n",
            "+---------------+-------+\n",
            "|         CIRRUS|      1|\n",
            "|        Dankort|      2|\n",
            "|Dankort - on-us|      3|\n",
            "+---------------+-------+\n",
            "only showing top 3 rows\n",
            "\n"
          ]
        }
      ],
      "source": [
        "dim_card_type.show(3)"
      ]
    },
    {
      "cell_type": "code",
      "execution_count": 155,
      "metadata": {
        "id": "XHZaI-jFD2Fh"
      },
      "outputs": [],
      "source": [
        "stg1_df = df.join(dim_date, on=[\"year\",\"month\",'day',\"hour\",\"weekday\"], how='left').select(*(df.columns+[dim_date.date_id])).drop(*['year','month','day','hour','weekday'])"
      ]
    },
    {
      "cell_type": "markdown",
      "metadata": {
        "id": "Hq0-YPhSJn9v"
      },
      "source": []
    },
    {
      "cell_type": "code",
      "execution_count": 156,
      "metadata": {
        "id": "im3hSKvKEoCo",
        "colab": {
          "base_uri": "https://localhost:8080/"
        },
        "outputId": "5d240d42-98bf-44ec-efc5-a09a7127e92e"
      },
      "outputs": [
        {
          "output_type": "stream",
          "name": "stdout",
          "text": [
            "+----------+------+----------------+------------+--------------+-----------------+-----------+-------+-------+--------+----------+------------------+----------+------------+------------+-----------+-----------+---------------+-----------------+------+--------+--------+----------+--------+-------+----------+----------+------------+-------------------+-------+\n",
            "|atm_status|atm_id|atm_manufacturer|atm_location|atm_streetname|atm_street_number|atm_zipcode|atm_lat|atm_lon|currency| card_type|transaction_amount|   service|message_code|message_text|weather_lat|weather_lon|weather_city_id|weather_city_name|  temp|pressure|humidity|wind_speed|wind_deg|rain_3h|clouds_all|weather_id|weather_main|weather_description|date_id|\n",
            "+----------+------+----------------+------------+--------------+-----------------+-----------+-------+-------+--------+----------+------------------+----------+------------+------------+-----------+-----------+---------------+-----------------+------+--------+--------+----------+--------+-------+----------+----------+------------+-------------------+-------+\n",
            "|    Active|     1|             NCR|  NÃƒÂ¦stved|   Farimagsvej|                8|       4700| 55.233| 11.763|     DKK|MasterCard|              5643|Withdrawal|        NULL|        NULL|      55.23|     11.761|        2616038|         Naestved|281.15|    1014|      87|         7|     260|  0.215|        92|       500|        Rain|         light rain|      1|\n",
            "+----------+------+----------------+------------+--------------+-----------------+-----------+-------+-------+--------+----------+------------------+----------+------------+------------+-----------+-----------+---------------+-----------------+------+--------+--------+----------+--------+-------+----------+----------+------------+-------------------+-------+\n",
            "only showing top 1 row\n",
            "\n"
          ]
        }
      ],
      "source": [
        "stg1_df.show(1)"
      ]
    },
    {
      "cell_type": "code",
      "execution_count": 157,
      "metadata": {
        "id": "oi_cU_u2Fvxa"
      },
      "outputs": [],
      "source": [
        "\n",
        "\n",
        "stg2_df = stg1_df.join(dim_card_type, on=['card_type'], how ='left').select(*(stg1_df.columns+[dim_card_type.card_id])).drop(*['card_type'])\n"
      ]
    },
    {
      "cell_type": "code",
      "execution_count": 158,
      "metadata": {
        "id": "I0MenSWSGmqQ",
        "colab": {
          "base_uri": "https://localhost:8080/"
        },
        "outputId": "c938b459-773c-48ab-f624-bac61a6714db"
      },
      "outputs": [
        {
          "output_type": "stream",
          "name": "stdout",
          "text": [
            "+----------+------+----------------+------------+--------------+-----------------+-----------+-------+-------+--------+------------------+----------+------------+------------+-----------+-----------+---------------+-----------------+------+--------+--------+----------+--------+-------+----------+----------+------------+-------------------+-------+-------+\n",
            "|atm_status|atm_id|atm_manufacturer|atm_location|atm_streetname|atm_street_number|atm_zipcode|atm_lat|atm_lon|currency|transaction_amount|   service|message_code|message_text|weather_lat|weather_lon|weather_city_id|weather_city_name|  temp|pressure|humidity|wind_speed|wind_deg|rain_3h|clouds_all|weather_id|weather_main|weather_description|date_id|card_id|\n",
            "+----------+------+----------------+------------+--------------+-----------------+-----------+-------+-------+--------+------------------+----------+------------+------------+-----------+-----------+---------------+-----------------+------+--------+--------+----------+--------+-------+----------+----------+------------+-------------------+-------+-------+\n",
            "|    Active|     1|             NCR|  NÃƒÂ¦stved|   Farimagsvej|                8|       4700| 55.233| 11.763|     DKK|              5643|Withdrawal|        NULL|        NULL|      55.23|     11.761|        2616038|         Naestved|281.15|    1014|      87|         7|     260|  0.215|        92|       500|        Rain|         light rain|      1|      7|\n",
            "|  Inactive|     2|             NCR|    Vejgaard|    Hadsundvej|               20|       9000| 57.043|   9.95|     DKK|              1764|Withdrawal|        NULL|        NULL|     57.048|      9.935|        2616235|   NÃƒÂ¸rresundby|280.64|    1020|      93|         9|     250|   0.59|        92|       500|        Rain|         light rain|      1|      7|\n",
            "+----------+------+----------------+------------+--------------+-----------------+-----------+-------+-------+--------+------------------+----------+------------+------------+-----------+-----------+---------------+-----------------+------+--------+--------+----------+--------+-------+----------+----------+------------+-------------------+-------+-------+\n",
            "only showing top 2 rows\n",
            "\n",
            "root\n",
            " |-- atm_status: string (nullable = true)\n",
            " |-- atm_id: string (nullable = true)\n",
            " |-- atm_manufacturer: string (nullable = true)\n",
            " |-- atm_location: string (nullable = true)\n",
            " |-- atm_streetname: string (nullable = true)\n",
            " |-- atm_street_number: integer (nullable = true)\n",
            " |-- atm_zipcode: integer (nullable = true)\n",
            " |-- atm_lat: double (nullable = true)\n",
            " |-- atm_lon: double (nullable = true)\n",
            " |-- currency: string (nullable = true)\n",
            " |-- transaction_amount: integer (nullable = true)\n",
            " |-- service: string (nullable = true)\n",
            " |-- message_code: string (nullable = true)\n",
            " |-- message_text: string (nullable = true)\n",
            " |-- weather_lat: double (nullable = true)\n",
            " |-- weather_lon: double (nullable = true)\n",
            " |-- weather_city_id: integer (nullable = true)\n",
            " |-- weather_city_name: string (nullable = true)\n",
            " |-- temp: double (nullable = true)\n",
            " |-- pressure: integer (nullable = true)\n",
            " |-- humidity: integer (nullable = true)\n",
            " |-- wind_speed: integer (nullable = true)\n",
            " |-- wind_deg: integer (nullable = true)\n",
            " |-- rain_3h: double (nullable = true)\n",
            " |-- clouds_all: integer (nullable = true)\n",
            " |-- weather_id: integer (nullable = true)\n",
            " |-- weather_main: string (nullable = true)\n",
            " |-- weather_description: string (nullable = true)\n",
            " |-- date_id: integer (nullable = true)\n",
            " |-- card_id: integer (nullable = true)\n",
            "\n"
          ]
        }
      ],
      "source": [
        "stg2_df.show(2)\n",
        "stg2_df.printSchema()"
      ]
    },
    {
      "cell_type": "code",
      "execution_count": 159,
      "metadata": {
        "id": "XLHg6x9hGo46",
        "colab": {
          "base_uri": "https://localhost:8080/"
        },
        "outputId": "62bb1714-ace0-4bc5-d696-dd75b7fc4736"
      },
      "outputs": [
        {
          "output_type": "stream",
          "name": "stdout",
          "text": [
            "+----------+----------+------------+----------+-----------+-------------+-------+------+------+--------+------------------+----------+------------+------------+-----------+-----------+---------------+-----------------+------+--------+--------+----------+--------+-------+----------+----------+------------+-------------------+-------+-------+\n",
            "|atm_status|atm_number|manufacturer|  location|street_name|street_number|zipcode|   lat|   lon|currency|transaction_amount|   service|message_code|message_text|weather_lat|weather_lon|weather_city_id|weather_city_name|  temp|pressure|humidity|wind_speed|wind_deg|rain_3h|clouds_all|weather_id|weather_main|weather_description|date_id|card_id|\n",
            "+----------+----------+------------+----------+-----------+-------------+-------+------+------+--------+------------------+----------+------------+------------+-----------+-----------+---------------+-----------------+------+--------+--------+----------+--------+-------+----------+----------+------------+-------------------+-------+-------+\n",
            "|    Active|         1|         NCR|NÃƒÂ¦stved|Farimagsvej|            8|   4700|55.233|11.763|     DKK|              5643|Withdrawal|        NULL|        NULL|      55.23|     11.761|        2616038|         Naestved|281.15|    1014|      87|         7|     260|  0.215|        92|       500|        Rain|         light rain|      1|      7|\n",
            "|  Inactive|         2|         NCR|  Vejgaard| Hadsundvej|           20|   9000|57.043|  9.95|     DKK|              1764|Withdrawal|        NULL|        NULL|     57.048|      9.935|        2616235|   NÃƒÂ¸rresundby|280.64|    1020|      93|         9|     250|   0.59|        92|       500|        Rain|         light rain|      1|      7|\n",
            "|  Inactive|         2|         NCR|  Vejgaard| Hadsundvej|           20|   9000|57.043|  9.95|     DKK|              1891|Withdrawal|        NULL|        NULL|     57.048|      9.935|        2616235|   NÃƒÂ¸rresundby|280.64|    1020|      93|         9|     250|   0.59|        92|       500|        Rain|         light rain|      1|      9|\n",
            "+----------+----------+------------+----------+-----------+-------------+-------+------+------+--------+------------------+----------+------------+------------+-----------+-----------+---------------+-----------------+------+--------+--------+----------+--------+-------+----------+----------+------------+-------------------+-------+-------+\n",
            "only showing top 3 rows\n",
            "\n"
          ]
        }
      ],
      "source": [
        "# |location_id|\n",
        "stg3_df = stg2_df.withColumnsRenamed({\"atm_manufacturer\":\"manufacturer\",\n",
        "                                      \"atm_location\":\"location\",\n",
        "                                      \"atm_streetname\":\"street_name\",\n",
        "                                      \"atm_street_number\":\"street_number\",\n",
        "                                      \"atm_zipcode\":\"zipcode\",\n",
        "                                      \"atm_lat\":\"lat\",\n",
        "                                      \"atm_lon\":\"lon\",\n",
        "                                      \"atm_id\":\"atm_number\"})\n",
        "\n",
        "\n",
        "stg3_df.show(3)"
      ]
    },
    {
      "cell_type": "code",
      "execution_count": 160,
      "metadata": {
        "id": "HdtrpO9LJyoY",
        "colab": {
          "base_uri": "https://localhost:8080/"
        },
        "outputId": "1ef7859d-26fd-4541-e21a-d26df6c9bc05"
      },
      "outputs": [
        {
          "output_type": "stream",
          "name": "stdout",
          "text": [
            "+----------+----------+------------+--------+------------------+----------+------------+------------+-----------+-----------+---------------+-----------------+------+--------+--------+----------+--------+-------+----------+----------+------------+-------------------+-------+-------+-----------+\n",
            "|atm_status|atm_number|manufacturer|currency|transaction_amount|   service|message_code|message_text|weather_lat|weather_lon|weather_city_id|weather_city_name|  temp|pressure|humidity|wind_speed|wind_deg|rain_3h|clouds_all|weather_id|weather_main|weather_description|date_id|card_id|location_id|\n",
            "+----------+----------+------------+--------+------------------+----------+------------+------------+-----------+-----------+---------------+-----------------+------+--------+--------+----------+--------+-------+----------+----------+------------+-------------------+-------+-------+-----------+\n",
            "|    Active|         1|         NCR|     DKK|              5643|Withdrawal|        NULL|        NULL|      55.23|     11.761|        2616038|         Naestved|281.15|    1014|      87|         7|     260|  0.215|        92|       500|        Rain|         light rain|      1|      7|         97|\n",
            "|  Inactive|         2|         NCR|     DKK|              1764|Withdrawal|        NULL|        NULL|     57.048|      9.935|        2616235|   NÃƒÂ¸rresundby|280.64|    1020|      93|         9|     250|   0.59|        92|       500|        Rain|         light rain|      1|      7|         57|\n",
            "|  Inactive|         2|         NCR|     DKK|              1891|Withdrawal|        NULL|        NULL|     57.048|      9.935|        2616235|   NÃƒÂ¸rresundby|280.64|    1020|      93|         9|     250|   0.59|        92|       500|        Rain|         light rain|      1|      9|         57|\n",
            "+----------+----------+------------+--------+------------------+----------+------------+------------+-----------+-----------+---------------+-----------------+------+--------+--------+----------+--------+-------+----------+----------+------------+-------------------+-------+-------+-----------+\n",
            "only showing top 3 rows\n",
            "\n"
          ]
        }
      ],
      "source": [
        "stg4_df = stg3_df.join(dim_location, on=[\"location\",\"street_name\",\"street_number\",\"zipcode\",\"lat\",\"lon\"], how='left').select(*(stg3_df.columns+[dim_location.location_id])).drop(*[\"location\",\"street_name\",\"street_number\",\"zipcode\",\"lat\",\"lon\"])\n",
        "\n",
        "stg4_df.show(3)"
      ]
    },
    {
      "cell_type": "code",
      "execution_count": 161,
      "metadata": {
        "id": "Cy_KRpqZMA_3",
        "colab": {
          "base_uri": "https://localhost:8080/"
        },
        "outputId": "4bd945be-1e3e-4f8c-8db7-002641ca82fc"
      },
      "outputs": [
        {
          "output_type": "stream",
          "name": "stdout",
          "text": [
            "+----------+--------+------------------+----------+------------+------------+-----------+-----------+---------------+-----------------+------+--------+--------+----------+--------+-------+----------+----------+------------+-------------------+-------+-------+-----------+------+\n",
            "|atm_status|currency|transaction_amount|   service|message_code|message_text|weather_lat|weather_lon|weather_city_id|weather_city_name|  temp|pressure|humidity|wind_speed|wind_deg|rain_3h|clouds_all|weather_id|weather_main|weather_description|date_id|card_id|location_id|atm_id|\n",
            "+----------+--------+------------------+----------+------------+------------+-----------+-----------+---------------+-----------------+------+--------+--------+----------+--------+-------+----------+----------+------------+-------------------+-------+-------+-----------+------+\n",
            "|    Active|     DKK|              5643|Withdrawal|        NULL|        NULL|      55.23|     11.761|        2616038|         Naestved|281.15|    1014|      87|         7|     260|  0.215|        92|       500|        Rain|         light rain|      1|      7|         97|     1|\n",
            "|  Inactive|     DKK|              1764|Withdrawal|        NULL|        NULL|     57.048|      9.935|        2616235|   NÃƒÂ¸rresundby|280.64|    1020|      93|         9|     250|   0.59|        92|       500|        Rain|         light rain|      1|      7|         57|    26|\n",
            "+----------+--------+------------------+----------+------------+------------+-----------+-----------+---------------+-----------------+------+--------+--------+----------+--------+-------+----------+----------+------------+-------------------+-------+-------+-----------+------+\n",
            "only showing top 2 rows\n",
            "\n"
          ]
        }
      ],
      "source": [
        "#|atm_number|manufacturer|location_id|atm_id|\n",
        "\n",
        "stg5_df = stg4_df.join(dim_atm, on =['atm_number',\"manufacturer\",\"location_id\"],how='left').select(*(stg4_df.columns+[dim_atm.atm_id])).drop(*['atm_number',\"manufacturer\"])\n",
        "\n",
        "stg5_df.show(2)"
      ]
    },
    {
      "cell_type": "code",
      "execution_count": 162,
      "metadata": {
        "id": "YIfNk-h-NY61",
        "colab": {
          "base_uri": "https://localhost:8080/"
        },
        "outputId": "dcadbb2d-c959-46ec-c72c-54fc93581ace"
      },
      "outputs": [
        {
          "output_type": "execute_result",
          "data": {
            "text/plain": [
              "2468572"
            ]
          },
          "metadata": {},
          "execution_count": 162
        }
      ],
      "source": [
        "stg5_df.count()"
      ]
    },
    {
      "cell_type": "code",
      "execution_count": 163,
      "metadata": {
        "id": "7HAQSlj0N2TL",
        "colab": {
          "base_uri": "https://localhost:8080/"
        },
        "outputId": "22f0a60f-00df-4788-b6ec-dc1b970d7909"
      },
      "outputs": [
        {
          "output_type": "execute_result",
          "data": {
            "text/plain": [
              "2468572"
            ]
          },
          "metadata": {},
          "execution_count": 163
        }
      ],
      "source": [
        "df.count()"
      ]
    },
    {
      "cell_type": "code",
      "execution_count": 164,
      "metadata": {
        "id": "kkqfar27ONic",
        "colab": {
          "base_uri": "https://localhost:8080/"
        },
        "outputId": "991773d6-7378-4678-8ffb-ea5f3a8b8338"
      },
      "outputs": [
        {
          "output_type": "execute_result",
          "data": {
            "text/plain": [
              "['atm_status',\n",
              " 'currency',\n",
              " 'transaction_amount',\n",
              " 'service',\n",
              " 'message_code',\n",
              " 'message_text',\n",
              " 'weather_lat',\n",
              " 'weather_lon',\n",
              " 'weather_city_id',\n",
              " 'weather_city_name',\n",
              " 'temp',\n",
              " 'pressure',\n",
              " 'humidity',\n",
              " 'wind_speed',\n",
              " 'wind_deg',\n",
              " 'rain_3h',\n",
              " 'clouds_all',\n",
              " 'weather_id',\n",
              " 'weather_main',\n",
              " 'weather_description',\n",
              " 'date_id',\n",
              " 'card_id',\n",
              " 'location_id',\n",
              " 'atm_id']"
            ]
          },
          "metadata": {},
          "execution_count": 164
        }
      ],
      "source": [
        "\n",
        "stg5_df.columns"
      ]
    },
    {
      "cell_type": "code",
      "execution_count": 165,
      "metadata": {
        "id": "46dQGUDdN7OT",
        "colab": {
          "base_uri": "https://localhost:8080/"
        },
        "outputId": "08dd193d-8f89-4b89-8bf9-5d7bc44b94e8"
      },
      "outputs": [
        {
          "output_type": "stream",
          "name": "stdout",
          "text": [
            "+----------+--------+------------------+----------+------------+------------+-----------+-----------+---------------+-----------------+------+--------+--------+----------+--------+-------+----------+----------+------------+-------------------+-------+-------+-----------+------+--------+\n",
            "|atm_status|currency|transaction_amount|   service|message_code|message_text|weather_lat|weather_lon|weather_city_id|weather_city_name|  temp|pressure|humidity|wind_speed|wind_deg|rain_3h|clouds_all|weather_id|weather_main|weather_description|date_id|card_id|location_id|atm_id|trans_id|\n",
            "+----------+--------+------------------+----------+------------+------------+-----------+-----------+---------------+-----------------+------+--------+--------+----------+--------+-------+----------+----------+------------+-------------------+-------+-------+-----------+------+--------+\n",
            "|    Active|     DKK|              3975|Withdrawal|        NULL|        NULL|      55.23|     11.761|        2616038|         Naestved|272.15|    1014|      86|         3|     280|    0.0|         0|       800|       Clear|       Sky is Clear|     41|      7|         97|     1|       1|\n",
            "|    Active|     DKK|              6170|Withdrawal|        NULL|        NULL|      55.23|     11.761|        2616038|         Naestved|272.15|    1014|      86|         3|     280|    0.0|         0|       800|       Clear|       Sky is Clear|     41|     10|         97|     1|       2|\n",
            "+----------+--------+------------------+----------+------------+------------+-----------+-----------+---------------+-----------------+------+--------+--------+----------+--------+-------+----------+----------+------------+-------------------+-------+-------+-----------+------+--------+\n",
            "only showing top 2 rows\n",
            "\n"
          ]
        }
      ],
      "source": [
        "trans_fact = stg5_df.select('atm_status','currency','transaction_amount', 'service',\n",
        " 'message_code', 'message_text', 'weather_lat', 'weather_lon',\n",
        " 'weather_city_id', 'weather_city_name', 'temp', 'pressure',\n",
        " 'humidity', 'wind_speed', 'wind_deg', 'rain_3h',\n",
        " 'clouds_all', 'weather_id', 'weather_main', 'weather_description',\n",
        " 'date_id', 'card_id', 'location_id', 'atm_id',F.row_number().over(Window.partitionBy().orderBy(stg5_df['atm_id'])).alias(\"trans_id\"))\n",
        "\n",
        "trans_fact.show(2)"
      ]
    },
    {
      "cell_type": "code",
      "execution_count": 166,
      "metadata": {
        "id": "Op40sYCsPh_w",
        "colab": {
          "base_uri": "https://localhost:8080/"
        },
        "outputId": "1b8ed863-5910-4794-9e98-32f32986177f"
      },
      "outputs": [
        {
          "output_type": "execute_result",
          "data": {
            "text/plain": [
              "2468572"
            ]
          },
          "metadata": {},
          "execution_count": 166
        }
      ],
      "source": [
        "trans_fact.count()"
      ]
    },
    {
      "cell_type": "code",
      "execution_count": null,
      "metadata": {
        "id": "NPos3SF7P79p"
      },
      "outputs": [],
      "source": [
        "trans_fact.coalesce(10).write.csv(\"address\", mode=\"overwrite\")"
      ]
    },
    {
      "cell_type": "code",
      "execution_count": null,
      "metadata": {
        "id": "o8tv3LMhQkof"
      },
      "outputs": [],
      "source": [
        "\n",
        "dim_location.coalesce(1).write.csv(\"address\", mode=\"overwrite\")\n",
        "dim_atm.coalesce(1).write.csv(\"address\", mode=\"overwrite\")\n",
        "dim_date.coalesce(1).write.csv(\"address\",mode=\"overwrite\")\n",
        "dim_card_type.coalese(1).write.csv(\"address\",mode=\"overwrite\")"
      ]
    },
    {
      "cell_type": "code",
      "execution_count": 168,
      "metadata": {
        "id": "ozxVhmJbRe3i"
      },
      "outputs": [],
      "source": [
        "\n",
        "# Writing DataFrame to CSV\n",
        "#trans_fact.write.csv(\"sample_data/transaction_fact_table.csv\", header=True)\n",
        "trans_fact.coalesce(10).write.csv(\"sample_data/transaction_fact_table_1.csv\", header=True,mode=\"overwrite\")\n"
      ]
    },
    {
      "cell_type": "code",
      "execution_count": 170,
      "metadata": {
        "id": "Yw1APk5sRtZK"
      },
      "outputs": [],
      "source": [
        "dim_location.coalesce(1).write.csv(\"sample_data/dim_location.csv\", mode=\"overwrite\")\n",
        "dim_atm.coalesce(1).write.csv(\"sample_data/dim_atm.csv\", mode=\"overwrite\")\n",
        "dim_date.coalesce(1).write.csv(\"sample_data/dim_date.csv\",mode=\"overwrite\")\n",
        "dim_card_type.coalesce(1).write.csv(\"sample_data/dim_card_type.csv\",mode=\"overwrite\")"
      ]
    },
    {
      "cell_type": "code",
      "source": [],
      "metadata": {
        "id": "LDz0hUizWjRX"
      },
      "execution_count": null,
      "outputs": []
    }
  ],
  "metadata": {
    "colab": {
      "provenance": [],
      "authorship_tag": "ABX9TyNnTg4AeOeZSOl9f1i3k/et",
      "include_colab_link": true
    },
    "kernelspec": {
      "display_name": "Python 3",
      "name": "python3"
    },
    "language_info": {
      "name": "python"
    }
  },
  "nbformat": 4,
  "nbformat_minor": 0
}