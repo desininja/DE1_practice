{
  "nbformat": 4,
  "nbformat_minor": 0,
  "metadata": {
    "colab": {
      "provenance": [],
      "toc_visible": true,
      "authorship_tag": "ABX9TyPU1s9anwjNuRk+ZKKraX4U",
      "include_colab_link": true
    },
    "kernelspec": {
      "name": "python3",
      "display_name": "Python 3"
    },
    "language_info": {
      "name": "python"
    }
  },
  "cells": [
    {
      "cell_type": "markdown",
      "metadata": {
        "id": "view-in-github",
        "colab_type": "text"
      },
      "source": [
        "<a href=\"https://colab.research.google.com/github/desininja/DE1_practice/blob/4-project-etl/ETL_Spark_Job.ipynb\" target=\"_parent\"><img src=\"https://colab.research.google.com/assets/colab-badge.svg\" alt=\"Open In Colab\"/></a>"
      ]
    },
    {
      "cell_type": "code",
      "execution_count": 1,
      "metadata": {
        "colab": {
          "base_uri": "https://localhost:8080/"
        },
        "id": "U3hilBieVouW",
        "outputId": "b1ef2888-34f0-45a5-d9bd-37bd0287bdb6"
      },
      "outputs": [
        {
          "output_type": "stream",
          "name": "stdout",
          "text": [
            "Collecting pyspark\n",
            "  Downloading pyspark-3.5.0.tar.gz (316.9 MB)\n",
            "\u001b[2K     \u001b[90m━━━━━━━━━━━━━━━━━━━━━━━━━━━━━━━━━━━━━━━━\u001b[0m \u001b[32m316.9/316.9 MB\u001b[0m \u001b[31m4.7 MB/s\u001b[0m eta \u001b[36m0:00:00\u001b[0m\n",
            "\u001b[?25h  Preparing metadata (setup.py) ... \u001b[?25l\u001b[?25hdone\n",
            "Requirement already satisfied: py4j==0.10.9.7 in /usr/local/lib/python3.10/dist-packages (from pyspark) (0.10.9.7)\n",
            "Building wheels for collected packages: pyspark\n",
            "  Building wheel for pyspark (setup.py) ... \u001b[?25l\u001b[?25hdone\n",
            "  Created wheel for pyspark: filename=pyspark-3.5.0-py2.py3-none-any.whl size=317425345 sha256=be487498638fbf3e66060d808a7fd1a8ed94071750f4b9d2759f71392c2db991\n",
            "  Stored in directory: /root/.cache/pip/wheels/41/4e/10/c2cf2467f71c678cfc8a6b9ac9241e5e44a01940da8fbb17fc\n",
            "Successfully built pyspark\n",
            "Installing collected packages: pyspark\n",
            "Successfully installed pyspark-3.5.0\n"
          ]
        }
      ],
      "source": [
        "!pip install pyspark"
      ]
    },
    {
      "cell_type": "code",
      "source": [
        "from pyspark.sql import SparkSession\n",
        "\n",
        "spark = SparkSession.builder.appName(\"ETL Project\").master('local').getOrCreate()\n",
        "\n",
        "sc = spark.sparkContext"
      ],
      "metadata": {
        "id": "8iir919vV7pa"
      },
      "execution_count": 2,
      "outputs": []
    },
    {
      "cell_type": "code",
      "source": [
        "from pyspark.sql.types import StructType, StructField, IntegerType, StringType,BooleanType, DoubleType,LongType,FloatType\n"
      ],
      "metadata": {
        "id": "_R73lGuaYLzb"
      },
      "execution_count": 3,
      "outputs": []
    },
    {
      "cell_type": "code",
      "source": [
        "fileSchema = StructType([StructField('year',IntegerType(),True),\n",
        "                        StructField('month',StringType(),True),\n",
        "                         StructField('day',IntegerType(),True),\n",
        "                         StructField('weekday',StringType(),True),\n",
        "                         StructField('hour',IntegerType(),True),\n",
        "                         StructField('atm_status',StringType(),True),\n",
        "                         StructField('atm_id',StringType(),True),\n",
        "                         StructField('atm_manufacturer',StringType(),True),\n",
        "                         StructField('atm_location',StringType(),True),\n",
        "                         StructField('atm_streetname',StringType(),True),\n",
        "                         StructField('atm_street_number',IntegerType(),True),\n",
        "                         StructField('atm_zipcode',IntegerType(),True),\n",
        "                         StructField('atm_lat',DoubleType(),True),\n",
        "                         StructField('atm_lon',DoubleType(),True),\n",
        "                         StructField('currency',StringType(),True),\n",
        "                         StructField('card_type',StringType(),True),\n",
        "                         StructField('transaction_amount',IntegerType(),True),\n",
        "                         StructField('service',StringType(),True),\n",
        "                         StructField('message_code',StringType(),True),\n",
        "                         StructField('message_text',StringType(),True),\n",
        "                         StructField('weather_lat',DoubleType(),True),\n",
        "                         StructField('weather_lon',DoubleType(),True),\n",
        "                         StructField('weather_city_id',IntegerType(),True),\n",
        "                         StructField('weather_city_name',StringType(),True),\n",
        "                         StructField('temp',DoubleType(),True),\n",
        "                         StructField('pressure',IntegerType(),True),\n",
        "                         StructField('humidity',IntegerType(),True),\n",
        "                         StructField('wind_speed',IntegerType(),True),\n",
        "                         StructField('wind_deg',IntegerType(),True),\n",
        "                         StructField('rain_3h',DoubleType(),True),\n",
        "                         StructField('clouds_all',IntegerType(),True),\n",
        "                         StructField('weather_id',IntegerType(),True),\n",
        "                         StructField('weather_main',StringType(),True),\n",
        "                         StructField('weather_description',StringType(),True)])\n"
      ],
      "metadata": {
        "id": "5o8pSsHCYyCx"
      },
      "execution_count": 4,
      "outputs": []
    },
    {
      "cell_type": "code",
      "source": [
        "df1 = spark.read.csv('/content/atm_data_part1.csv',header=True,schema=fileSchema,sep=',')\n",
        "df2 = spark.read.csv('/content/atm_data_part2.csv',header=True,schema=fileSchema,sep=',')\n",
        "\n",
        "df = df1.union(df2)"
      ],
      "metadata": {
        "id": "ItoC62BAWpQU"
      },
      "execution_count": 6,
      "outputs": []
    },
    {
      "cell_type": "code",
      "source": [
        "df.show()"
      ],
      "metadata": {
        "colab": {
          "base_uri": "https://localhost:8080/"
        },
        "id": "sj6SmEQyXeIL",
        "outputId": "abc21372-39db-4d43-d1e0-516ec6a2527a"
      },
      "execution_count": 7,
      "outputs": [
        {
          "output_type": "stream",
          "name": "stdout",
          "text": [
            "+----+-------+---+-------+----+----------+------+----------------+------------+--------------------+-----------------+-----------+-----------+-----------+--------+--------------------+------------------+-------+------------+------------+-----------+-----------+---------------+-----------------+------+--------+--------+----------+--------+-------+----------+----------+--------------------+-------------------+\n",
            "|year|  month|day|weekday|hour|atm_status|atm_id|atm_manufacturer|atm_location|      atm_streetname|atm_street_number|atm_zipcode|    atm_lat|    atm_lon|currency|           card_type|transaction_amount|service|message_code|message_text|weather_lat|weather_lon|weather_city_id|weather_city_name|  temp|pressure|humidity|wind_speed|wind_deg|rain_3h|clouds_all|weather_id|        weather_main|weather_description|\n",
            "+----+-------+---+-------+----+----------+------+----------------+------------+--------------------+-----------------+-----------+-----------+-----------+--------+--------------------+------------------+-------+------------+------------+-----------+-----------+---------------+-----------------+------+--------+--------+----------+--------+-------+----------+----------+--------------------+-------------------+\n",
            "|2017|January|  1| Sunday|   0|    Active|     1|             NCR|     Næstved|         Farimagsvej|                8|       4700|55.23342278|11.76327044|     DKK|          MasterCard|              NULL|   NULL|        NULL|   55.229919|   11.76092|  2616038.0|           NULL|           281.15|1014.0|      87|       7|       260|    NULL|   92.0|       500|      NULL|          light rain|               NULL|\n",
            "|2017|January|  1| Sunday|   0|  Inactive|     2|             NCR|    Vejgaard|          Hadsundvej|               20|       9000|57.04283821| 9.95001302|     DKK|          MasterCard|              NULL|   NULL|        NULL|    57.04834|     9.9352|  2616235.0|           NULL|           280.64|1020.0|      93|       9|       250|    NULL|   92.0|       500|      NULL|          light rain|               NULL|\n",
            "|2017|January|  1| Sunday|   0|  Inactive|     2|             NCR|    Vejgaard|          Hadsundvej|               20|       9000|57.04283821| 9.95001302|     DKK|                VISA|              NULL|   NULL|        NULL|    57.04834|     9.9352|  2616235.0|           NULL|           280.64|1020.0|      93|       9|       250|    NULL|   92.0|       500|      NULL|          light rain|               NULL|\n",
            "|2017|January|  1| Sunday|   0|  Inactive|     3|             NCR|       Ikast|       Rådhusstrædet|               12|       7430| 56.1385849|  9.1538426|     DKK|                VISA|              NULL|   NULL|        NULL|   56.138828|    9.15768|  2619426.0|           NULL|           281.15|1011.0|     100|       6|       240|    NULL|   75.0|       300|      NULL|light intensity d...|               NULL|\n",
            "|2017|January|  1| Sunday|   0|    Active|     4|             NCR|  Svogerslev|           Brønsager|                1|       4000|55.63356403|12.01786398|     DKK|          MasterCard|              NULL|   NULL|        NULL|   55.641521|   12.08035|  2614481.0|           NULL|           280.61|1014.0|      87|       7|       260|    NULL|   88.0|       701|      NULL|                mist|               NULL|\n",
            "|2017|January|  1| Sunday|   0|    Active|     5|             NCR|        Nibe|              Torvet|                1|       9240| 56.9825409|  9.6387193|     DKK|          MasterCard|              NULL|   NULL|        NULL|   56.981499|    9.63917|  2616483.0|           NULL|           280.64|1020.0|      93|       9|       250|    NULL|   92.0|       500|      NULL|          light rain|               NULL|\n",
            "|2017|January|  1| Sunday|   0|    Active|     6|             NCR|  Fredericia|       Sjællandsgade|               33|       7000|55.56436593| 9.75748564|     DKK|          MasterCard|              NULL|   NULL|        NULL|   55.565681|    9.75257|  2621951.0|           NULL|           281.15|1014.0|      93|       7|       230|    NULL|   92.0|       500|      NULL|          light rain|               NULL|\n",
            "|2017|January|  1| Sunday|   0|    Active|     7| Diebold Nixdorf|   Hjallerup|   Hjallerup Centret|               18|       9320|57.16760574|10.14766121|     DKK|  Mastercard - on-us|              NULL|   NULL|        NULL|   57.164661|   10.14571|  2620275.0|           NULL|           280.64|1020.0|      93|       9|       250|    NULL|   92.0|       500|      NULL|          light rain|               NULL|\n",
            "|2017|January|  1| Sunday|   0|    Active|     8|             NCR|    Glyngøre|            Færgevej|                1|       7870| 56.7623283| 8.86671603|     DKK|          MasterCard|              NULL|   NULL|        NULL|   56.793339|    8.85282|  2615964.0|           NULL|           281.15|1011.0|     100|       6|       240|    NULL|   75.0|       300|      NULL|light intensity d...|               NULL|\n",
            "|2017|January|  1| Sunday|   0|    Active|     9| Diebold Nixdorf|     Hadsund|           Storegade|               12|       9560|56.71570959|10.11378109|     DKK|                VISA|              NULL|   NULL|        NULL|   56.714821|   10.11682|  2620952.0|           NULL|           280.64|1020.0|      93|       9|       250|    NULL|   92.0|       500|      NULL|          light rain|               NULL|\n",
            "|2017|January|  1| Sunday|   0|    Active|    10|             NCR| Nørresundby|              Torvet|                6|       9400| 57.0586772|  9.9224726|     DKK|             Dankort|              NULL|   NULL|        NULL|      57.048|     9.9187|  2624886.0|           NULL|           280.64|1020.0|      93|       9|       250|    NULL|   92.0|       500|      NULL|          light rain|               NULL|\n",
            "|2017|January|  1| Sunday|   0|    Active|    11|             NCR|   Sauersvej|Fridtjof Nansens Vej|                2|       9210| 57.0232364|  9.9403567|     DKK|        Visa Dankort|              NULL|   NULL|        NULL|    57.04834|     9.9352|  2616235.0|           NULL|           280.64|1020.0|      93|       9|       250|    NULL|   92.0|       500|      NULL|          light rain|               NULL|\n",
            "|2017|January|  1| Sunday|   0|  Inactive|     2|             NCR|    Vejgaard|          Hadsundvej|               20|       9000|57.04283821| 9.95001302|     DKK|  Mastercard - on-us|              NULL|   NULL|        NULL|    57.04834|     9.9352|  2616235.0|           NULL|           280.64|1020.0|      93|       9|       250|    NULL|   92.0|       500|      NULL|          light rain|               NULL|\n",
            "|2017|January|  1| Sunday|   0|  Inactive|    12|             NCR|Østerå  Duus|              Østerå|               12|       9000| 57.0485152|  9.9219303|     DKK|  Mastercard - on-us|              NULL|   NULL|        NULL|      57.048|     9.9187|  2624886.0|           NULL|           280.64|1020.0|      93|       9|       250|    NULL|   92.0|       500|      NULL|          light rain|               NULL|\n",
            "|2017|January|  1| Sunday|   0|    Active|    13|             NCR|        Sæby|          Vestergade|                3|       9300| 57.3342468| 10.5150452|     DKK|  Mastercard - on-us|              NULL|   NULL|        NULL|   57.440731|   10.53661|  2621927.0|           NULL|           281.14|1019.0|      94|      12|       251|    NULL|   92.0|       500|      NULL|          light rain|               NULL|\n",
            "|2017|January|  1| Sunday|   0|  Inactive|    14|             NCR|     Hørning|           Nørrealle|               12|       8362| 56.0860924| 10.0373502|     DKK|Visa Dankort - on-us|              NULL|   NULL|        NULL|   56.156738|   10.21076|  2624652.0|           NULL|           281.15|1012.0|      87|       5|       250|    NULL|   92.0|       300|      NULL|light intensity d...|               NULL|\n",
            "|2017|January|  1| Sunday|   0|    Active|    15|             NCR|      Vestre|           Kastetvej|               36|       9000|57.05344705| 9.90529246|     DKK|          MasterCard|              NULL|   NULL|        NULL|      57.048|     9.9187|  2624886.0|           NULL|           280.64|1020.0|      93|       9|       250|    NULL|   92.0|       500|      NULL|          light rain|               NULL|\n",
            "|2017|January|  1| Sunday|   0|  Inactive|    12|             NCR|Østerå  Duus|              Østerå|               12|       9000| 57.0485152|  9.9219303|     DKK|  Mastercard - on-us|              NULL|   NULL|        NULL|      57.048|     9.9187|  2624886.0|           NULL|           280.64|1020.0|      93|       9|       250|    NULL|   92.0|       500|      NULL|          light rain|               NULL|\n",
            "|2017|January|  1| Sunday|   0|  Inactive|    16|             NCR|       Skive|            Adelgade|                8|       7800|56.56678482| 9.02660419|     DKK|        Visa Dankort|              NULL|   NULL|        NULL|   56.566669|    9.03333|  2613731.0|           NULL|           281.15|1012.0|     100|       7|       240|    NULL|   75.0|       300|      NULL|light intensity d...|               NULL|\n",
            "|2017|January|  1| Sunday|   0|    Active|    17|             NCR|     Randers|           Østervold|               16|       8900|56.46187753|10.03778506|     DKK|                VISA|              NULL|   NULL|        NULL|   56.714821|   10.11682|  2620952.0|           NULL|           280.64|1020.0|      93|       9|       250|    NULL|   92.0|       500|      NULL|          light rain|               NULL|\n",
            "+----+-------+---+-------+----+----------+------+----------------+------------+--------------------+-----------------+-----------+-----------+-----------+--------+--------------------+------------------+-------+------------+------------+-----------+-----------+---------------+-----------------+------+--------+--------+----------+--------+-------+----------+----------+--------------------+-------------------+\n",
            "only showing top 20 rows\n",
            "\n"
          ]
        }
      ]
    },
    {
      "cell_type": "code",
      "source": [
        "df.printSchema()"
      ],
      "metadata": {
        "colab": {
          "base_uri": "https://localhost:8080/"
        },
        "id": "wGoYv9DuXh1H",
        "outputId": "c8e3e446-7b79-4b07-99a4-3a9c6038d51c"
      },
      "execution_count": 8,
      "outputs": [
        {
          "output_type": "stream",
          "name": "stdout",
          "text": [
            "root\n",
            " |-- year: integer (nullable = true)\n",
            " |-- month: string (nullable = true)\n",
            " |-- day: integer (nullable = true)\n",
            " |-- weekday: string (nullable = true)\n",
            " |-- hour: integer (nullable = true)\n",
            " |-- atm_status: string (nullable = true)\n",
            " |-- atm_id: string (nullable = true)\n",
            " |-- atm_manufacturer: string (nullable = true)\n",
            " |-- atm_location: string (nullable = true)\n",
            " |-- atm_streetname: string (nullable = true)\n",
            " |-- atm_street_number: integer (nullable = true)\n",
            " |-- atm_zipcode: integer (nullable = true)\n",
            " |-- atm_lat: double (nullable = true)\n",
            " |-- atm_lon: double (nullable = true)\n",
            " |-- currency: string (nullable = true)\n",
            " |-- card_type: string (nullable = true)\n",
            " |-- transaction_amount: integer (nullable = true)\n",
            " |-- service: string (nullable = true)\n",
            " |-- message_code: string (nullable = true)\n",
            " |-- message_text: string (nullable = true)\n",
            " |-- weather_lat: double (nullable = true)\n",
            " |-- weather_lon: double (nullable = true)\n",
            " |-- weather_city_id: integer (nullable = true)\n",
            " |-- weather_city_name: string (nullable = true)\n",
            " |-- temp: double (nullable = true)\n",
            " |-- pressure: integer (nullable = true)\n",
            " |-- humidity: integer (nullable = true)\n",
            " |-- wind_speed: integer (nullable = true)\n",
            " |-- wind_deg: integer (nullable = true)\n",
            " |-- rain_3h: double (nullable = true)\n",
            " |-- clouds_all: integer (nullable = true)\n",
            " |-- weather_id: integer (nullable = true)\n",
            " |-- weather_main: string (nullable = true)\n",
            " |-- weather_description: string (nullable = true)\n",
            "\n"
          ]
        }
      ]
    },
    {
      "cell_type": "code",
      "source": [
        "df.count()"
      ],
      "metadata": {
        "colab": {
          "base_uri": "https://localhost:8080/"
        },
        "id": "7-0llwD3XpRW",
        "outputId": "63fb3a04-790a-49ab-aeb7-0931e761ce19"
      },
      "execution_count": 9,
      "outputs": [
        {
          "output_type": "execute_result",
          "data": {
            "text/plain": [
              "9875"
            ]
          },
          "metadata": {},
          "execution_count": 9
        }
      ]
    },
    {
      "cell_type": "code",
      "source": [],
      "metadata": {
        "id": "cMTCGufqae5n"
      },
      "execution_count": 9,
      "outputs": []
    },
    {
      "cell_type": "markdown",
      "source": [],
      "metadata": {
        "id": "6dzynp7fgNWr"
      }
    },
    {
      "cell_type": "code",
      "source": [
        "df.columns"
      ],
      "metadata": {
        "colab": {
          "base_uri": "https://localhost:8080/"
        },
        "id": "yTJexpqyhSo6",
        "outputId": "f961ae9a-e093-4240-dbc9-c0d22e3ee801"
      },
      "execution_count": 10,
      "outputs": [
        {
          "output_type": "execute_result",
          "data": {
            "text/plain": [
              "['year',\n",
              " 'month',\n",
              " 'day',\n",
              " 'weekday',\n",
              " 'hour',\n",
              " 'atm_status',\n",
              " 'atm_id',\n",
              " 'atm_manufacturer',\n",
              " 'atm_location',\n",
              " 'atm_streetname',\n",
              " 'atm_street_number',\n",
              " 'atm_zipcode',\n",
              " 'atm_lat',\n",
              " 'atm_lon',\n",
              " 'currency',\n",
              " 'card_type',\n",
              " 'transaction_amount',\n",
              " 'service',\n",
              " 'message_code',\n",
              " 'message_text',\n",
              " 'weather_lat',\n",
              " 'weather_lon',\n",
              " 'weather_city_id',\n",
              " 'weather_city_name',\n",
              " 'temp',\n",
              " 'pressure',\n",
              " 'humidity',\n",
              " 'wind_speed',\n",
              " 'wind_deg',\n",
              " 'rain_3h',\n",
              " 'clouds_all',\n",
              " 'weather_id',\n",
              " 'weather_main',\n",
              " 'weather_description']"
            ]
          },
          "metadata": {},
          "execution_count": 10
        }
      ]
    },
    {
      "cell_type": "code",
      "source": [
        "from pyspark.sql.types import *\n",
        "from pyspark.sql.window import Window\n",
        "import pyspark.sql.functions as F\n",
        "from pyspark.sql.functions import row_number\n",
        "\n",
        "#res_df = emp_df.select(\"emp_name\",\"dept\",\"salary\",F.row_number().over(Window.partitionBy().orderBy(res_df['emp_name'])).alias(\"index\"))\n",
        "\n",
        "\n",
        "\n",
        "# data = data.select(col(\"Name\").alias(\"name\"), col(\"askdaosdka\").alias(\"age\"))\n",
        "# data.show()"
      ],
      "metadata": {
        "id": "aHczSbkCmPLM"
      },
      "execution_count": 18,
      "outputs": []
    },
    {
      "cell_type": "code",
      "source": [
        "#Location dimension - This is a very important dimension containing all the location data including\n",
        "#location name, street name, street number, zip code and even the latitude and longitude. This\n",
        "#information will be very important for solving problems related to the particular location at which\n",
        "#a transaction took place and can help banks in things like pinpointing locations where ATMs where\n",
        "#demand is higher as compared to other locations. Combined with weather data in the transaction table,\n",
        "# this can be used to further do analysis such as how weather affects the demand at ATMs\n",
        "#at a particular location.\n",
        "\n",
        "\n",
        "dim_location = df.select(col('atm_location').alias('location'),col('atm_streetname').alias('street_name'),col('atm_street_number').alias('street_number'),col('atm_zipcode').alias('zipcode'),col('atm_lat').alias('lat'),col('atm_lon').alias('lon')).distinct()\n"
      ],
      "metadata": {
        "id": "qZMO_1lorIvZ"
      },
      "execution_count": 20,
      "outputs": []
    },
    {
      "cell_type": "code",
      "source": [
        "dim_location = dim_location.select('location','street_name','street_number','zipcode','lat','lon',F.row_number().over(Window.partitionBy().orderBy(dim_location['lon'])).alias('location_id'))\n",
        "dim_location.show()\n"
      ],
      "metadata": {
        "colab": {
          "base_uri": "https://localhost:8080/"
        },
        "id": "HHrmRez7trRx",
        "outputId": "b7f12bd8-c56b-4c51-b537-86c441fe9a82"
      },
      "execution_count": 22,
      "outputs": [
        {
          "output_type": "stream",
          "name": "stdout",
          "text": [
            "+-------------------+-------------+-------------+-------+-----------+----------+-----------+\n",
            "|           location|  street_name|street_number|zipcode|        lat|       lon|location_id|\n",
            "+-------------------+-------------+-------------+-------+-----------+----------+-----------+\n",
            "|            Sædding|  Tarphagevej|           59|   6710|55.49817127|8.40834784|          1|\n",
            "|            Esbjerg| Strandbygade|           20|   6700|55.46817465|8.44026782|          2|\n",
            "|          Holstebro|  Hostrupsvej|            6|   7500|56.37271162|8.62513609|          3|\n",
            "|           Vinderup|   Søndergade|            5|   7830|56.48130757|  8.779161|          4|\n",
            "|Nykøbing Mors Lobby|  Kirketorvet|            1|   7900|56.79501966|8.86027738|          5|\n",
            "|      Nykøbing Mors|  Kirketorvet|            1|   7900|56.79501966|8.86027738|          6|\n",
            "|           Glyngøre|     Færgevej|            1|   7870| 56.7623283|8.86671603|          7|\n",
            "|              Durup|       Torvet|            4|   7870|56.74472535|8.94863954|          8|\n",
            "|            Herning|   Dalgasgade|           30|   7400|    56.1349| 8.9705335|          9|\n",
            "|            Jebjerg|    Kirkegade|            4|   7870|56.67112157| 9.0134325|         10|\n",
            "|                Fur|      Stenøre|           19|   7884|56.80476866|9.02002158|         11|\n",
            "|              Skive|     Adelgade|            8|   7800|56.56678482|9.02660419|         12|\n",
            "|        Skive Lobby|     Adelgade|            8|   7800|56.56678482|9.02660419|         13|\n",
            "|      Intern  Skive|     Adelgade|            8|   7800|56.56678482|9.02660419|         14|\n",
            "|    Brugsen i Breum|   Aakjærsvej|            1|   7870|56.68760774|9.06892864|         15|\n",
            "|            Højslev|  Østerrisvej|            2|   7840| 56.5505978|   9.10987|         16|\n",
            "|              Ikast|Rådhusstrædet|           12|   7430| 56.1385849| 9.1538426|         17|\n",
            "|   DAYZ Feriecenter|      Livøvej|           80|   9681|56.89257015|9.17141832|         18|\n",
            "|            Løgstør| Østerbrogade|            8|   9670|56.96699399|9.25265221|         19|\n",
            "|              Farsø|       Torvet|            8|   9640|56.77126808|9.34014451|         20|\n",
            "+-------------------+-------------+-------------+-------+-----------+----------+-----------+\n",
            "only showing top 20 rows\n",
            "\n"
          ]
        }
      ]
    },
    {
      "cell_type": "code",
      "source": [
        "dim_location.count()"
      ],
      "metadata": {
        "colab": {
          "base_uri": "https://localhost:8080/"
        },
        "id": "XrZG0ZTAt5aJ",
        "outputId": "342f7e26-ab50-4d19-a49f-73b106e752b0"
      },
      "execution_count": 23,
      "outputs": [
        {
          "output_type": "execute_result",
          "data": {
            "text/plain": [
              "105"
            ]
          },
          "metadata": {},
          "execution_count": 23
        }
      ]
    },
    {
      "cell_type": "code",
      "source": [
        "#ATM dimension - This dimension will have the data related to the various ATMs\n",
        "#present in the dataset along with the ATM number(ATM ID in the original dataset),\n",
        "#ATM manufacturer and a reference to the ATM location and is very important for\n",
        "#solving analytical queries related where ATM data will be used.\n",
        "\n",
        "\n",
        "\n",
        "dim_atm = df.select(col('atm_location').alias('location'),\n",
        "                         col('atm_streetname').alias('street_name'),\n",
        "                         col('atm_street_number').alias('street_number'),\n",
        "                         col('atm_zipcode').alias('zipcode'),\n",
        "                         col('atm_lat').alias('lat'),\n",
        "                         col('atm_lon').alias('lon'),\n",
        "                         col(\"atm_id\").alias(\"atm_number\"),\n",
        "                         col(\"atm_manufacturer\").alias(\"manufacturer\")).distinct()\n",
        "\n",
        "\n",
        "dim_atm = dim_atm.join(dim_location, on=['location','street_name','street_number','zipcode','lat','lon'],how='left').select('atm_number','manufacturer','location_id')\n",
        "\n",
        "dim_atm.show()"
      ],
      "metadata": {
        "colab": {
          "base_uri": "https://localhost:8080/"
        },
        "id": "8zXSl8TWgR0b",
        "outputId": "f345f956-6522-44d5-fa08-057a6fa055f2"
      },
      "execution_count": 24,
      "outputs": [
        {
          "output_type": "stream",
          "name": "stdout",
          "text": [
            "+----------+---------------+-----------+\n",
            "|atm_number|   manufacturer|location_id|\n",
            "+----------+---------------+-----------+\n",
            "|        76|            NCR|         18|\n",
            "|        86|            NCR|         99|\n",
            "|        53|            NCR|         81|\n",
            "|        57|            NCR|        100|\n",
            "|        72|            NCR|         77|\n",
            "|        70|Diebold Nixdorf|          3|\n",
            "|        96|            NCR|         47|\n",
            "|         6|            NCR|         32|\n",
            "|        36|            NCR|         59|\n",
            "|        64|            NCR|         37|\n",
            "|        74|            NCR|         10|\n",
            "|        98|            NCR|         79|\n",
            "|        40|Diebold Nixdorf|         85|\n",
            "|        62|Diebold Nixdorf|         68|\n",
            "|        41|Diebold Nixdorf|         86|\n",
            "|        78|Diebold Nixdorf|         90|\n",
            "|        80|            NCR|         67|\n",
            "|        59|Diebold Nixdorf|          5|\n",
            "|        85|Diebold Nixdorf|        104|\n",
            "|        31|            NCR|         91|\n",
            "+----------+---------------+-----------+\n",
            "only showing top 20 rows\n",
            "\n"
          ]
        }
      ]
    },
    {
      "cell_type": "code",
      "source": [
        "dim_atm = dim_atm.select('atm_number','manufacturer','location_id',F.row_number().over(Window.partitionBy().orderBy(dim_atm['atm_number'])).alias(\"atm_id\"))\n",
        "dim_atm.show()\n"
      ],
      "metadata": {
        "colab": {
          "base_uri": "https://localhost:8080/"
        },
        "id": "Bbu0s5RUhFHp",
        "outputId": "791cd84c-c6d9-4162-fd32-2f09b3f61d38"
      },
      "execution_count": 25,
      "outputs": [
        {
          "output_type": "stream",
          "name": "stdout",
          "text": [
            "+----------+---------------+-----------+------+\n",
            "|atm_number|   manufacturer|location_id|atm_id|\n",
            "+----------+---------------+-----------+------+\n",
            "|         1|            NCR|         94|     1|\n",
            "|        10|            NCR|         51|     2|\n",
            "|       100|            NCR|         14|     3|\n",
            "|       101|            NCR|         24|     4|\n",
            "|       102|            NCR|         42|     5|\n",
            "|       103|Diebold Nixdorf|         56|     6|\n",
            "|       104|            NCR|         50|     7|\n",
            "|       105|Diebold Nixdorf|         51|     8|\n",
            "|       106|            NCR|         97|     9|\n",
            "|       108|            NCR|         64|    10|\n",
            "|        11|            NCR|         53|    11|\n",
            "|        12|            NCR|         48|    12|\n",
            "|        13|            NCR|         83|    13|\n",
            "|        14|            NCR|         65|    14|\n",
            "|        15|            NCR|         45|    15|\n",
            "|        16|            NCR|         12|    16|\n",
            "|        17|            NCR|         66|    17|\n",
            "|        18|Diebold Nixdorf|         21|    18|\n",
            "|        19|            NCR|         22|    19|\n",
            "|         2|            NCR|         56|    20|\n",
            "+----------+---------------+-----------+------+\n",
            "only showing top 20 rows\n",
            "\n"
          ]
        }
      ]
    },
    {
      "cell_type": "code",
      "source": [
        "\n",
        "from pyspark.sql.functions import *"
      ],
      "metadata": {
        "id": "_wN23IFa4JGi"
      },
      "execution_count": 13,
      "outputs": []
    },
    {
      "cell_type": "code",
      "source": [
        "#Date dimension - This is another very important dimension which is almost always present where data\n",
        "#such as transactional data is being dealt with. This dimension includes fields such as the full date\n",
        "#and time timestamp, year, month, day, hour as well as the weekday for a transaction. This all can help\n",
        "#in analysing the transaction behaviour with respect to the time at which the transaction took place\n",
        "#and also how the transaction activity varies between weekdays and weekends.\n",
        "\n",
        "from pyspark.sql.functions import col, concat_ws\n",
        "\n",
        "def month_to_numeric(month_name):\n",
        "    # Extract the month name string from the Column object\n",
        "    month_name_str = str(month_name)\n",
        "    months = {\n",
        "        \"January\": \"01\",\n",
        "        \"February\": \"02\",\n",
        "        \"March\": \"03\",\n",
        "        \"April\": \"04\",\n",
        "        \"May\": \"05\",\n",
        "        \"June\": \"06\",\n",
        "        \"July\": \"07\",\n",
        "        \"August\": \"08\",\n",
        "        \"September\": \"09\",\n",
        "        \"October\": \"10\",\n",
        "        \"November\": \"11\",\n",
        "        \"December\": \"12\"\n",
        "    }\n",
        "    return months.get(month_name_str, \"00\")  # Return \"00\" for unknown months\n",
        "\n",
        "\n",
        "month_to_numeric(\"January\")\n",
        "\n"
      ],
      "metadata": {
        "colab": {
          "base_uri": "https://localhost:8080/",
          "height": 35
        },
        "id": "lI6meNxrnX4F",
        "outputId": "514464c0-b2b7-4432-aafc-5eb89b306590"
      },
      "execution_count": 27,
      "outputs": [
        {
          "output_type": "execute_result",
          "data": {
            "text/plain": [
              "'01'"
            ],
            "application/vnd.google.colaboratory.intrinsic+json": {
              "type": "string"
            }
          },
          "metadata": {},
          "execution_count": 27
        }
      ]
    },
    {
      "cell_type": "code",
      "source": [
        "dim_date = df.select('year','month','day','hour','weekday').distinct()"
      ],
      "metadata": {
        "id": "Qdnaw4iO2O8x"
      },
      "execution_count": 71,
      "outputs": []
    },
    {
      "cell_type": "code",
      "source": [
        "res_date_df = dim_date.withColumn(\"full_date\",from_unixtime(unix_timestamp(concat(dim_date.year.cast(StringType()),dim_date.month.cast(StringType()),lpad(dim_date.day.cast(StringType()),2,'0'),lpad(dim_date.hour.cast(StringType()),2,'0')),'yyyyMMMMddHH'),'yyyy-MM-dd HH:mm:ss'))\n",
        "\n",
        "res_date_df.show()"
      ],
      "metadata": {
        "colab": {
          "base_uri": "https://localhost:8080/"
        },
        "id": "ehltH9Zq7_un",
        "outputId": "dee6d2f9-b764-420c-ae89-4d2dc15fa87a"
      },
      "execution_count": 77,
      "outputs": [
        {
          "output_type": "stream",
          "name": "stdout",
          "text": [
            "+----+-------+---+----+-------+-------------------+\n",
            "|year|  month|day|hour|weekday|          full_date|\n",
            "+----+-------+---+----+-------+-------------------+\n",
            "|2017|January|  1|   9| Sunday|2017-01-01 09:00:00|\n",
            "|2017|January|  2|   8| Monday|2017-01-02 08:00:00|\n",
            "|2017|January|  2|   2| Monday|2017-01-02 02:00:00|\n",
            "|2017|January|  1|   7| Sunday|2017-01-01 07:00:00|\n",
            "|2017|January|  1|   3| Sunday|2017-01-01 03:00:00|\n",
            "|2017|January|  1|  20| Sunday|2017-01-01 20:00:00|\n",
            "|2017|January|  1|  21| Sunday|2017-01-01 21:00:00|\n",
            "|2017|January|  1|  17| Sunday|2017-01-01 17:00:00|\n",
            "|2017|January|  2|   7| Monday|2017-01-02 07:00:00|\n",
            "|2017|January|  1|   5| Sunday|2017-01-01 05:00:00|\n",
            "|2017|January|  2|   9| Monday|2017-01-02 09:00:00|\n",
            "|2017|January|  1|  15| Sunday|2017-01-01 15:00:00|\n",
            "|2017|January|  2|   4| Monday|2017-01-02 04:00:00|\n",
            "|2017|January|  2|   5| Monday|2017-01-02 05:00:00|\n",
            "|2017|January|  1|  11| Sunday|2017-01-01 11:00:00|\n",
            "|2017|January|  2|  10| Monday|2017-01-02 10:00:00|\n",
            "|2017|January|  1|   8| Sunday|2017-01-01 08:00:00|\n",
            "|2017|January|  1|  19| Sunday|2017-01-01 19:00:00|\n",
            "|2017|January|  1|  12| Sunday|2017-01-01 12:00:00|\n",
            "|2017|January|  1|  18| Sunday|2017-01-01 18:00:00|\n",
            "+----+-------+---+----+-------+-------------------+\n",
            "only showing top 20 rows\n",
            "\n"
          ]
        }
      ]
    },
    {
      "cell_type": "code",
      "source": [
        "dim_date = res_date_df.select(\"full_date\",\"year\",\"month\",\"day\",\"hour\",\n",
        "                                    \"weekday\",\n",
        "                                    F.row_number().over(Window.partitionBy().orderBy(res_date_df['full_date'])).alias(\"date_id\"))\n",
        "#F.row_number().over(Window.partitionBy().orderBy(dim_atm['atm_number'])).alias(\"atm_id\"))\n",
        "dim_date.show()"
      ],
      "metadata": {
        "colab": {
          "base_uri": "https://localhost:8080/"
        },
        "id": "0QRvq6gC2eQA",
        "outputId": "95b13fea-6b0c-4797-bdc0-d1d2c46c0902"
      },
      "execution_count": 78,
      "outputs": [
        {
          "output_type": "stream",
          "name": "stdout",
          "text": [
            "+-------------------+----+-------+---+----+-------+-------+\n",
            "|          full_date|year|  month|day|hour|weekday|date_id|\n",
            "+-------------------+----+-------+---+----+-------+-------+\n",
            "|2017-01-01 00:00:00|2017|January|  1|   0| Sunday|      1|\n",
            "|2017-01-01 01:00:00|2017|January|  1|   1| Sunday|      2|\n",
            "|2017-01-01 02:00:00|2017|January|  1|   2| Sunday|      3|\n",
            "|2017-01-01 03:00:00|2017|January|  1|   3| Sunday|      4|\n",
            "|2017-01-01 04:00:00|2017|January|  1|   4| Sunday|      5|\n",
            "|2017-01-01 05:00:00|2017|January|  1|   5| Sunday|      6|\n",
            "|2017-01-01 06:00:00|2017|January|  1|   6| Sunday|      7|\n",
            "|2017-01-01 07:00:00|2017|January|  1|   7| Sunday|      8|\n",
            "|2017-01-01 08:00:00|2017|January|  1|   8| Sunday|      9|\n",
            "|2017-01-01 09:00:00|2017|January|  1|   9| Sunday|     10|\n",
            "|2017-01-01 10:00:00|2017|January|  1|  10| Sunday|     11|\n",
            "|2017-01-01 11:00:00|2017|January|  1|  11| Sunday|     12|\n",
            "|2017-01-01 12:00:00|2017|January|  1|  12| Sunday|     13|\n",
            "|2017-01-01 13:00:00|2017|January|  1|  13| Sunday|     14|\n",
            "|2017-01-01 14:00:00|2017|January|  1|  14| Sunday|     15|\n",
            "|2017-01-01 15:00:00|2017|January|  1|  15| Sunday|     16|\n",
            "|2017-01-01 16:00:00|2017|January|  1|  16| Sunday|     17|\n",
            "|2017-01-01 17:00:00|2017|January|  1|  17| Sunday|     18|\n",
            "|2017-01-01 18:00:00|2017|January|  1|  18| Sunday|     19|\n",
            "|2017-01-01 19:00:00|2017|January|  1|  19| Sunday|     20|\n",
            "+-------------------+----+-------+---+----+-------+-------+\n",
            "only showing top 20 rows\n",
            "\n"
          ]
        }
      ]
    },
    {
      "cell_type": "code",
      "source": [
        "#Card type dimension - This dimension has the information about the particular card type with which\n",
        "#a particular transaction took place. This can help in performing analysis on how the number of\n",
        "#transactions varies with respect to each different card type.\n",
        "\n",
        "dim_card_type = df.select('card_type').distinct()\n",
        "\n",
        "dim_card_type = dim_card_type.select('card_type',F.row_number().over(Window.partitionBy().orderBy(dim_card_type['card_type'])).alias(\"card_id\"))\n",
        "dim_card_type.show()"
      ],
      "metadata": {
        "colab": {
          "base_uri": "https://localhost:8080/"
        },
        "id": "NBvsFum25-5h",
        "outputId": "40ff275e-ced2-414e-ed8c-22a65706f64f"
      },
      "execution_count": 79,
      "outputs": [
        {
          "output_type": "stream",
          "name": "stdout",
          "text": [
            "+--------------------+-------+\n",
            "|           card_type|card_id|\n",
            "+--------------------+-------+\n",
            "|              CIRRUS|      1|\n",
            "|             Dankort|      2|\n",
            "|     Dankort - on-us|      3|\n",
            "|            Hævekort|      4|\n",
            "|    Hævekort - on-us|      5|\n",
            "|             Maestro|      6|\n",
            "|          MasterCard|      7|\n",
            "|  Mastercard - on-us|      8|\n",
            "|                VISA|      9|\n",
            "|        Visa Dankort|     10|\n",
            "|Visa Dankort - on-us|     11|\n",
            "|            VisaPlus|     12|\n",
            "+--------------------+-------+\n",
            "\n"
          ]
        }
      ]
    },
    {
      "cell_type": "code",
      "source": [
        "#Transaction fact - This is the actual fact table for the data set which contains all of the\n",
        "#numerical data such as the currency of the transaction, service, transaction amount, message\n",
        "#code and text as well as weather info such as description, weather id etc.\n",
        "\n",
        "\n",
        "dim_atm.show(3)"
      ],
      "metadata": {
        "colab": {
          "base_uri": "https://localhost:8080/"
        },
        "id": "HPx2y96b_0-d",
        "outputId": "6e3ae283-f688-40fd-bfe7-0fd584cf6f6d"
      },
      "execution_count": 80,
      "outputs": [
        {
          "output_type": "stream",
          "name": "stdout",
          "text": [
            "+----------+------------+-----------+------+\n",
            "|atm_number|manufacturer|location_id|atm_id|\n",
            "+----------+------------+-----------+------+\n",
            "|         1|         NCR|         94|     1|\n",
            "|        10|         NCR|         51|     2|\n",
            "|       100|         NCR|         14|     3|\n",
            "+----------+------------+-----------+------+\n",
            "only showing top 3 rows\n",
            "\n"
          ]
        }
      ]
    },
    {
      "cell_type": "code",
      "source": [
        "dim_location.show(3)"
      ],
      "metadata": {
        "colab": {
          "base_uri": "https://localhost:8080/"
        },
        "id": "0Lzapk7EDqJ2",
        "outputId": "2671f5af-2268-46cc-f366-9751de05d2f7"
      },
      "execution_count": 81,
      "outputs": [
        {
          "output_type": "stream",
          "name": "stdout",
          "text": [
            "+---------+------------+-------------+-------+-----------+----------+-----------+\n",
            "| location| street_name|street_number|zipcode|        lat|       lon|location_id|\n",
            "+---------+------------+-------------+-------+-----------+----------+-----------+\n",
            "|  Sædding| Tarphagevej|           59|   6710|55.49817127|8.40834784|          1|\n",
            "|  Esbjerg|Strandbygade|           20|   6700|55.46817465|8.44026782|          2|\n",
            "|Holstebro| Hostrupsvej|            6|   7500|56.37271162|8.62513609|          3|\n",
            "+---------+------------+-------------+-------+-----------+----------+-----------+\n",
            "only showing top 3 rows\n",
            "\n"
          ]
        }
      ]
    },
    {
      "cell_type": "code",
      "source": [
        "dim_date.show(3)"
      ],
      "metadata": {
        "colab": {
          "base_uri": "https://localhost:8080/"
        },
        "id": "NYyXLexhDu_3",
        "outputId": "15142b78-ec50-494f-cf27-021f781879bb"
      },
      "execution_count": 82,
      "outputs": [
        {
          "output_type": "stream",
          "name": "stdout",
          "text": [
            "+-------------------+----+-------+---+----+-------+-------+\n",
            "|          full_date|year|  month|day|hour|weekday|date_id|\n",
            "+-------------------+----+-------+---+----+-------+-------+\n",
            "|2017-01-01 00:00:00|2017|January|  1|   0| Sunday|      1|\n",
            "|2017-01-01 01:00:00|2017|January|  1|   1| Sunday|      2|\n",
            "|2017-01-01 02:00:00|2017|January|  1|   2| Sunday|      3|\n",
            "+-------------------+----+-------+---+----+-------+-------+\n",
            "only showing top 3 rows\n",
            "\n"
          ]
        }
      ]
    },
    {
      "cell_type": "code",
      "source": [
        "dim_card_type.show(3)"
      ],
      "metadata": {
        "colab": {
          "base_uri": "https://localhost:8080/"
        },
        "id": "G9alXlfyDzVk",
        "outputId": "cc1027b8-97c2-4217-e858-cedbdc5b51bc"
      },
      "execution_count": 83,
      "outputs": [
        {
          "output_type": "stream",
          "name": "stdout",
          "text": [
            "+---------------+-------+\n",
            "|      card_type|card_id|\n",
            "+---------------+-------+\n",
            "|         CIRRUS|      1|\n",
            "|        Dankort|      2|\n",
            "|Dankort - on-us|      3|\n",
            "+---------------+-------+\n",
            "only showing top 3 rows\n",
            "\n"
          ]
        }
      ]
    },
    {
      "cell_type": "code",
      "source": [
        "stg1_df = df.join(dim_date, on=[\"year\",\"month\",'day',\"hour\",\"weekday\"], how='left').select(*(df.columns+[dim_date.date_id])).drop(*['year','month','day','hour','weekday'])"
      ],
      "metadata": {
        "id": "XHZaI-jFD2Fh"
      },
      "execution_count": 87,
      "outputs": []
    },
    {
      "cell_type": "markdown",
      "source": [],
      "metadata": {
        "id": "Hq0-YPhSJn9v"
      }
    },
    {
      "cell_type": "code",
      "source": [
        "stg1_df.show(1)"
      ],
      "metadata": {
        "colab": {
          "base_uri": "https://localhost:8080/"
        },
        "id": "im3hSKvKEoCo",
        "outputId": "4f5f96eb-209c-47cd-f6d4-846b84dc30fb"
      },
      "execution_count": 88,
      "outputs": [
        {
          "output_type": "stream",
          "name": "stdout",
          "text": [
            "+----------+------+----------------+------------+--------------+-----------------+-----------+-----------+-----------+--------+----------+------------------+-------+------------+------------+-----------+-----------+---------------+-----------------+------+--------+--------+----------+--------+-------+----------+----------+------------+-------------------+-------+\n",
            "|atm_status|atm_id|atm_manufacturer|atm_location|atm_streetname|atm_street_number|atm_zipcode|    atm_lat|    atm_lon|currency| card_type|transaction_amount|service|message_code|message_text|weather_lat|weather_lon|weather_city_id|weather_city_name|  temp|pressure|humidity|wind_speed|wind_deg|rain_3h|clouds_all|weather_id|weather_main|weather_description|date_id|\n",
            "+----------+------+----------------+------------+--------------+-----------------+-----------+-----------+-----------+--------+----------+------------------+-------+------------+------------+-----------+-----------+---------------+-----------------+------+--------+--------+----------+--------+-------+----------+----------+------------+-------------------+-------+\n",
            "|    Active|     1|             NCR|     Næstved|   Farimagsvej|                8|       4700|55.23342278|11.76327044|     DKK|MasterCard|              NULL|   NULL|        NULL|   55.229919|   11.76092|  2616038.0|           NULL|           281.15|1014.0|      87|       7|       260|    NULL|   92.0|       500|      NULL|  light rain|               NULL|      1|\n",
            "+----------+------+----------------+------------+--------------+-----------------+-----------+-----------+-----------+--------+----------+------------------+-------+------------+------------+-----------+-----------+---------------+-----------------+------+--------+--------+----------+--------+-------+----------+----------+------------+-------------------+-------+\n",
            "only showing top 1 row\n",
            "\n"
          ]
        }
      ]
    },
    {
      "cell_type": "code",
      "source": [
        "\n",
        "\n",
        "stg2_df = stg1_df.join(dim_card_type, on=['card_type'], how ='left').select(*(stg1_df.columns+[dim_card_type.card_id])).drop(*['card_type'])\n"
      ],
      "metadata": {
        "id": "oi_cU_u2Fvxa"
      },
      "execution_count": 100,
      "outputs": []
    },
    {
      "cell_type": "code",
      "source": [
        "stg2_df.show(2)\n",
        "stg2_df.printSchema()"
      ],
      "metadata": {
        "colab": {
          "base_uri": "https://localhost:8080/"
        },
        "id": "I0MenSWSGmqQ",
        "outputId": "82d730a9-48e3-45ec-f264-f93dcede98e0"
      },
      "execution_count": 101,
      "outputs": [
        {
          "output_type": "stream",
          "name": "stdout",
          "text": [
            "+----------+------+----------------+------------+--------------+-----------------+-----------+-----------+-----------+--------+------------------+-------+------------+------------+-----------+-----------+---------------+-----------------+------+--------+--------+----------+--------+-------+----------+----------+------------+-------------------+-------+-------+\n",
            "|atm_status|atm_id|atm_manufacturer|atm_location|atm_streetname|atm_street_number|atm_zipcode|    atm_lat|    atm_lon|currency|transaction_amount|service|message_code|message_text|weather_lat|weather_lon|weather_city_id|weather_city_name|  temp|pressure|humidity|wind_speed|wind_deg|rain_3h|clouds_all|weather_id|weather_main|weather_description|date_id|card_id|\n",
            "+----------+------+----------------+------------+--------------+-----------------+-----------+-----------+-----------+--------+------------------+-------+------------+------------+-----------+-----------+---------------+-----------------+------+--------+--------+----------+--------+-------+----------+----------+------------+-------------------+-------+-------+\n",
            "|    Active|     1|             NCR|     Næstved|   Farimagsvej|                8|       4700|55.23342278|11.76327044|     DKK|              NULL|   NULL|        NULL|   55.229919|   11.76092|  2616038.0|           NULL|           281.15|1014.0|      87|       7|       260|    NULL|   92.0|       500|      NULL|  light rain|               NULL|      1|      7|\n",
            "|  Inactive|     2|             NCR|    Vejgaard|    Hadsundvej|               20|       9000|57.04283821| 9.95001302|     DKK|              NULL|   NULL|        NULL|    57.04834|     9.9352|  2616235.0|           NULL|           280.64|1020.0|      93|       9|       250|    NULL|   92.0|       500|      NULL|  light rain|               NULL|      1|      7|\n",
            "+----------+------+----------------+------------+--------------+-----------------+-----------+-----------+-----------+--------+------------------+-------+------------+------------+-----------+-----------+---------------+-----------------+------+--------+--------+----------+--------+-------+----------+----------+------------+-------------------+-------+-------+\n",
            "only showing top 2 rows\n",
            "\n",
            "root\n",
            " |-- atm_status: string (nullable = true)\n",
            " |-- atm_id: string (nullable = true)\n",
            " |-- atm_manufacturer: string (nullable = true)\n",
            " |-- atm_location: string (nullable = true)\n",
            " |-- atm_streetname: string (nullable = true)\n",
            " |-- atm_street_number: integer (nullable = true)\n",
            " |-- atm_zipcode: integer (nullable = true)\n",
            " |-- atm_lat: double (nullable = true)\n",
            " |-- atm_lon: double (nullable = true)\n",
            " |-- currency: string (nullable = true)\n",
            " |-- transaction_amount: integer (nullable = true)\n",
            " |-- service: string (nullable = true)\n",
            " |-- message_code: string (nullable = true)\n",
            " |-- message_text: string (nullable = true)\n",
            " |-- weather_lat: double (nullable = true)\n",
            " |-- weather_lon: double (nullable = true)\n",
            " |-- weather_city_id: integer (nullable = true)\n",
            " |-- weather_city_name: string (nullable = true)\n",
            " |-- temp: double (nullable = true)\n",
            " |-- pressure: integer (nullable = true)\n",
            " |-- humidity: integer (nullable = true)\n",
            " |-- wind_speed: integer (nullable = true)\n",
            " |-- wind_deg: integer (nullable = true)\n",
            " |-- rain_3h: double (nullable = true)\n",
            " |-- clouds_all: integer (nullable = true)\n",
            " |-- weather_id: integer (nullable = true)\n",
            " |-- weather_main: string (nullable = true)\n",
            " |-- weather_description: string (nullable = true)\n",
            " |-- date_id: integer (nullable = true)\n",
            " |-- card_id: integer (nullable = true)\n",
            "\n"
          ]
        }
      ]
    },
    {
      "cell_type": "code",
      "source": [
        "# |location_id|\n",
        "stg3_df = stg2_df.withColumnsRenamed({\"atm_manufacturer\":\"manufacturer\",\n",
        "                                      \"atm_location\":\"location\",\n",
        "                                      \"atm_streetname\":\"street_name\",\n",
        "                                      \"atm_street_number\":\"street_number\",\n",
        "                                      \"atm_zipcode\":\"zipcode\",\n",
        "                                      \"atm_lat\":\"lat\",\n",
        "                                      \"atm_lon\":\"lon\",\n",
        "                                      \"atm_id\":\"atm_number\"})\n",
        "\n",
        "\n",
        "stg3_df.show(3)"
      ],
      "metadata": {
        "colab": {
          "base_uri": "https://localhost:8080/"
        },
        "id": "XLHg6x9hGo46",
        "outputId": "a1c11079-0e4b-4f1d-8bdd-b6e33dcc8c98"
      },
      "execution_count": 105,
      "outputs": [
        {
          "output_type": "stream",
          "name": "stdout",
          "text": [
            "+----------+----------+------------+--------+-----------+-------------+-------+-----------+-----------+--------+------------------+-------+------------+------------+-----------+-----------+---------------+-----------------+------+--------+--------+----------+--------+-------+----------+----------+------------+-------------------+-------+-------+\n",
            "|atm_status|atm_number|manufacturer|location|street_name|street_number|zipcode|        lat|        lon|currency|transaction_amount|service|message_code|message_text|weather_lat|weather_lon|weather_city_id|weather_city_name|  temp|pressure|humidity|wind_speed|wind_deg|rain_3h|clouds_all|weather_id|weather_main|weather_description|date_id|card_id|\n",
            "+----------+----------+------------+--------+-----------+-------------+-------+-----------+-----------+--------+------------------+-------+------------+------------+-----------+-----------+---------------+-----------------+------+--------+--------+----------+--------+-------+----------+----------+------------+-------------------+-------+-------+\n",
            "|    Active|         1|         NCR| Næstved|Farimagsvej|            8|   4700|55.23342278|11.76327044|     DKK|              NULL|   NULL|        NULL|   55.229919|   11.76092|  2616038.0|           NULL|           281.15|1014.0|      87|       7|       260|    NULL|   92.0|       500|      NULL|  light rain|               NULL|      1|      7|\n",
            "|  Inactive|         2|         NCR|Vejgaard| Hadsundvej|           20|   9000|57.04283821| 9.95001302|     DKK|              NULL|   NULL|        NULL|    57.04834|     9.9352|  2616235.0|           NULL|           280.64|1020.0|      93|       9|       250|    NULL|   92.0|       500|      NULL|  light rain|               NULL|      1|      7|\n",
            "|  Inactive|         2|         NCR|Vejgaard| Hadsundvej|           20|   9000|57.04283821| 9.95001302|     DKK|              NULL|   NULL|        NULL|    57.04834|     9.9352|  2616235.0|           NULL|           280.64|1020.0|      93|       9|       250|    NULL|   92.0|       500|      NULL|  light rain|               NULL|      1|      9|\n",
            "+----------+----------+------------+--------+-----------+-------------+-------+-----------+-----------+--------+------------------+-------+------------+------------+-----------+-----------+---------------+-----------------+------+--------+--------+----------+--------+-------+----------+----------+------------+-------------------+-------+-------+\n",
            "only showing top 3 rows\n",
            "\n"
          ]
        }
      ]
    },
    {
      "cell_type": "code",
      "source": [
        "stg4_df = stg3_df.join(dim_location, on=[\"location\",\"street_name\",\"street_number\",\"zipcode\",\"lat\",\"lon\"], how='left').select(*(stg3_df.columns+[dim_location.location_id])).drop(*[\"location\",\"street_name\",\"street_number\",\"zipcode\",\"lat\",\"lon\"])\n",
        "\n",
        "stg4_df.show(3)"
      ],
      "metadata": {
        "colab": {
          "base_uri": "https://localhost:8080/"
        },
        "id": "HdtrpO9LJyoY",
        "outputId": "e699daa8-4e24-4cfb-f73d-5e3bff29e3f4"
      },
      "execution_count": 106,
      "outputs": [
        {
          "output_type": "stream",
          "name": "stdout",
          "text": [
            "+----------+----------+------------+--------+------------------+-------+------------+------------+-----------+-----------+---------------+-----------------+------+--------+--------+----------+--------+-------+----------+----------+------------+-------------------+-------+-------+-----------+\n",
            "|atm_status|atm_number|manufacturer|currency|transaction_amount|service|message_code|message_text|weather_lat|weather_lon|weather_city_id|weather_city_name|  temp|pressure|humidity|wind_speed|wind_deg|rain_3h|clouds_all|weather_id|weather_main|weather_description|date_id|card_id|location_id|\n",
            "+----------+----------+------------+--------+------------------+-------+------------+------------+-----------+-----------+---------------+-----------------+------+--------+--------+----------+--------+-------+----------+----------+------------+-------------------+-------+-------+-----------+\n",
            "|    Active|         1|         NCR|     DKK|              NULL|   NULL|        NULL|   55.229919|   11.76092|  2616038.0|           NULL|           281.15|1014.0|      87|       7|       260|    NULL|   92.0|       500|      NULL|  light rain|               NULL|      1|      7|         94|\n",
            "|  Inactive|         2|         NCR|     DKK|              NULL|   NULL|        NULL|    57.04834|     9.9352|  2616235.0|           NULL|           280.64|1020.0|      93|       9|       250|    NULL|   92.0|       500|      NULL|  light rain|               NULL|      1|      7|         56|\n",
            "|  Inactive|         2|         NCR|     DKK|              NULL|   NULL|        NULL|    57.04834|     9.9352|  2616235.0|           NULL|           280.64|1020.0|      93|       9|       250|    NULL|   92.0|       500|      NULL|  light rain|               NULL|      1|      9|         56|\n",
            "+----------+----------+------------+--------+------------------+-------+------------+------------+-----------+-----------+---------------+-----------------+------+--------+--------+----------+--------+-------+----------+----------+------------+-------------------+-------+-------+-----------+\n",
            "only showing top 3 rows\n",
            "\n"
          ]
        }
      ]
    },
    {
      "cell_type": "code",
      "source": [
        "#|atm_number|manufacturer|location_id|atm_id|\n",
        "\n",
        "stg5_df = stg4_df.join(dim_atm, on =['atm_number',\"manufacturer\",\"location_id\"],how='left').select(*(stg4_df.columns+[dim_atm.atm_id])).drop(*['atm_number',\"manufacturer\"])\n",
        "\n",
        "stg5_df.show(2)"
      ],
      "metadata": {
        "colab": {
          "base_uri": "https://localhost:8080/"
        },
        "id": "Cy_KRpqZMA_3",
        "outputId": "3e5e09be-3e25-4657-f8fe-872844795898"
      },
      "execution_count": 112,
      "outputs": [
        {
          "output_type": "stream",
          "name": "stdout",
          "text": [
            "+----------+--------+------------------+-------+------------+------------+-----------+-----------+---------------+-----------------+------+--------+--------+----------+--------+-------+----------+----------+------------+-------------------+-------+-------+-----------+------+\n",
            "|atm_status|currency|transaction_amount|service|message_code|message_text|weather_lat|weather_lon|weather_city_id|weather_city_name|  temp|pressure|humidity|wind_speed|wind_deg|rain_3h|clouds_all|weather_id|weather_main|weather_description|date_id|card_id|location_id|atm_id|\n",
            "+----------+--------+------------------+-------+------------+------------+-----------+-----------+---------------+-----------------+------+--------+--------+----------+--------+-------+----------+----------+------------+-------------------+-------+-------+-----------+------+\n",
            "|    Active|     DKK|              NULL|   NULL|        NULL|   55.229919|   11.76092|  2616038.0|           NULL|           281.15|1014.0|      87|       7|       260|    NULL|   92.0|       500|      NULL|  light rain|               NULL|      1|      7|         94|     1|\n",
            "|  Inactive|     DKK|              NULL|   NULL|        NULL|    57.04834|     9.9352|  2616235.0|           NULL|           280.64|1020.0|      93|       9|       250|    NULL|   92.0|       500|      NULL|  light rain|               NULL|      1|      7|         56|    20|\n",
            "+----------+--------+------------------+-------+------------+------------+-----------+-----------+---------------+-----------------+------+--------+--------+----------+--------+-------+----------+----------+------------+-------------------+-------+-------+-----------+------+\n",
            "only showing top 2 rows\n",
            "\n"
          ]
        }
      ]
    },
    {
      "cell_type": "code",
      "source": [
        "stg5_df.count()"
      ],
      "metadata": {
        "colab": {
          "base_uri": "https://localhost:8080/"
        },
        "id": "YIfNk-h-NY61",
        "outputId": "55d2c1b7-9122-431f-aa9a-b2cc74f29fe3"
      },
      "execution_count": 113,
      "outputs": [
        {
          "output_type": "execute_result",
          "data": {
            "text/plain": [
              "9875"
            ]
          },
          "metadata": {},
          "execution_count": 113
        }
      ]
    },
    {
      "cell_type": "code",
      "source": [
        "df.count()"
      ],
      "metadata": {
        "colab": {
          "base_uri": "https://localhost:8080/"
        },
        "id": "7HAQSlj0N2TL",
        "outputId": "d4335730-67c1-40a5-afe0-4e22d080da6c"
      },
      "execution_count": 114,
      "outputs": [
        {
          "output_type": "execute_result",
          "data": {
            "text/plain": [
              "9875"
            ]
          },
          "metadata": {},
          "execution_count": 114
        }
      ]
    },
    {
      "cell_type": "code",
      "source": [
        "\n",
        "stg5_df.columns"
      ],
      "metadata": {
        "colab": {
          "base_uri": "https://localhost:8080/"
        },
        "id": "kkqfar27ONic",
        "outputId": "9e4e1d04-4d65-4e0b-f8ee-8d065f35661c"
      },
      "execution_count": 115,
      "outputs": [
        {
          "output_type": "execute_result",
          "data": {
            "text/plain": [
              "['atm_status',\n",
              " 'currency',\n",
              " 'transaction_amount',\n",
              " 'service',\n",
              " 'message_code',\n",
              " 'message_text',\n",
              " 'weather_lat',\n",
              " 'weather_lon',\n",
              " 'weather_city_id',\n",
              " 'weather_city_name',\n",
              " 'temp',\n",
              " 'pressure',\n",
              " 'humidity',\n",
              " 'wind_speed',\n",
              " 'wind_deg',\n",
              " 'rain_3h',\n",
              " 'clouds_all',\n",
              " 'weather_id',\n",
              " 'weather_main',\n",
              " 'weather_description',\n",
              " 'date_id',\n",
              " 'card_id',\n",
              " 'location_id',\n",
              " 'atm_id']"
            ]
          },
          "metadata": {},
          "execution_count": 115
        }
      ]
    },
    {
      "cell_type": "code",
      "source": [
        "trans_fact = stg5_df.select('atm_status','currency','transaction_amount', 'service',\n",
        " 'message_code', 'message_text', 'weather_lat', 'weather_lon',\n",
        " 'weather_city_id', 'weather_city_name', 'temp', 'pressure',\n",
        " 'humidity', 'wind_speed', 'wind_deg', 'rain_3h',\n",
        " 'clouds_all', 'weather_id', 'weather_main', 'weather_description',\n",
        " 'date_id', 'card_id', 'location_id', 'atm_id',F.row_number().over(Window.partitionBy().orderBy(stg5_df['atm_id'])).alias(\"trans_id\"))\n",
        "\n",
        "trans_fact.show(2)"
      ],
      "metadata": {
        "colab": {
          "base_uri": "https://localhost:8080/"
        },
        "id": "46dQGUDdN7OT",
        "outputId": "d4f3d004-9ebc-4eea-c6ac-2bd5778cc12c"
      },
      "execution_count": 116,
      "outputs": [
        {
          "output_type": "stream",
          "name": "stdout",
          "text": [
            "+----------+--------+------------------+-------+------------+------------+-----------+-----------+---------------+-----------------+------+--------+--------+----------+--------+-------+----------+----------+------------+-------------------+-------+-------+-----------+------+--------+\n",
            "|atm_status|currency|transaction_amount|service|message_code|message_text|weather_lat|weather_lon|weather_city_id|weather_city_name|  temp|pressure|humidity|wind_speed|wind_deg|rain_3h|clouds_all|weather_id|weather_main|weather_description|date_id|card_id|location_id|atm_id|trans_id|\n",
            "+----------+--------+------------------+-------+------------+------------+-----------+-----------+---------------+-----------------+------+--------+--------+----------+--------+-------+----------+----------+------------+-------------------+-------+-------+-----------+------+--------+\n",
            "|    Active|     DKK|              NULL|   NULL|        NULL|   55.229919|   11.76092|  2616038.0|           NULL|           281.15|1014.0|      87|       7|       260|    NULL|   92.0|       500|      NULL|  light rain|               NULL|      1|      7|         94|     1|       1|\n",
            "|    Active|     DKK|              NULL|   NULL|        NULL|   55.229919|   11.76092|  2616038.0|           NULL|           281.15|1014.0|      87|       7|       250|    NULL|   92.0|       500|      NULL|  light rain|               NULL|      2|      7|         94|     1|       2|\n",
            "+----------+--------+------------------+-------+------------+------------+-----------+-----------+---------------+-----------------+------+--------+--------+----------+--------+-------+----------+----------+------------+-------------------+-------+-------+-----------+------+--------+\n",
            "only showing top 2 rows\n",
            "\n"
          ]
        }
      ]
    },
    {
      "cell_type": "code",
      "source": [
        "trans_fact.count()"
      ],
      "metadata": {
        "colab": {
          "base_uri": "https://localhost:8080/"
        },
        "id": "Op40sYCsPh_w",
        "outputId": "592aebb8-cd64-402a-e18d-d9909294e626"
      },
      "execution_count": 117,
      "outputs": [
        {
          "output_type": "execute_result",
          "data": {
            "text/plain": [
              "9875"
            ]
          },
          "metadata": {},
          "execution_count": 117
        }
      ]
    },
    {
      "cell_type": "code",
      "source": [
        "trans_fact.coalesce(10).write.csv(\"address\", mode=\"overwrite\")"
      ],
      "metadata": {
        "id": "NPos3SF7P79p"
      },
      "execution_count": null,
      "outputs": []
    },
    {
      "cell_type": "code",
      "source": [
        "\n",
        "dim_location.coalesce(1).write.csv(\"address\", mode=\"overwrite\")\n",
        "dim_atm.coalesce(1).write.csv(\"address\", mode=\"overwrite\")\n",
        "dim_date.coalesce(1).write.csv(\"address\",mode=\"overwrite\")\n",
        "dim_card_type.coalese(1).write.csv(\"address\",mode=\"overwrite\")"
      ],
      "metadata": {
        "id": "o8tv3LMhQkof"
      },
      "execution_count": null,
      "outputs": []
    },
    {
      "cell_type": "code",
      "source": [
        "\n",
        "# Writing DataFrame to CSV\n",
        "trans_fact.write.csv(\"sample_data/transaction_fact_table.csv\", header=True)\n",
        "trans_fact.coalesce(10).write.csv(\"sample_data/transaction_fact_table_1.csv\", mode=\"overwrite\")\n"
      ],
      "metadata": {
        "id": "ozxVhmJbRe3i"
      },
      "execution_count": 119,
      "outputs": []
    },
    {
      "cell_type": "code",
      "source": [
        "dim_location.coalesce(1).write.csv(\"sample_data/dim_location.csv\", mode=\"overwrite\")\n",
        "dim_atm.coalesce(1).write.csv(\"sample_data/dim_atm.csv\", mode=\"overwrite\")\n",
        "dim_date.coalesce(1).write.csv(\"sample_data/dim_date.csv\",mode=\"overwrite\")\n",
        "dim_card_type.coalese(1).write.csv(\"sample_data/dim_card_type.csv\",mode=\"overwrite\")"
      ],
      "metadata": {
        "id": "Yw1APk5sRtZK"
      },
      "execution_count": null,
      "outputs": []
    }
  ]
}