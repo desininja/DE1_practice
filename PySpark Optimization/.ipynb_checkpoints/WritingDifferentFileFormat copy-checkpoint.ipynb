{
 "cells": [
  {
   "cell_type": "code",
   "execution_count": 2,
   "metadata": {},
   "outputs": [
    {
     "name": "stderr",
     "output_type": "stream",
     "text": [
      "The code failed because of a fatal error:\n",
      "\tError sending http request and maximum retry encountered..\n",
      "\n",
      "Some things to try:\n",
      "a) Make sure Spark has enough available resources for Jupyter to create a Spark context.\n",
      "b) Contact your Jupyter administrator to make sure the Spark magics library is configured correctly.\n",
      "c) Restart the kernel.\n"
     ]
    }
   ],
   "source": [
    "spark"
   ]
  },
  {
   "cell_type": "code",
   "execution_count": 4,
   "metadata": {},
   "outputs": [
    {
     "data": {
      "application/vnd.jupyter.widget-view+json": {
       "model_id": "27f0d4803808410fb8e4b8716fb4c1a1",
       "version_major": 2,
       "version_minor": 0
      },
      "text/plain": [
       "VBox()"
      ]
     },
     "metadata": {},
     "output_type": "display_data"
    },
    {
     "data": {
      "application/vnd.jupyter.widget-view+json": {
       "model_id": "",
       "version_major": 2,
       "version_minor": 0
      },
      "text/plain": [
       "FloatProgress(value=0.0, bar_style='info', description='Progress:', layout=Layout(height='25px', width='50%'),…"
      ]
     },
     "metadata": {},
     "output_type": "display_data"
    }
   ],
   "source": [
    "df=spark.read.json('s3a://sparkbucket123/Electronics_5.json')\n"
   ]
  },
  {
   "cell_type": "code",
   "execution_count": 5,
   "metadata": {},
   "outputs": [
    {
     "data": {
      "application/vnd.jupyter.widget-view+json": {
       "model_id": "9fc8a398ac2047c6b7395c46a0de59b0",
       "version_major": 2,
       "version_minor": 0
      },
      "text/plain": [
       "VBox()"
      ]
     },
     "metadata": {},
     "output_type": "display_data"
    },
    {
     "data": {
      "application/vnd.jupyter.widget-view+json": {
       "model_id": "",
       "version_major": 2,
       "version_minor": 0
      },
      "text/plain": [
       "FloatProgress(value=0.0, bar_style='info', description='Progress:', layout=Layout(height='25px', width='50%'),…"
      ]
     },
     "metadata": {},
     "output_type": "display_data"
    }
   ],
   "source": [
    "df.write.parquet(\"amazon_data.parquet\")"
   ]
  },
  {
   "cell_type": "code",
   "execution_count": 6,
   "metadata": {},
   "outputs": [
    {
     "data": {
      "application/vnd.jupyter.widget-view+json": {
       "model_id": "8998ab0d03cc4f7f842d014b9047ceea",
       "version_major": 2,
       "version_minor": 0
      },
      "text/plain": [
       "VBox()"
      ]
     },
     "metadata": {},
     "output_type": "display_data"
    },
    {
     "data": {
      "application/vnd.jupyter.widget-view+json": {
       "model_id": "",
       "version_major": 2,
       "version_minor": 0
      },
      "text/plain": [
       "FloatProgress(value=0.0, bar_style='info', description='Progress:', layout=Layout(height='25px', width='50%'),…"
      ]
     },
     "metadata": {},
     "output_type": "display_data"
    }
   ],
   "source": [
    "df.write.orc(\"amazon_data.orc\")"
   ]
  },
  {
   "cell_type": "code",
   "execution_count": 7,
   "metadata": {},
   "outputs": [
    {
     "data": {
      "application/vnd.jupyter.widget-view+json": {
       "model_id": "db244689baf74a97a0711f523833230e",
       "version_major": 2,
       "version_minor": 0
      },
      "text/plain": [
       "VBox()"
      ]
     },
     "metadata": {},
     "output_type": "display_data"
    },
    {
     "data": {
      "application/vnd.jupyter.widget-view+json": {
       "model_id": "",
       "version_major": 2,
       "version_minor": 0
      },
      "text/plain": [
       "FloatProgress(value=0.0, bar_style='info', description='Progress:', layout=Layout(height='25px', width='50%'),…"
      ]
     },
     "metadata": {},
     "output_type": "display_data"
    }
   ],
   "source": [
    "df.write.json(\"amazon_data.json\")"
   ]
  },
  {
   "cell_type": "code",
   "execution_count": 8,
   "metadata": {},
   "outputs": [
    {
     "data": {
      "application/vnd.jupyter.widget-view+json": {
       "model_id": "f8c41fad29674daa9e346fd8c2cb4507",
       "version_major": 2,
       "version_minor": 0
      },
      "text/plain": [
       "VBox()"
      ]
     },
     "metadata": {},
     "output_type": "display_data"
    },
    {
     "data": {
      "application/vnd.jupyter.widget-view+json": {
       "model_id": "",
       "version_major": 2,
       "version_minor": 0
      },
      "text/plain": [
       "FloatProgress(value=0.0, bar_style='info', description='Progress:', layout=Layout(height='25px', width='50%'),…"
      ]
     },
     "metadata": {},
     "output_type": "display_data"
    }
   ],
   "source": [
    "df_read=spark.read.json(\"amazon_data.json\")"
   ]
  },
  {
   "cell_type": "code",
   "execution_count": 9,
   "metadata": {},
   "outputs": [
    {
     "data": {
      "application/vnd.jupyter.widget-view+json": {
       "model_id": "88675667697d4786a7c37b8d6f58ec85",
       "version_major": 2,
       "version_minor": 0
      },
      "text/plain": [
       "VBox()"
      ]
     },
     "metadata": {},
     "output_type": "display_data"
    },
    {
     "data": {
      "application/vnd.jupyter.widget-view+json": {
       "model_id": "",
       "version_major": 2,
       "version_minor": 0
      },
      "text/plain": [
       "FloatProgress(value=0.0, bar_style='info', description='Progress:', layout=Layout(height='25px', width='50%'),…"
      ]
     },
     "metadata": {},
     "output_type": "display_data"
    }
   ],
   "source": [
    "df2 = spark.read.parquet(\"amazon_data.parquet\")"
   ]
  },
  {
   "cell_type": "code",
   "execution_count": 10,
   "metadata": {},
   "outputs": [
    {
     "data": {
      "application/vnd.jupyter.widget-view+json": {
       "model_id": "dada00d31d42477a9787d7e6818acb4b",
       "version_major": 2,
       "version_minor": 0
      },
      "text/plain": [
       "VBox()"
      ]
     },
     "metadata": {},
     "output_type": "display_data"
    },
    {
     "data": {
      "application/vnd.jupyter.widget-view+json": {
       "model_id": "",
       "version_major": 2,
       "version_minor": 0
      },
      "text/plain": [
       "FloatProgress(value=0.0, bar_style='info', description='Progress:', layout=Layout(height='25px', width='50%'),…"
      ]
     },
     "metadata": {},
     "output_type": "display_data"
    },
    {
     "name": "stdout",
     "output_type": "stream",
     "text": [
      "+----------+-------+-------+--------------------+-----------+--------------+--------------------+--------------------+--------------+\n",
      "|      asin|helpful|overall|          reviewText| reviewTime|    reviewerID|        reviewerName|             summary|unixReviewTime|\n",
      "+----------+-------+-------+--------------------+-----------+--------------+--------------------+--------------------+--------------+\n",
      "|B00BDCF5JK| [4, 4]|    5.0|I purchased the A...| 11 9, 2013|A16KHL9MX9FXV3|        Scott Miller|Very good protect...|    1383955200|\n",
      "|B00BDCF716| [1, 2]|    3.0|Only the carbon f...|08 22, 2013| ANUF4LWX96DXW|            Bau Kieu|           Half Good|    1377129600|\n",
      "|B00BDCF716| [4, 4]|    4.0|The CF looks grea...| 06 6, 2013|A20RSO8H7Z772Y|         droid owner|CF is awesome, Sc...|    1370476800|\n",
      "|B00BDCF716| [1, 1]|    4.0|My pen scratched ...|10 29, 2013|A1THQXOSQUPPNP|     Kindle Customer|Carbon Fiber was ...|    1383004800|\n",
      "|B00BDCF716| [0, 0]|    4.0|It is exactly wha...| 12 3, 2013|A2ZX1HG813DPXI|         Nail Akkaya|Bought this for t...|    1386028800|\n",
      "|B00BDCF716| [3, 5]|    5.0|This is good to p...|04 14, 2013|A34YWZOWH06JGZ|             Ngejung|Carbon Fiber look...|    1365897600|\n",
      "|B00BDCF716| [1, 2]|    3.0|My review is only...| 03 7, 2014|A1N2CS070PSEGM|            Raxavier|Good materials an...|    1394150400|\n",
      "|B00BDCF716| [0, 1]|    1.0|The back ones are...|02 28, 2014|A2UNV3G6ND33HU|            Ruby Fan|Side protection f...|    1393545600|\n",
      "|B00BDCF716| [2, 2]|    5.0|The carbon fiber ...|04 24, 2013|A3I8J69MRH1GUA|           Thirdbase|Came out very nic...|    1366761600|\n",
      "|B00BDE4IUK| [2, 5]|    5.0|this is a great p...|07 29, 2013|A371EYWDGHVSAK|               basti|       great product|    1375056000|\n",
      "|B00BDE4IUK| [1, 2]|    5.0|I bought one seve...|04 23, 2014|A2W51GKIG66IWF|               dca74|Excellent Antenna!!!|    1398211200|\n",
      "|B00BDE4IUK| [1, 3]|    1.0|NOT WINDOWS 8 COM...| 02 1, 2014|A158YH0GXUGSP0|          EmiliaWink|Will be returning...|    1391212800|\n",
      "|B00BDE4IUK| [0, 0]|    5.0|installed antenna...|06 21, 2014|A1FMWQSOFR56N4|          Hummer2004|Works Great,found...|    1403308800|\n",
      "|B00BDE4IUK| [4, 5]|    3.0|works,its cheap,w...|01 18, 2014| A4O8ZK9XVPP8S| Michael Griffith Jr|ok signal drops b...|    1390003200|\n",
      "|B00BDE4IUK| [8, 8]|    5.0|Excellent item. I...|03 28, 2014|A23Y31KV0RBKKN|     Peter Caslavsky|          God thing.|    1395964800|\n",
      "|B00BDE4IUK| [2, 3]|    5.0|I just received t...| 04 8, 2014|A1DZQ7L2F18Z37|     Ryan K Clemence|   This thing rocks!|    1396915200|\n",
      "|B00BDJ93JQ| [0, 0]|    5.0|I was in need of ...|11 22, 2013|A1H4IVXNXWWBLV|Chilehead Photogr...|Good value for Co...|    1385078400|\n",
      "|B00BDJ93JQ| [0, 0]|    5.0|This kit works ju...| 06 7, 2013| AXDJBA1LYQ4RR|               chris|           Great Kit|    1370563200|\n",
      "|B00BDJ93JQ| [1, 1]|    5.0|So for the price ...| 04 6, 2013|A395C200US350X|   J. Smith \"MacJoe\"|              WOW !!|    1365206400|\n",
      "|B00BDJ93JQ| [0, 0]|    5.0|Great kit.  You n...| 09 2, 2013|A1YFA1YEW6UB8H|            Ned_Heds|kit is a great value|    1378080000|\n",
      "+----------+-------+-------+--------------------+-----------+--------------+--------------------+--------------------+--------------+\n",
      "only showing top 20 rows"
     ]
    }
   ],
   "source": [
    "df3 = spark.read.orc(\"amazon_data.orc\")\n",
    "df3.show()"
   ]
  },
  {
   "cell_type": "code",
   "execution_count": null,
   "metadata": {},
   "outputs": [],
   "source": []
  }
 ],
 "metadata": {
  "kernelspec": {
   "display_name": "Python 3",
   "language": "python",
   "name": "python3"
  },
  "language_info": {
   "codemirror_mode": "text/x-scala",
   "file_extension": ".sc",
   "mimetype": "text/x-scala",
   "name": "scala",
   "pygments_lexer": "scala"
  }
 },
 "nbformat": 4,
 "nbformat_minor": 4
}
