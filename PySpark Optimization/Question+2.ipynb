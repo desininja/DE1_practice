{
 "cells": [
  {
   "cell_type": "code",
   "execution_count": 5,
   "metadata": {},
   "outputs": [
    {
     "data": {
      "application/vnd.jupyter.widget-view+json": {
       "model_id": "71a394d49285415bbeeb6b325b7ef640",
       "version_major": 2,
       "version_minor": 0
      },
      "text/plain": [
       "VBox()"
      ]
     },
     "metadata": {},
     "output_type": "display_data"
    },
    {
     "data": {
      "application/vnd.jupyter.widget-view+json": {
       "model_id": "",
       "version_major": 2,
       "version_minor": 0
      },
      "text/plain": [
       "FloatProgress(value=0.0, bar_style='info', description='Progress:', layout=Layout(height='25px', width='50%'),…"
      ]
     },
     "metadata": {},
     "output_type": "display_data"
    },
    {
     "name": "stdout",
     "output_type": "stream",
     "text": [
      "<SparkContext master=yarn appName=livy-session-0>"
     ]
    }
   ],
   "source": [
    "sc"
   ]
  },
  {
   "cell_type": "code",
   "execution_count": 6,
   "metadata": {},
   "outputs": [
    {
     "data": {
      "application/vnd.jupyter.widget-view+json": {
       "model_id": "7cd037a5c47b456692a915a60046ec36",
       "version_major": 2,
       "version_minor": 0
      },
      "text/plain": [
       "VBox()"
      ]
     },
     "metadata": {},
     "output_type": "display_data"
    },
    {
     "data": {
      "application/vnd.jupyter.widget-view+json": {
       "model_id": "",
       "version_major": 2,
       "version_minor": 0
      },
      "text/plain": [
       "FloatProgress(value=0.0, bar_style='info', description='Progress:', layout=Layout(height='25px', width='50%'),…"
      ]
     },
     "metadata": {},
     "output_type": "display_data"
    }
   ],
   "source": [
    "import time\n",
    "from pyspark.sql import SparkSession\n",
    "import pyspark.sql.functions as F\n",
    "\n",
    "\n",
    "spark = SparkSession \\\n",
    "    .builder \\\n",
    "    .appName(\"readCsv\") \\\n",
    "    .getOrCreate()"
   ]
  },
  {
   "cell_type": "code",
   "execution_count": 7,
   "metadata": {},
   "outputs": [
    {
     "data": {
      "application/vnd.jupyter.widget-view+json": {
       "model_id": "a5238a93a2e74bed9661e0620f4839fa",
       "version_major": 2,
       "version_minor": 0
      },
      "text/plain": [
       "VBox()"
      ]
     },
     "metadata": {},
     "output_type": "display_data"
    },
    {
     "data": {
      "application/vnd.jupyter.widget-view+json": {
       "model_id": "",
       "version_major": 2,
       "version_minor": 0
      },
      "text/plain": [
       "FloatProgress(value=0.0, bar_style='info', description='Progress:', layout=Layout(height='25px', width='50%'),…"
      ]
     },
     "metadata": {},
     "output_type": "display_data"
    },
    {
     "name": "stdout",
     "output_type": "stream",
     "text": [
      "+-----------+--------------------+-------------------+\n",
      "|    Country|offline_transactions|online_transactions|\n",
      "+-----------+--------------------+-------------------+\n",
      "|     Norway|                4156|               4039|\n",
      "|Netherlands|                4106|               4052|\n",
      "|     Russia|                4097|               3990|\n",
      "+-----------+--------------------+-------------------+\n",
      "only showing top 3 rows\n",
      "\n",
      "CSV data load Time took is 22.606258392333984"
     ]
    }
   ],
   "source": [
    "start = time.time()\n",
    "\n",
    "df = spark.read.option(\"header\",\"true\").csv('s3://sparkbucket123/1500000 Sales Records.csv')\n",
    "customSchema = df.schema\n",
    "cnt_cond = lambda cond: F.sum(F.when(cond, 1).otherwise(0))\n",
    "df_agg = df.filter(F.col(\"Region\") == \"Europe\" ).groupby(\"Country\").agg(cnt_cond(F.col('Sales Channel') == 'Offline' ).alias('offline_transactions'), cnt_cond(F.col('Sales Channel') == 'Online' ).alias('online_transactions'))\n",
    "df_sort = df_agg.sort(F.col(\"offline_transactions\").desc())\n",
    "df_sort.show(3)\n",
    "\n",
    "print(\"CSV data load Time took is {0}\".format(time.time() - start))"
   ]
  },
  {
   "cell_type": "code",
   "execution_count": 8,
   "metadata": {},
   "outputs": [
    {
     "data": {
      "application/vnd.jupyter.widget-view+json": {
       "model_id": "e1bd4f8b0c6d48638d21e416cd433e29",
       "version_major": 2,
       "version_minor": 0
      },
      "text/plain": [
       "VBox()"
      ]
     },
     "metadata": {},
     "output_type": "display_data"
    },
    {
     "data": {
      "application/vnd.jupyter.widget-view+json": {
       "model_id": "",
       "version_major": 2,
       "version_minor": 0
      },
      "text/plain": [
       "FloatProgress(value=0.0, bar_style='info', description='Progress:', layout=Layout(height='25px', width='50%'),…"
      ]
     },
     "metadata": {},
     "output_type": "display_data"
    },
    {
     "name": "stdout",
     "output_type": "stream",
     "text": [
      "+-----------+--------------------+-------------------+\n",
      "|    Country|offline_transactions|online_transactions|\n",
      "+-----------+--------------------+-------------------+\n",
      "|     Norway|                4156|               4039|\n",
      "|Netherlands|                4106|               4052|\n",
      "|     Russia|                4097|               3990|\n",
      "+-----------+--------------------+-------------------+\n",
      "only showing top 3 rows\n",
      "\n",
      "Parquet data load Time took is 4.060359954833984"
     ]
    }
   ],
   "source": [
    "start = time.time()\n",
    "\n",
    "df = spark.read.option(\"header\",\"true\").parquet('s3://sparkbucket123/sales_data.parquet')\n",
    "cnt_cond = lambda cond: F.sum(F.when(cond, 1).otherwise(0))\n",
    "df_agg = df.filter(F.col(\"Region\") == \"Europe\" ).groupby(\"Country\").agg(cnt_cond(F.col('Sales_Channel') == 'Offline' ).alias('offline_transactions'), cnt_cond(F.col('Sales_Channel') == 'Online' ).alias('online_transactions'))\n",
    "df_sort = df_agg.sort(F.col(\"offline_transactions\").desc())\n",
    "df_sort.show(3)\n",
    "\n",
    "print(\"Parquet data load Time took is {0}\".format(time.time() - start))"
   ]
  },
  {
   "cell_type": "code",
   "execution_count": null,
   "metadata": {},
   "outputs": [],
   "source": []
  }
 ],
 "metadata": {
  "kernelspec": {
   "display_name": "PySpark",
   "language": "",
   "name": "pysparkkernel"
  },
  "language_info": {
   "codemirror_mode": {
    "name": "python",
    "version": 2
   },
   "mimetype": "text/x-python",
   "name": "pyspark",
   "pygments_lexer": "python2"
  }
 },
 "nbformat": 4,
 "nbformat_minor": 4
}
