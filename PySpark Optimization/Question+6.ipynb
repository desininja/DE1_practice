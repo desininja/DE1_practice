{
 "metadata": {
  "language_info": {
   "codemirror_mode": {
    "name": "ipython",
    "version": 3
   },
   "file_extension": ".py",
   "mimetype": "text/x-python",
   "name": "python",
   "nbconvert_exporter": "python",
   "pygments_lexer": "ipython3",
   "version": 3
  },
  "orig_nbformat": 2
 },
 "nbformat": 4,
 "nbformat_minor": 2,
 "cells": [
  {
   "cell_type": "code",
   "execution_count": null,
   "metadata": {},
   "outputs": [],
   "source": [
    "sc"
   ]
  },
  {
   "cell_type": "code",
   "execution_count": null,
   "metadata": {},
   "outputs": [],
   "source": [
    "from pyspark.sql import SparkSession\n",
    "import pyspark.sql.functions as F\n",
    "\n",
    "\n",
    "spark = SparkSession \\\n",
    "    .builder \\\n",
    "    .appName(\"readCsv\") \\\n",
    "    .getOrCreate()"
   ]
  },
  {
   "cell_type": "code",
   "execution_count": null,
   "metadata": {},
   "outputs": [],
   "source": [
    "df = spark.read.option(\"header\",\"true\").csv('s3://sparkbucket123/1500000 Sales Records.csv')\n",
    "customSchema = df.schema\n",
    "cnt_cond = lambda cond: F.sum(F.when(cond, 1).otherwise(0))\n",
    "df_agg = df.filter(F.col(\"Region\") == \"Europe\" ).groupby(\"Country\").agg(cnt_cond(F.col('Sales Channel') == 'Offline' ).alias('offline_transactions'), cnt_cond(F.col('Sales Channel') == 'Online' ).alias('online_transactions'))\n",
    "df_sort = df_agg.sort(F.col(\"offline_transactions\").desc())\n",
    "df_sort.show(3)"
   ]
  }
 ]
}