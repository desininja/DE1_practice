{
 "cells": [
  {
   "cell_type": "code",
   "execution_count": 4,
   "metadata": {},
   "outputs": [
    {
     "data": {
      "application/vnd.jupyter.widget-view+json": {
       "model_id": "2b6a9241b2214dd3a491bee912c97a53",
       "version_major": 2,
       "version_minor": 0
      },
      "text/plain": [
       "VBox()"
      ]
     },
     "metadata": {},
     "output_type": "display_data"
    },
    {
     "data": {
      "application/vnd.jupyter.widget-view+json": {
       "model_id": "",
       "version_major": 2,
       "version_minor": 0
      },
      "text/plain": [
       "FloatProgress(value=0.0, bar_style='info', description='Progress:', layout=Layout(height='25px', width='50%'),…"
      ]
     },
     "metadata": {},
     "output_type": "display_data"
    },
    {
     "name": "stdout",
     "output_type": "stream",
     "text": [
      "<SparkContext master=yarn appName=livy-session-4>"
     ]
    }
   ],
   "source": [
    "sc"
   ]
  },
  {
   "cell_type": "code",
   "execution_count": 5,
   "metadata": {},
   "outputs": [
    {
     "data": {
      "application/vnd.jupyter.widget-view+json": {
       "model_id": "ab25df0073fa4ed195cb57650ef8e034",
       "version_major": 2,
       "version_minor": 0
      },
      "text/plain": [
       "VBox()"
      ]
     },
     "metadata": {},
     "output_type": "display_data"
    },
    {
     "data": {
      "application/vnd.jupyter.widget-view+json": {
       "model_id": "",
       "version_major": 2,
       "version_minor": 0
      },
      "text/plain": [
       "FloatProgress(value=0.0, bar_style='info', description='Progress:', layout=Layout(height='25px', width='50%'),…"
      ]
     },
     "metadata": {},
     "output_type": "display_data"
    },
    {
     "name": "stdout",
     "output_type": "stream",
     "text": [
      "+--------+-------+------+----------+\n",
      "|movie_id|user_id|rating|time_stamp|\n",
      "+--------+-------+------+----------+\n",
      "|     148|    408|     5| 877399018|\n",
      "|     148|      1|     4| 877019411|\n",
      "|     148|    140|     1| 877019882|\n",
      "|     148|    114|     5| 877016735|\n",
      "|     148|     70|     5| 877021271|\n",
      "|     148|    495|     4| 877016735|\n",
      "|     148|    172|     5| 877016513|\n",
      "|     148|   1149|     5| 877016513|\n",
      "|     148|    177|     2| 877020715|\n",
      "|     148|    185|     1| 877398385|\n",
      "|     148|    501|     4| 877020297|\n",
      "|     148|    529|     5| 877398901|\n",
      "|     148|     98|     3| 877017714|\n",
      "|     148|    214|     5| 877019882|\n",
      "|     148|    596|     5| 877020297|\n",
      "|     148|     71|     5| 877019251|\n",
      "|     148|   1012|     4| 877400154|\n",
      "|     148|    228|     4| 877016514|\n",
      "|     148|    473|     5| 877399322|\n",
      "|     148|    357|     5| 877016735|\n",
      "+--------+-------+------+----------+\n",
      "only showing top 20 rows\n",
      "\n",
      "+--------+-------------+\n",
      "|movie_id|count(rating)|\n",
      "+--------+-------------+\n",
      "|     148|           65|\n",
      "|     463|          133|\n",
      "|     471|           31|\n",
      "|     496|          129|\n",
      "|     833|          267|\n",
      "|     243|           81|\n",
      "|     392|          111|\n",
      "|     540|           63|\n",
      "|     623|           45|\n",
      "|     737|           33|\n",
      "|     858|           21|\n",
      "|     897|          185|\n",
      "|      31|           36|\n",
      "|     516|           21|\n",
      "|     251|           77|\n",
      "|      85|          288|\n",
      "|     137|           47|\n",
      "|     451|           98|\n",
      "|     580|           47|\n",
      "|     808|           23|\n",
      "+--------+-------------+\n",
      "only showing top 20 rows\n",
      "\n",
      "+--------+--------------------+\n",
      "|movie_id|          movie_name|\n",
      "+--------+--------------------+\n",
      "|     148|Ghost and the Dar...|\n",
      "|     463|Secret of Roan In...|\n",
      "|     471|Courage Under Fir...|\n",
      "|     496|It's a Wonderful ...|\n",
      "|     833|  Bulletproof (1996)|\n",
      "|    1088|  Double Team (1997)|\n",
      "|    1238|   Full Speed (1996)|\n",
      "|    1342|Convent, The (Con...|\n",
      "|    1580|     Liebelei (1933)|\n",
      "|    1591|Duoluo tianshi (1...|\n",
      "|    1645|Butcher Boy, The ...|\n",
      "|     243|Jungle2Jungle (1997)|\n",
      "|     392|Man Without a Fac...|\n",
      "|     540|  Money Train (1995)|\n",
      "|     623|Angels in the Out...|\n",
      "|     737|       Sirens (1994)|\n",
      "|     858|Amityville: Dollh...|\n",
      "|     897| Time Tracers (1995)|\n",
      "|    1025|Fire Down Below (...|\n",
      "|    1084|Anne Frank Rememb...|\n",
      "+--------+--------------------+\n",
      "only showing top 20 rows\n",
      "\n",
      "+--------+-------+------+----------+--------------------+\n",
      "|movie_id|user_id|rating|time_stamp|          movie_name|\n",
      "+--------+-------+------+----------+--------------------+\n",
      "|     148|    408|     5| 877399018|Ghost and the Dar...|\n",
      "|     148|      1|     4| 877019411|Ghost and the Dar...|\n",
      "|     148|    140|     1| 877019882|Ghost and the Dar...|\n",
      "|     148|    114|     5| 877016735|Ghost and the Dar...|\n",
      "|     148|     70|     5| 877021271|Ghost and the Dar...|\n",
      "|     148|    495|     4| 877016735|Ghost and the Dar...|\n",
      "|     148|    172|     5| 877016513|Ghost and the Dar...|\n",
      "|     148|   1149|     5| 877016513|Ghost and the Dar...|\n",
      "|     148|    177|     2| 877020715|Ghost and the Dar...|\n",
      "|     148|    185|     1| 877398385|Ghost and the Dar...|\n",
      "|     148|    501|     4| 877020297|Ghost and the Dar...|\n",
      "|     148|    529|     5| 877398901|Ghost and the Dar...|\n",
      "|     148|     98|     3| 877017714|Ghost and the Dar...|\n",
      "|     148|    214|     5| 877019882|Ghost and the Dar...|\n",
      "|     148|    596|     5| 877020297|Ghost and the Dar...|\n",
      "|     148|     71|     5| 877019251|Ghost and the Dar...|\n",
      "|     148|   1012|     4| 877400154|Ghost and the Dar...|\n",
      "|     148|    228|     4| 877016514|Ghost and the Dar...|\n",
      "|     148|    473|     5| 877399322|Ghost and the Dar...|\n",
      "|     148|    357|     5| 877016735|Ghost and the Dar...|\n",
      "+--------+-------+------+----------+--------------------+\n",
      "only showing top 20 rows\n",
      "\n",
      "+--------------------+-------------+\n",
      "|          movie_name|count(rating)|\n",
      "+--------------------+-------------+\n",
      "|  Money Train (1995)|           63|\n",
      "|Natural Born Kill...|           28|\n",
      "|Gone with the Win...|           26|\n",
      "|Nosferatu a Venez...|           43|\n",
      "|     Outbreak (1995)|           65|\n",
      "| Chamber, The (1996)|          110|\n",
      "|    Duck Soup (1933)|           65|\n",
      "|Antonia's Line (1...|           20|\n",
      "|Stephen King's Th...|           30|\n",
      "|    Afterglow (1997)|          136|\n",
      "|       Kundun (1997)|           45|\n",
      "|Beverly Hills Nin...|          217|\n",
      "|Star Trek III: Th...|           30|\n",
      "|Princess Bride, T...|           43|\n",
      "|Professional, The...|           21|\n",
      "| Forrest Gump (1994)|           65|\n",
      "|       Casino (1995)|          154|\n",
      "|Marvin's Room (1996)|           62|\n",
      "|        Crumb (1994)|           41|\n",
      "|Seven Years in Ti...|          115|\n",
      "+--------------------+-------------+\n",
      "only showing top 20 rows"
     ]
    }
   ],
   "source": [
    "from pyspark.sql import functions as func\n",
    "#Specifying the schema instead of inferring it \n",
    "from pyspark.sql.types import StructType, StructField, IntegerType, StringType, BooleanType, DoubleType, LongType\n",
    "\n",
    "fileSchema = StructType([StructField('movie_id', IntegerType(),True),\n",
    "                        StructField('user_id', IntegerType(),True),\n",
    "                        StructField('rating', IntegerType(),True),\n",
    "                        StructField('time_stamp', LongType(),True)])\n",
    "\n",
    "movie_ratings = spark.read.load(\"s3://sparkbucket123/u.data\", format=\"csv\", sep=\"\\t\", schema = fileSchema, header=\"true\")\n",
    "movie_ratings= movie_ratings.repartition(\"movie_id\")\n",
    "movie_ratings_cache = movie_ratings.cache()\n",
    "movie_ratings_cache.show();\n",
    "\n",
    "movie_rating_count = movie_ratings_cache.groupBy('movie_id').agg(func.count(\"rating\"))\n",
    "\n",
    "movie_rating_count.show()\n",
    "\n",
    "\n",
    "#Reading the movie id and movie name\n",
    "movies = spark.read.load(\"s3://sparkbucket123/u.item\", format=\"csv\", sep=\"|\", inferSchema=\"true\", header=\"true\")\n",
    "movie_selected = movies.select('10', 'Toy Story (1995)')\n",
    "from functools import reduce\n",
    "oldColumns = movie_selected.schema.names\n",
    "newColumns = [\"movie_id\", \"movie_name\"]\n",
    "movie_names = reduce(lambda movie_selected, idx: movie_selected.withColumnRenamed(oldColumns[idx], newColumns[idx]), range(len(oldColumns)), movie_selected)\n",
    "movie_names = movie_names.repartition(\"movie_id\")\n",
    "movie_names_cache = movie_names.cache()\n",
    "movie_names_cache.show()\n",
    "\n",
    "\n",
    "#Joining the two movies data\n",
    "joined_movie_data = movie_ratings_cache.join(movie_names.hint(\"broadcast\") , [\"movie_id\"])\n",
    "joined_movie_data.show()\n",
    "\n",
    "\n",
    "#Finding which movie name got how many ratings\n",
    "movie_name_ratings_count = joined_movie_data.groupBy('movie_name').agg(func.count(\"rating\"))\n",
    "movie_name_ratings_count.show()\n",
    "\n",
    "\n",
    "\n",
    "#Saving this data in the disk to be used later\n",
    "movie_name_ratings_count.write.orc(\"movie_ratings2.orc\")\n"
   ]
  },
  {
   "cell_type": "code",
   "execution_count": 6,
   "metadata": {},
   "outputs": [
    {
     "data": {
      "application/vnd.jupyter.widget-view+json": {
       "model_id": "d7df3afadaeb4336ba7f90d531cb8644",
       "version_major": 2,
       "version_minor": 0
      },
      "text/plain": [
       "VBox()"
      ]
     },
     "metadata": {},
     "output_type": "display_data"
    },
    {
     "data": {
      "application/vnd.jupyter.widget-view+json": {
       "model_id": "",
       "version_major": 2,
       "version_minor": 0
      },
      "text/plain": [
       "FloatProgress(value=0.0, bar_style='info', description='Progress:', layout=Layout(height='25px', width='50%'),…"
      ]
     },
     "metadata": {},
     "output_type": "display_data"
    },
    {
     "name": "stdout",
     "output_type": "stream",
     "text": [
      "+--------------------+-------------+\n",
      "|          movie_name|count(rating)|\n",
      "+--------------------+-------------+\n",
      "|Sword in the Ston...|          106|\n",
      "|Star Trek IV: The...|          133|\n",
      "|Full Monty, The (...|          323|\n",
      "|Hellraiser: Blood...|           48|\n",
      "|Arsenic and Old L...|          191|\n",
      "|       Brazil (1985)|           38|\n",
      "|In the Mouth of M...|           28|\n",
      "|Year of the Horse...|           43|\n",
      "|3 Ninjas: High No...|          245|\n",
      "|For Richer or Poo...|           59|\n",
      "|Garden of Finzi-C...|          107|\n",
      "|    Boot, Das (1981)|           40|\n",
      "|In the Bleak Midw...|           39|\n",
      "|Singin' in the Ra...|          114|\n",
      "|Alice in Wonderla...|           36|\n",
      "|     Spy Hard (1996)|          226|\n",
      "|    True Lies (1994)|          281|\n",
      "|Down Periscope (1...|           20|\n",
      "|         Jack (1996)|          203|\n",
      "| Exit to Eden (1994)|           25|\n",
      "+--------------------+-------------+\n",
      "only showing top 20 rows"
     ]
    }
   ],
   "source": [
    "#Reading it later\n",
    "movie_ratings_stored=spark.read.orc(\"movie_ratings2.orc\")\n",
    "movie_ratings_stored.show()"
   ]
  },
  {
   "cell_type": "code",
   "execution_count": null,
   "metadata": {},
   "outputs": [],
   "source": []
  }
 ],
 "metadata": {
  "kernelspec": {
   "display_name": "PySpark",
   "language": "",
   "name": "pysparkkernel"
  },
  "language_info": {
   "codemirror_mode": {
    "name": "python",
    "version": 2
   },
   "mimetype": "text/x-python",
   "name": "pyspark",
   "pygments_lexer": "python2"
  }
 },
 "nbformat": 4,
 "nbformat_minor": 4
}
