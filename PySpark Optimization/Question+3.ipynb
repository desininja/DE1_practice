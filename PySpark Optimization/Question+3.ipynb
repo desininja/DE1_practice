{
 "cells": [
  {
   "cell_type": "code",
   "execution_count": 9,
   "metadata": {},
   "outputs": [
    {
     "data": {
      "application/vnd.jupyter.widget-view+json": {
       "model_id": "06902a15e855442a8e0fb8f3b1afbc58",
       "version_major": 2,
       "version_minor": 0
      },
      "text/plain": [
       "VBox()"
      ]
     },
     "metadata": {},
     "output_type": "display_data"
    },
    {
     "data": {
      "application/vnd.jupyter.widget-view+json": {
       "model_id": "",
       "version_major": 2,
       "version_minor": 0
      },
      "text/plain": [
       "FloatProgress(value=0.0, bar_style='info', description='Progress:', layout=Layout(height='25px', width='50%'),…"
      ]
     },
     "metadata": {},
     "output_type": "display_data"
    },
    {
     "name": "stdout",
     "output_type": "stream",
     "text": [
      "<SparkContext master=yarn appName=livy-session-0>"
     ]
    }
   ],
   "source": [
    "sc"
   ]
  },
  {
   "cell_type": "code",
   "execution_count": 10,
   "metadata": {},
   "outputs": [
    {
     "data": {
      "application/vnd.jupyter.widget-view+json": {
       "model_id": "0de4b1bad3ab4fd9ad4a915a068c887b",
       "version_major": 2,
       "version_minor": 0
      },
      "text/plain": [
       "VBox()"
      ]
     },
     "metadata": {},
     "output_type": "display_data"
    },
    {
     "data": {
      "application/vnd.jupyter.widget-view+json": {
       "model_id": "",
       "version_major": 2,
       "version_minor": 0
      },
      "text/plain": [
       "FloatProgress(value=0.0, bar_style='info', description='Progress:', layout=Layout(height='25px', width='50%'),…"
      ]
     },
     "metadata": {},
     "output_type": "display_data"
    }
   ],
   "source": [
    "import time\n",
    "from pyspark.sql import SparkSession\n",
    "import pyspark.sql.functions as F\n",
    "\n",
    "\n",
    "spark = SparkSession \\\n",
    "    .builder \\\n",
    "    .appName(\"readCsv\") \\\n",
    "    .getOrCreate()"
   ]
  },
  {
   "cell_type": "code",
   "execution_count": 15,
   "metadata": {},
   "outputs": [
    {
     "data": {
      "application/vnd.jupyter.widget-view+json": {
       "model_id": "529ec058843a4dc8a0949de754f04372",
       "version_major": 2,
       "version_minor": 0
      },
      "text/plain": [
       "VBox()"
      ]
     },
     "metadata": {},
     "output_type": "display_data"
    },
    {
     "data": {
      "application/vnd.jupyter.widget-view+json": {
       "model_id": "",
       "version_major": 2,
       "version_minor": 0
      },
      "text/plain": [
       "FloatProgress(value=0.0, bar_style='info', description='Progress:', layout=Layout(height='25px', width='50%'),…"
      ]
     },
     "metadata": {},
     "output_type": "display_data"
    },
    {
     "name": "stdout",
     "output_type": "stream",
     "text": [
      "+-----------+--------------------+-------------------+\n",
      "|    Country|offline_transactions|online_transactions|\n",
      "+-----------+--------------------+-------------------+\n",
      "|     Norway|                4156|               4039|\n",
      "|Netherlands|                4106|               4052|\n",
      "|     Russia|                4097|               3990|\n",
      "+-----------+--------------------+-------------------+\n",
      "only showing top 3 rows\n",
      "\n",
      "+---------+--------------------+-------------------+\n",
      "|  Country|offline_transactions|online_transactions|\n",
      "+---------+--------------------+-------------------+\n",
      "|    Malta|                3940|               4108|\n",
      "|Macedonia|                3948|               3982|\n",
      "|  Georgia|                3951|               4041|\n",
      "+---------+--------------------+-------------------+\n",
      "only showing top 3 rows\n",
      "\n",
      "Without Cache Time took is 2.4059629440307617"
     ]
    }
   ],
   "source": [
    "df = spark.read.option(\"header\",\"true\").csv('s3://sparkbucket123/1500000 Sales Records.csv')\n",
    "start = time.time()\n",
    "cnt_cond = lambda cond: F.sum(F.when(cond, 1).otherwise(0))\n",
    "\n",
    "df_agg = df.filter(F.col(\"Region\") == \"Europe\" ).groupby(\"Country\").agg(cnt_cond(F.col('Sales Channel') == 'Offline' ).alias('offline_transactions'), cnt_cond(F.col('Sales Channel') == 'Online' ).alias('online_transactions'))\n",
    "#df_agg = df_agg.cache()\n",
    "df_sort = df_agg.sort(F.col(\"offline_transactions\").desc())\n",
    "df_sort.show(3)\n",
    "df_sort = df_agg.sort(F.col(\"offline_transactions\").asc())\n",
    "df_sort.show(3)\n",
    "print(\"Without Cache Time took is {0}\".format(time.time() - start))"
   ]
  },
  {
   "cell_type": "code",
   "execution_count": 14,
   "metadata": {},
   "outputs": [
    {
     "data": {
      "application/vnd.jupyter.widget-view+json": {
       "model_id": "8168f64c21e940fc9f5001026d8f40e6",
       "version_major": 2,
       "version_minor": 0
      },
      "text/plain": [
       "VBox()"
      ]
     },
     "metadata": {},
     "output_type": "display_data"
    },
    {
     "data": {
      "application/vnd.jupyter.widget-view+json": {
       "model_id": "",
       "version_major": 2,
       "version_minor": 0
      },
      "text/plain": [
       "FloatProgress(value=0.0, bar_style='info', description='Progress:', layout=Layout(height='25px', width='50%'),…"
      ]
     },
     "metadata": {},
     "output_type": "display_data"
    },
    {
     "name": "stdout",
     "output_type": "stream",
     "text": [
      "+-----------+--------------------+-------------------+\n",
      "|    Country|offline_transactions|online_transactions|\n",
      "+-----------+--------------------+-------------------+\n",
      "|     Norway|                4156|               4039|\n",
      "|Netherlands|                4106|               4052|\n",
      "|     Russia|                4097|               3990|\n",
      "+-----------+--------------------+-------------------+\n",
      "only showing top 3 rows\n",
      "\n",
      "+---------+--------------------+-------------------+\n",
      "|  Country|offline_transactions|online_transactions|\n",
      "+---------+--------------------+-------------------+\n",
      "|    Malta|                3940|               4108|\n",
      "|Macedonia|                3948|               3982|\n",
      "|  Georgia|                3951|               4041|\n",
      "+---------+--------------------+-------------------+\n",
      "only showing top 3 rows\n",
      "\n",
      "With Cache Time took is 2.162247896194458"
     ]
    }
   ],
   "source": [
    "cnt_cond = lambda cond: F.sum(F.when(cond, 1).otherwise(0))\n",
    "\n",
    "df = spark.read.option(\"header\",\"true\").csv('s3://sparkbucket123/1500000 Sales Records.csv')\n",
    "start = time.time()\n",
    "df_agg = df.filter(F.col(\"Region\") == \"Europe\" ).groupby(\"Country\").agg(cnt_cond(F.col('Sales Channel') == 'Offline' ).alias('offline_transactions'), cnt_cond(F.col('Sales Channel') == 'Online' ).alias('online_transactions'))\n",
    "df_agg = df_agg.cache()\n",
    "df_sort = df_agg.sort(F.col(\"offline_transactions\").desc())\n",
    "df_sort.show(3)\n",
    "df_sort = df_agg.sort(F.col(\"offline_transactions\").asc())\n",
    "df_sort.show(3)\n",
    "print(\"With Cache Time took is {0}\".format(time.time() - start))"
   ]
  },
  {
   "cell_type": "code",
   "execution_count": null,
   "metadata": {},
   "outputs": [],
   "source": []
  }
 ],
 "metadata": {
  "kernelspec": {
   "display_name": "PySpark",
   "language": "",
   "name": "pysparkkernel"
  },
  "language_info": {
   "codemirror_mode": {
    "name": "python",
    "version": 2
   },
   "mimetype": "text/x-python",
   "name": "pyspark",
   "pygments_lexer": "python2"
  }
 },
 "nbformat": 4,
 "nbformat_minor": 4
}
