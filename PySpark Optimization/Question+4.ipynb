{
 "cells": [
  {
   "cell_type": "code",
   "execution_count": 5,
   "metadata": {},
   "outputs": [
    {
     "data": {
      "application/vnd.jupyter.widget-view+json": {
       "model_id": "1bb17ba84e204fa1a030e21dd4db5c40",
       "version_major": 2,
       "version_minor": 0
      },
      "text/plain": [
       "VBox()"
      ]
     },
     "metadata": {},
     "output_type": "display_data"
    },
    {
     "data": {
      "application/vnd.jupyter.widget-view+json": {
       "model_id": "",
       "version_major": 2,
       "version_minor": 0
      },
      "text/plain": [
       "FloatProgress(value=0.0, bar_style='info', description='Progress:', layout=Layout(height='25px', width='50%'),…"
      ]
     },
     "metadata": {},
     "output_type": "display_data"
    },
    {
     "name": "stdout",
     "output_type": "stream",
     "text": [
      "<SparkContext master=yarn appName=livy-session-1>"
     ]
    }
   ],
   "source": [
    "sc"
   ]
  },
  {
   "cell_type": "code",
   "execution_count": 6,
   "metadata": {},
   "outputs": [
    {
     "data": {
      "application/vnd.jupyter.widget-view+json": {
       "model_id": "73fd28738f6e42569b1b09cf26251a2a",
       "version_major": 2,
       "version_minor": 0
      },
      "text/plain": [
       "VBox()"
      ]
     },
     "metadata": {},
     "output_type": "display_data"
    },
    {
     "data": {
      "application/vnd.jupyter.widget-view+json": {
       "model_id": "",
       "version_major": 2,
       "version_minor": 0
      },
      "text/plain": [
       "FloatProgress(value=0.0, bar_style='info', description='Progress:', layout=Layout(height='25px', width='50%'),…"
      ]
     },
     "metadata": {},
     "output_type": "display_data"
    }
   ],
   "source": [
    "import time\n",
    "from pyspark.sql import SparkSession\n",
    "import pyspark.sql.functions as F\n",
    "from pyspark.sql.functions import broadcast\n",
    "\n",
    "\n",
    "spark = SparkSession \\\n",
    "    .builder \\\n",
    "    .appName(\"readCsv\") \\\n",
    "    .getOrCreate()"
   ]
  },
  {
   "cell_type": "code",
   "execution_count": 8,
   "metadata": {},
   "outputs": [
    {
     "data": {
      "application/vnd.jupyter.widget-view+json": {
       "model_id": "641ec9a27cd54b4d851904cd0e2c68f1",
       "version_major": 2,
       "version_minor": 0
      },
      "text/plain": [
       "VBox()"
      ]
     },
     "metadata": {},
     "output_type": "display_data"
    },
    {
     "data": {
      "application/vnd.jupyter.widget-view+json": {
       "model_id": "",
       "version_major": 2,
       "version_minor": 0
      },
      "text/plain": [
       "FloatProgress(value=0.0, bar_style='info', description='Progress:', layout=Layout(height='25px', width='50%'),…"
      ]
     },
     "metadata": {},
     "output_type": "display_data"
    },
    {
     "name": "stdout",
     "output_type": "stream",
     "text": [
      "+------+-------+-------------+-------------+--------------+----------+---------+---------+----------+----------+---------+-------------+----------+------------+-------+-----------+\n",
      "|Region|Country|    Item Type|Sales Channel|Order Priority|Order Date| Order ID|Ship Date|Units Sold|Unit Price|Unit Cost|Total Revenue|Total Cost|Total Profit|Country|total_sales|\n",
      "+------+-------+-------------+-------------+--------------+----------+---------+---------+----------+----------+---------+-------------+----------+------------+-------+-----------+\n",
      "|Europe|Albania|Personal Care|      Offline|             M|  2/6/2016|104191863|2/11/2016|      1543|     81.73|    56.67|    126109.39|  87441.81|    38667.58|Albania|       8131|\n",
      "|Europe|Albania|    Baby Food|      Offline|             H| 7/19/2012|752525556|8/13/2012|      7890|    255.28|   159.42|   2014159.20|1257823.80|   756335.40|Albania|       8131|\n",
      "|Europe|Albania|         Meat|      Offline|             M| 4/26/2013|567728221|5/12/2013|      2252|    421.89|   364.69|    950096.28| 821281.88|   128814.40|Albania|       8131|\n",
      "+------+-------+-------------+-------------+--------------+----------+---------+---------+----------+----------+---------+-------------+----------+------------+-------+-----------+\n",
      "only showing top 3 rows\n",
      "\n",
      "With out broadcast join Time took is 12.00834584236145"
     ]
    }
   ],
   "source": [
    "df = spark.read.option(\"header\",\"true\").csv('s3://sparkbucket123/1500000 Sales Records.csv')\n",
    "start = time.time()\n",
    "df_agg = df.groupby(\"Country\").agg(F.count(\"Sales Channel\").alias('total_sales'))\n",
    "final_df = df.join(df_agg,df_agg.Country==df.Country)\n",
    "df = df.repartition(F.col(\"Country\"))\n",
    "final_df.show(3)\n",
    "print(\"With out broadcast join Time took is {0}\".format(time.time() - start))"
   ]
  },
  {
   "cell_type": "code",
   "execution_count": null,
   "metadata": {},
   "outputs": [],
   "source": [
    "df = spark.read.option(\"header\",\"true\").csv('s3://sparkbucket123/1500000 Sales Records.csv')\n",
    "start = time.time()\n",
    "df = spark.read.option(\"header\",\"true\").csv('s3://sparkbucket123/1500000 Sales Records.csv')\n",
    "df_agg = df.groupby(\"Country\").agg(F.count(\"Sales Channel\").alias('total_sales'))\n",
    "final_df = df.join(broadcast(df_agg),df_agg.Country==df.Country)\n",
    "df = df.repartition(F.col(\"Country\"))\n",
    "final_df.show(3)\n",
    "print(\"With broadcast join Time took is {0}\".format(time.time() - start))"
   ]
  }
 ],
 "metadata": {
  "kernelspec": {
   "display_name": "PySpark",
   "language": "",
   "name": "pysparkkernel"
  },
  "language_info": {
   "codemirror_mode": {
    "name": "python",
    "version": 2
   },
   "mimetype": "text/x-python",
   "name": "pyspark",
   "pygments_lexer": "python2"
  }
 },
 "nbformat": 4,
 "nbformat_minor": 4
}
