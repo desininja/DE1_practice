{
 "cells": [
  {
   "cell_type": "code",
   "execution_count": 1,
   "metadata": {},
   "outputs": [
    {
     "data": {
      "application/vnd.jupyter.widget-view+json": {
       "model_id": "07cb0abe69a348ae9873ec3a017abd4f",
       "version_major": 2,
       "version_minor": 0
      },
      "text/plain": [
       "VBox()"
      ]
     },
     "metadata": {},
     "output_type": "display_data"
    },
    {
     "name": "stdout",
     "output_type": "stream",
     "text": [
      "Starting Spark application\n"
     ]
    },
    {
     "data": {
      "text/html": [
       "<table>\n",
       "<tr><th>ID</th><th>YARN Application ID</th><th>Kind</th><th>State</th><th>Spark UI</th><th>Driver log</th><th>Current session?</th></tr><tr><td>2</td><td>application_1598095688600_0009</td><td>pyspark</td><td>idle</td><td><a target=\"_blank\" href=\"http://ip-172-31-4-143.ec2.internal:20888/proxy/application_1598095688600_0009/\">Link</a></td><td><a target=\"_blank\" href=\"http://ip-172-31-15-121.ec2.internal:8042/node/containerlogs/container_1598095688600_0009_01_000001/livy\">Link</a></td><td>✔</td></tr></table>"
      ],
      "text/plain": [
       "<IPython.core.display.HTML object>"
      ]
     },
     "metadata": {},
     "output_type": "display_data"
    },
    {
     "data": {
      "application/vnd.jupyter.widget-view+json": {
       "model_id": "",
       "version_major": 2,
       "version_minor": 0
      },
      "text/plain": [
       "FloatProgress(value=0.0, bar_style='info', description='Progress:', layout=Layout(height='25px', width='50%'),…"
      ]
     },
     "metadata": {},
     "output_type": "display_data"
    },
    {
     "name": "stdout",
     "output_type": "stream",
     "text": [
      "SparkSession available as 'spark'.\n"
     ]
    },
    {
     "data": {
      "application/vnd.jupyter.widget-view+json": {
       "model_id": "",
       "version_major": 2,
       "version_minor": 0
      },
      "text/plain": [
       "FloatProgress(value=0.0, bar_style='info', description='Progress:', layout=Layout(height='25px', width='50%'),…"
      ]
     },
     "metadata": {},
     "output_type": "display_data"
    },
    {
     "name": "stdout",
     "output_type": "stream",
     "text": [
      "<SparkContext master=yarn appName=livy-session-2>"
     ]
    }
   ],
   "source": [
    "sc"
   ]
  },
  {
   "cell_type": "code",
   "execution_count": 2,
   "metadata": {},
   "outputs": [
    {
     "data": {
      "application/vnd.jupyter.widget-view+json": {
       "model_id": "3e631fb4da9b49f29e952039e8dc162f",
       "version_major": 2,
       "version_minor": 0
      },
      "text/plain": [
       "VBox()"
      ]
     },
     "metadata": {},
     "output_type": "display_data"
    },
    {
     "data": {
      "application/vnd.jupyter.widget-view+json": {
       "model_id": "",
       "version_major": 2,
       "version_minor": 0
      },
      "text/plain": [
       "FloatProgress(value=0.0, bar_style='info', description='Progress:', layout=Layout(height='25px', width='50%'),…"
      ]
     },
     "metadata": {},
     "output_type": "display_data"
    },
    {
     "name": "stdout",
     "output_type": "stream",
     "text": [
      "+--------+-------+------+----------+\n",
      "|movie_id|user_id|rating|time_stamp|\n",
      "+--------+-------+------+----------+\n",
      "|     186|    302|     3| 891717742|\n",
      "|      22|    377|     1| 878887116|\n",
      "|     244|     51|     2| 880606923|\n",
      "|     166|    346|     1| 886397596|\n",
      "|     298|    474|     4| 884182806|\n",
      "|     115|    265|     2| 881171488|\n",
      "|     253|    465|     5| 891628467|\n",
      "|     305|    451|     3| 886324817|\n",
      "|       6|     86|     3| 883603013|\n",
      "|      62|    257|     2| 879372434|\n",
      "|     286|   1014|     5| 879781125|\n",
      "|     200|    222|     5| 876042340|\n",
      "|     210|     40|     3| 891035994|\n",
      "|     224|     29|     3| 888104457|\n",
      "|     303|    785|     3| 879485318|\n",
      "|     122|    387|     5| 879270459|\n",
      "|     194|    274|     2| 879539794|\n",
      "|     291|   1042|     4| 874834944|\n",
      "|     234|   1184|     2| 892079237|\n",
      "|     119|    392|     4| 886176814|\n",
      "+--------+-------+------+----------+\n",
      "only showing top 20 rows\n",
      "\n",
      "+--------+-------------+\n",
      "|movie_id|count(rating)|\n",
      "+--------+-------------+\n",
      "|     148|           65|\n",
      "|     496|          129|\n",
      "|     833|          267|\n",
      "|     243|           81|\n",
      "|     540|           63|\n",
      "|      65|           80|\n",
      "|     879|           29|\n",
      "|     481|           56|\n",
      "|     804|          332|\n",
      "|     133|           26|\n",
      "|     633|           58|\n",
      "|     597|           41|\n",
      "|     876|           21|\n",
      "|     744|           27|\n",
      "|     126|           45|\n",
      "|     756|          109|\n",
      "|     772|           33|\n",
      "|      81|           58|\n",
      "|     847|          146|\n",
      "|     874|           34|\n",
      "+--------+-------------+\n",
      "only showing top 20 rows\n",
      "\n",
      "+--------+--------------------+\n",
      "|movie_id|          movie_name|\n",
      "+--------+--------------------+\n",
      "|       2|    GoldenEye (1995)|\n",
      "|       3|   Four Rooms (1995)|\n",
      "|       4|   Get Shorty (1995)|\n",
      "|       5|      Copycat (1995)|\n",
      "|       6|Shanghai Triad (Y...|\n",
      "|       7|Twelve Monkeys (1...|\n",
      "|       8|         Babe (1995)|\n",
      "|       9|Dead Man Walking ...|\n",
      "|      10|  Richard III (1995)|\n",
      "|      11|Seven (Se7en) (1995)|\n",
      "|      12|Usual Suspects, T...|\n",
      "|      13|Mighty Aphrodite ...|\n",
      "|      14|  Postino, Il (1994)|\n",
      "|      15|Mr. Holland's Opu...|\n",
      "|      16|French Twist (Gaz...|\n",
      "|      17|From Dusk Till Da...|\n",
      "|      18|White Balloon, Th...|\n",
      "|      19|Antonia's Line (1...|\n",
      "|      20|Angels and Insect...|\n",
      "|      21|Muppet Treasure I...|\n",
      "+--------+--------------------+\n",
      "only showing top 20 rows\n",
      "\n",
      "+--------+-------+------+----------+--------------------+\n",
      "|movie_id|user_id|rating|time_stamp|          movie_name|\n",
      "+--------+-------+------+----------+--------------------+\n",
      "|     186|    302|     3| 891717742|Blues Brothers, T...|\n",
      "|      22|    377|     1| 878887116|   Braveheart (1995)|\n",
      "|     244|     51|     2| 880606923|Smilla's Sense of...|\n",
      "|     166|    346|     1| 886397596|Manon of the Spri...|\n",
      "|     298|    474|     4| 884182806|     Face/Off (1997)|\n",
      "|     115|    265|     2| 881171488|Haunted World of ...|\n",
      "|     253|    465|     5| 891628467|Pillow Book, The ...|\n",
      "|     305|    451|     3| 886324817|Ice Storm, The (1...|\n",
      "|       6|     86|     3| 883603013|Shanghai Triad (Y...|\n",
      "|      62|    257|     2| 879372434|     Stargate (1994)|\n",
      "|     286|   1014|     5| 879781125|English Patient, ...|\n",
      "|     200|    222|     5| 876042340| Shining, The (1980)|\n",
      "|     210|     40|     3| 891035994|Indiana Jones and...|\n",
      "|     224|     29|     3| 888104457|     Ridicule (1996)|\n",
      "|     303|    785|     3| 879485318|  Ulee's Gold (1997)|\n",
      "|     122|    387|     5| 879270459|Cable Guy, The (1...|\n",
      "|     194|    274|     2| 879539794|   Sting, The (1973)|\n",
      "|     291|   1042|     4| 874834944|Absolute Power (1...|\n",
      "|     234|   1184|     2| 892079237|         Jaws (1975)|\n",
      "|     119|    392|     4| 886176814|Maya Lin: A Stron...|\n",
      "+--------+-------+------+----------+--------------------+\n",
      "only showing top 20 rows\n",
      "\n",
      "+--------------------+-------------+\n",
      "|          movie_name|count(rating)|\n",
      "+--------------------+-------------+\n",
      "|Heavenly Creature...|           20|\n",
      "|Night of the Livi...|           43|\n",
      "|English Patient, ...|          288|\n",
      "|Marvin's Room (1996)|           62|\n",
      "|101 Dalmatians (1...|           27|\n",
      "|    Notorious (1946)|          109|\n",
      "|     Outbreak (1995)|           65|\n",
      "|    Duck Soup (1933)|           65|\n",
      "|Addiction, The (1...|           37|\n",
      "|Gone with the Win...|           26|\n",
      "|         Jude (1996)|           36|\n",
      "|Stephen King's Th...|           30|\n",
      "|    Afterglow (1997)|          136|\n",
      "|Beverly Hills Nin...|          217|\n",
      "|Nosferatu a Venez...|           43|\n",
      "|      Copycat (1995)|          175|\n",
      "|Professional, The...|           21|\n",
      "|    Barcelona (1994)|           31|\n",
      "| Citizen Kane (1941)|           25|\n",
      "|        Crumb (1994)|           41|\n",
      "+--------------------+-------------+\n",
      "only showing top 20 rows"
     ]
    }
   ],
   "source": [
    "from pyspark.sql import functions as func\n",
    "#Specifying the schema instead of inferring it \n",
    "from pyspark.sql.types import StructType, StructField, IntegerType, StringType, BooleanType, DoubleType, LongType\n",
    "\n",
    "fileSchema = StructType([StructField('movie_id', IntegerType(),True),\n",
    "                        StructField('user_id', IntegerType(),True),\n",
    "                        StructField('rating', IntegerType(),True),\n",
    "                        StructField('time_stamp', LongType(),True)])\n",
    "\n",
    "movie_ratings = spark.read.load(\"s3://sparkbucket123/u.data\", format=\"csv\", sep=\"\\t\", schema = fileSchema, header=\"true\")\n",
    "movie_ratings.show();\n",
    "\n",
    "movie_rating_count = movie_ratings.groupBy('movie_id').agg(func.count(\"rating\"))\n",
    "\n",
    "movie_rating_count.show()\n",
    "\n",
    "\n",
    "#Reading the movie id and movie name\n",
    "movies = spark.read.load(\"s3://sparkbucket123/u.item\", format=\"csv\", sep=\"|\", inferSchema=\"true\", header=\"true\")\n",
    "movie_selected = movies.select('10', 'Toy Story (1995)')\n",
    "from functools import reduce\n",
    "oldColumns = movie_selected.schema.names\n",
    "newColumns = [\"movie_id\", \"movie_name\"]\n",
    "movie_names = reduce(lambda movie_selected, idx: movie_selected.withColumnRenamed(oldColumns[idx], newColumns[idx]), range(len(oldColumns)), movie_selected)\n",
    "movie_names.show()\n",
    "\n",
    "\n",
    "#Joining the two movies data\n",
    "joined_movie_data = movie_ratings.join(movie_names , [\"movie_id\"])\n",
    "joined_movie_data.show()\n",
    "\n",
    "\n",
    "#Finding which movie name got how many ratings\n",
    "movie_name_ratings_count = joined_movie_data.groupBy('movie_name').agg(func.count(\"rating\"))\n",
    "movie_name_ratings_count.show()\n",
    "\n",
    "\n",
    "#Saving this data in the disk to be used later\n",
    "movie_name_ratings_count.write.json(\"movie_ratings.json\")\n",
    "\n",
    "\n",
    "\n",
    "\n"
   ]
  },
  {
   "cell_type": "code",
   "execution_count": 3,
   "metadata": {},
   "outputs": [
    {
     "data": {
      "application/vnd.jupyter.widget-view+json": {
       "model_id": "e664215373d049d4a0c733df933672ee",
       "version_major": 2,
       "version_minor": 0
      },
      "text/plain": [
       "VBox()"
      ]
     },
     "metadata": {},
     "output_type": "display_data"
    },
    {
     "data": {
      "application/vnd.jupyter.widget-view+json": {
       "model_id": "",
       "version_major": 2,
       "version_minor": 0
      },
      "text/plain": [
       "FloatProgress(value=0.0, bar_style='info', description='Progress:', layout=Layout(height='25px', width='50%'),…"
      ]
     },
     "metadata": {},
     "output_type": "display_data"
    },
    {
     "name": "stdout",
     "output_type": "stream",
     "text": [
      "+-------------+--------------------+\n",
      "|count(rating)|          movie_name|\n",
      "+-------------+--------------------+\n",
      "|           89| Dante's Peak (1997)|\n",
      "|           44|   Carrington (1995)|\n",
      "|          150|    Liar Liar (1997)|\n",
      "|           27|      Air Bud (1997)|\n",
      "|           25|  Deep Rising (1998)|\n",
      "|          238|Smilla's Sense of...|\n",
      "|          283|Conspiracy Theory...|\n",
      "|          357|Mary Shelley's Fr...|\n",
      "|          166| Paris, Texas (1984)|\n",
      "|          183|Kiss the Girls (1...|\n",
      "|           63|       Aliens (1986)|\n",
      "|           43|My Life as a Dog ...|\n",
      "|          155|Much Ado About No...|\n",
      "|           23| Bed of Roses (1996)|\n",
      "|          124|    Mr. Magoo (1997)|\n",
      "|          124|     Rosewood (1997)|\n",
      "|           21|Wings of Desire (...|\n",
      "|           49|Bloody Child, The...|\n",
      "|           46|Hunt for Red Octo...|\n",
      "|          187|Grand Day Out, A ...|\n",
      "+-------------+--------------------+\n",
      "only showing top 20 rows"
     ]
    }
   ],
   "source": [
    "#Reading it later\n",
    "movie_ratings_stored=spark.read.json(\"movie_ratings.json\")\n",
    "movie_ratings_stored.show()"
   ]
  },
  {
   "cell_type": "code",
   "execution_count": null,
   "metadata": {},
   "outputs": [],
   "source": []
  }
 ],
 "metadata": {
  "kernelspec": {
   "display_name": "PySpark",
   "language": "",
   "name": "pysparkkernel"
  },
  "language_info": {
   "codemirror_mode": {
    "name": "python",
    "version": 2
   },
   "mimetype": "text/x-python",
   "name": "pyspark",
   "pygments_lexer": "python2"
  }
 },
 "nbformat": 4,
 "nbformat_minor": 4
}
