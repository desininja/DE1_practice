{
 "cells": [
  {
   "cell_type": "code",
   "execution_count": 2,
   "metadata": {},
   "outputs": [],
   "source": [
    "from pyspark.sql import SparkSession\n",
    "spark = SparkSession.builder.appName(\"File Formats\").master('local').getOrCreate()\n",
    "sc = spark.sparkContext"
   ]
  },
  {
   "cell_type": "code",
   "execution_count": 4,
   "metadata": {},
   "outputs": [
    {
     "data": {
      "text/html": [
       "\n",
       "        <div>\n",
       "            <p><b>SparkContext</b></p>\n",
       "\n",
       "            <p><a href=\"http://192.168.1.6:4042\">Spark UI</a></p>\n",
       "\n",
       "            <dl>\n",
       "              <dt>Version</dt>\n",
       "                <dd><code>v3.3.1</code></dd>\n",
       "              <dt>Master</dt>\n",
       "                <dd><code>local</code></dd>\n",
       "              <dt>AppName</dt>\n",
       "                <dd><code>File Formats</code></dd>\n",
       "            </dl>\n",
       "        </div>\n",
       "        "
      ],
      "text/plain": [
       "<SparkContext master=local appName=File Formats>"
      ]
     },
     "execution_count": 4,
     "metadata": {},
     "output_type": "execute_result"
    }
   ],
   "source": [
    "sc"
   ]
  },
  {
   "cell_type": "code",
   "execution_count": 3,
   "metadata": {},
   "outputs": [],
   "source": [
    "df=spark.read.json('Electronics_5.json')\n"
   ]
  },
  {
   "cell_type": "code",
   "execution_count": 5,
   "metadata": {},
   "outputs": [],
   "source": [
    "df.write.parquet(\"amazon_data.parquet\")"
   ]
  },
  {
   "cell_type": "code",
   "execution_count": 6,
   "metadata": {},
   "outputs": [],
   "source": [
    "df.write.orc(\"amazon_data.orc\")"
   ]
  },
  {
   "cell_type": "code",
   "execution_count": 7,
   "metadata": {},
   "outputs": [],
   "source": [
    "df.write.json(\"amazon_data.json\")"
   ]
  },
  {
   "cell_type": "code",
   "execution_count": 8,
   "metadata": {},
   "outputs": [],
   "source": [
    "df_read=spark.read.json(\"amazon_data.json\")"
   ]
  },
  {
   "cell_type": "code",
   "execution_count": 9,
   "metadata": {},
   "outputs": [],
   "source": [
    "df2 = spark.read.parquet(\"amazon_data.parquet\")"
   ]
  },
  {
   "cell_type": "code",
   "execution_count": 10,
   "metadata": {},
   "outputs": [
    {
     "name": "stdout",
     "output_type": "stream",
     "text": [
      "+----------+-------+-------+--------------------+-----------+--------------+--------------------+--------------------+--------------+\n",
      "|      asin|helpful|overall|          reviewText| reviewTime|    reviewerID|        reviewerName|             summary|unixReviewTime|\n",
      "+----------+-------+-------+--------------------+-----------+--------------+--------------------+--------------------+--------------+\n",
      "|B00BDCF5JK| [4, 4]|    5.0|I purchased the A...| 11 9, 2013|A16KHL9MX9FXV3|        Scott Miller|Very good protect...|    1383955200|\n",
      "|B00BDCF716| [1, 2]|    3.0|Only the carbon f...|08 22, 2013| ANUF4LWX96DXW|            Bau Kieu|           Half Good|    1377129600|\n",
      "|B00BDCF716| [4, 4]|    4.0|The CF looks grea...| 06 6, 2013|A20RSO8H7Z772Y|         droid owner|CF is awesome, Sc...|    1370476800|\n",
      "|B00BDCF716| [1, 1]|    4.0|My pen scratched ...|10 29, 2013|A1THQXOSQUPPNP|     Kindle Customer|Carbon Fiber was ...|    1383004800|\n",
      "|B00BDCF716| [0, 0]|    4.0|It is exactly wha...| 12 3, 2013|A2ZX1HG813DPXI|         Nail Akkaya|Bought this for t...|    1386028800|\n",
      "|B00BDCF716| [3, 5]|    5.0|This is good to p...|04 14, 2013|A34YWZOWH06JGZ|             Ngejung|Carbon Fiber look...|    1365897600|\n",
      "|B00BDCF716| [1, 2]|    3.0|My review is only...| 03 7, 2014|A1N2CS070PSEGM|            Raxavier|Good materials an...|    1394150400|\n",
      "|B00BDCF716| [0, 1]|    1.0|The back ones are...|02 28, 2014|A2UNV3G6ND33HU|            Ruby Fan|Side protection f...|    1393545600|\n",
      "|B00BDCF716| [2, 2]|    5.0|The carbon fiber ...|04 24, 2013|A3I8J69MRH1GUA|           Thirdbase|Came out very nic...|    1366761600|\n",
      "|B00BDE4IUK| [2, 5]|    5.0|this is a great p...|07 29, 2013|A371EYWDGHVSAK|               basti|       great product|    1375056000|\n",
      "|B00BDE4IUK| [1, 2]|    5.0|I bought one seve...|04 23, 2014|A2W51GKIG66IWF|               dca74|Excellent Antenna!!!|    1398211200|\n",
      "|B00BDE4IUK| [1, 3]|    1.0|NOT WINDOWS 8 COM...| 02 1, 2014|A158YH0GXUGSP0|          EmiliaWink|Will be returning...|    1391212800|\n",
      "|B00BDE4IUK| [0, 0]|    5.0|installed antenna...|06 21, 2014|A1FMWQSOFR56N4|          Hummer2004|Works Great,found...|    1403308800|\n",
      "|B00BDE4IUK| [4, 5]|    3.0|works,its cheap,w...|01 18, 2014| A4O8ZK9XVPP8S| Michael Griffith Jr|ok signal drops b...|    1390003200|\n",
      "|B00BDE4IUK| [8, 8]|    5.0|Excellent item. I...|03 28, 2014|A23Y31KV0RBKKN|     Peter Caslavsky|          God thing.|    1395964800|\n",
      "|B00BDE4IUK| [2, 3]|    5.0|I just received t...| 04 8, 2014|A1DZQ7L2F18Z37|     Ryan K Clemence|   This thing rocks!|    1396915200|\n",
      "|B00BDJ93JQ| [0, 0]|    5.0|I was in need of ...|11 22, 2013|A1H4IVXNXWWBLV|Chilehead Photogr...|Good value for Co...|    1385078400|\n",
      "|B00BDJ93JQ| [0, 0]|    5.0|This kit works ju...| 06 7, 2013| AXDJBA1LYQ4RR|               chris|           Great Kit|    1370563200|\n",
      "|B00BDJ93JQ| [1, 1]|    5.0|So for the price ...| 04 6, 2013|A395C200US350X|   J. Smith \"MacJoe\"|              WOW !!|    1365206400|\n",
      "|B00BDJ93JQ| [0, 0]|    5.0|Great kit.  You n...| 09 2, 2013|A1YFA1YEW6UB8H|            Ned_Heds|kit is a great value|    1378080000|\n",
      "+----------+-------+-------+--------------------+-----------+--------------+--------------------+--------------------+--------------+\n",
      "only showing top 20 rows\n",
      "\n"
     ]
    }
   ],
   "source": [
    "df3 = spark.read.orc(\"amazon_data.orc\")\n",
    "df3.show()"
   ]
  },
  {
   "cell_type": "code",
   "execution_count": null,
   "metadata": {},
   "outputs": [],
   "source": []
  }
 ],
 "metadata": {
  "kernelspec": {
   "display_name": "Python 3",
   "language": "python",
   "name": "python3"
  },
  "language_info": {
   "codemirror_mode": {
    "name": "ipython",
    "version": 3
   },
   "file_extension": ".py",
   "mimetype": "text/x-python",
   "name": "python",
   "nbconvert_exporter": "python",
   "pygments_lexer": "ipython3",
   "version": "3.8.5"
  }
 },
 "nbformat": 4,
 "nbformat_minor": 4
}
